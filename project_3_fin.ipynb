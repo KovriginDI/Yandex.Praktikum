{
 "cells": [
  {
   "cell_type": "markdown",
   "metadata": {},
   "source": [
    "### Цель: \n",
    "- исследование поведения клиентов оператора сотовой связи,  \n",
    "- определение наиболее прибыльного и перспективного тарифного плана, \n",
    "- проверка гипотез о различии средней выручки:\n",
    "        1) пользователей тарифов «Ультра» и «Смарт»\n",
    "        2) пользователей из Москвы и пользователей из других регионов"
   ]
  },
  {
   "cell_type": "markdown",
   "metadata": {},
   "source": [
    "### Шаг 1. Открываю файлы с данными и изучаю общую информацию"
   ]
  },
  {
   "cell_type": "code",
   "execution_count": 54,
   "metadata": {},
   "outputs": [],
   "source": [
    "import pandas as pd\n",
    "import numpy as np\n",
    "from matplotlib import pyplot as plt\n",
    "from scipy import stats as st"
   ]
  },
  {
   "cell_type": "code",
   "execution_count": 55,
   "metadata": {},
   "outputs": [],
   "source": [
    "calls = pd.read_csv('./datasets/calls.csv')\n",
    "internet  = pd.read_csv('./datasets/internet.csv')\n",
    "sms = pd.read_csv('./datasets/messages.csv')\n",
    "users = pd.read_csv('./datasets/users.csv')\n",
    "tariffs = pd.read_csv('./datasets/tariffs.csv')"
   ]
  },
  {
   "cell_type": "code",
   "execution_count": 56,
   "metadata": {},
   "outputs": [],
   "source": [
    "datasets = [calls, internet, sms, users, tariffs]"
   ]
  },
  {
   "cell_type": "markdown",
   "metadata": {},
   "source": [
    "Пропуски в столбце `churn_date` датафрейма `users`. Более 90% клиентов из выборки ещё продолжают пользоваться указанными тарифами. Данные стобца `churn_date` не участвуют в дальнейших расчетах."
   ]
  },
  {
   "cell_type": "markdown",
   "metadata": {},
   "source": [
    "В нескольких столбцах со значениями даты данные имеют формат `object`."
   ]
  },
  {
   "cell_type": "code",
   "execution_count": 57,
   "metadata": {},
   "outputs": [
    {
     "name": "stdout",
     "output_type": "stream",
     "text": [
      "<class 'pandas.core.frame.DataFrame'>\n",
      "RangeIndex: 202607 entries, 0 to 202606\n",
      "Data columns (total 4 columns):\n",
      "id           202607 non-null object\n",
      "call_date    202607 non-null object\n",
      "duration     202607 non-null float64\n",
      "user_id      202607 non-null int64\n",
      "dtypes: float64(1), int64(1), object(2)\n",
      "memory usage: 6.2+ MB\n",
      "None\n",
      "<class 'pandas.core.frame.DataFrame'>\n",
      "RangeIndex: 149396 entries, 0 to 149395\n",
      "Data columns (total 5 columns):\n",
      "Unnamed: 0      149396 non-null int64\n",
      "id              149396 non-null object\n",
      "mb_used         149396 non-null float64\n",
      "session_date    149396 non-null object\n",
      "user_id         149396 non-null int64\n",
      "dtypes: float64(1), int64(2), object(2)\n",
      "memory usage: 5.7+ MB\n",
      "None\n",
      "<class 'pandas.core.frame.DataFrame'>\n",
      "RangeIndex: 123036 entries, 0 to 123035\n",
      "Data columns (total 3 columns):\n",
      "id              123036 non-null object\n",
      "message_date    123036 non-null object\n",
      "user_id         123036 non-null int64\n",
      "dtypes: int64(1), object(2)\n",
      "memory usage: 2.8+ MB\n",
      "None\n",
      "<class 'pandas.core.frame.DataFrame'>\n",
      "RangeIndex: 500 entries, 0 to 499\n",
      "Data columns (total 8 columns):\n",
      "user_id       500 non-null int64\n",
      "age           500 non-null int64\n",
      "churn_date    38 non-null object\n",
      "city          500 non-null object\n",
      "first_name    500 non-null object\n",
      "last_name     500 non-null object\n",
      "reg_date      500 non-null object\n",
      "tariff        500 non-null object\n",
      "dtypes: int64(2), object(6)\n",
      "memory usage: 31.3+ KB\n",
      "None\n",
      "<class 'pandas.core.frame.DataFrame'>\n",
      "RangeIndex: 2 entries, 0 to 1\n",
      "Data columns (total 8 columns):\n",
      "messages_included        2 non-null int64\n",
      "mb_per_month_included    2 non-null int64\n",
      "minutes_included         2 non-null int64\n",
      "rub_monthly_fee          2 non-null int64\n",
      "rub_per_gb               2 non-null int64\n",
      "rub_per_message          2 non-null int64\n",
      "rub_per_minute           2 non-null int64\n",
      "tariff_name              2 non-null object\n",
      "dtypes: int64(7), object(1)\n",
      "memory usage: 208.0+ bytes\n",
      "None\n"
     ]
    }
   ],
   "source": [
    "for i in datasets:\n",
    "    print(i.info())"
   ]
  },
  {
   "cell_type": "code",
   "execution_count": 58,
   "metadata": {},
   "outputs": [
    {
     "name": "stdout",
     "output_type": "stream",
     "text": [
      "       id   call_date  duration  user_id\n",
      "0  1000_0  2018-07-25      0.00     1000\n",
      "1  1000_1  2018-08-17      0.00     1000\n",
      "2  1000_2  2018-06-11      2.85     1000\n",
      "3  1000_3  2018-09-21     13.80     1000\n",
      "4  1000_4  2018-12-15      5.18     1000\n",
      "   Unnamed: 0      id  mb_used session_date  user_id\n",
      "0           0  1000_0   112.95   2018-11-25     1000\n",
      "1           1  1000_1  1052.81   2018-09-07     1000\n",
      "2           2  1000_2  1197.26   2018-06-25     1000\n",
      "3           3  1000_3   550.27   2018-08-22     1000\n",
      "4           4  1000_4   302.56   2018-09-24     1000\n",
      "       id message_date  user_id\n",
      "0  1000_0   2018-06-27     1000\n",
      "1  1000_1   2018-10-08     1000\n",
      "2  1000_2   2018-08-04     1000\n",
      "3  1000_3   2018-06-16     1000\n",
      "4  1000_4   2018-12-05     1000\n",
      "   user_id  age churn_date         city first_name  last_name    reg_date  \\\n",
      "0     1000   52        NaN    Краснодар     Рафаил  Верещагин  2018-05-25   \n",
      "1     1001   41        NaN       Москва       Иван       Ежов  2018-11-01   \n",
      "2     1002   59        NaN  Стерлитамак    Евгений  Абрамович  2018-06-17   \n",
      "3     1003   23        NaN       Москва      Белла   Белякова  2018-08-17   \n",
      "4     1004   68        NaN  Новокузнецк    Татьяна   Авдеенко  2018-05-14   \n",
      "\n",
      "  tariff  \n",
      "0  ultra  \n",
      "1  smart  \n",
      "2  smart  \n",
      "3  ultra  \n",
      "4  ultra  \n",
      "   messages_included  mb_per_month_included  minutes_included  \\\n",
      "0                 50                  15360               500   \n",
      "1               1000                  30720              3000   \n",
      "\n",
      "   rub_monthly_fee  rub_per_gb  rub_per_message  rub_per_minute tariff_name  \n",
      "0              550         200                3               3       smart  \n",
      "1             1950         150                1               1       ultra  \n"
     ]
    }
   ],
   "source": [
    "for i in datasets:\n",
    "    print(i.head())"
   ]
  },
  {
   "cell_type": "code",
   "execution_count": 59,
   "metadata": {},
   "outputs": [
    {
     "name": "stdout",
     "output_type": "stream",
     "text": [
      "             id   call_date  duration  user_id\n",
      "24224  1061_304  2018-11-15      5.12     1061\n",
      "        Unnamed: 0       id  mb_used session_date  user_id\n",
      "105882      105882  1358_76   215.02   2018-05-21     1358\n",
      "             id message_date  user_id\n",
      "30682  1134_400   2018-01-21     1134\n",
      "     user_id  age churn_date       city  first_name last_name    reg_date  \\\n",
      "284     1284   62        NaN  Волгоград  Евфросинья  Петухова  2018-03-16   \n",
      "\n",
      "    tariff  \n",
      "284  smart  \n",
      "   messages_included  mb_per_month_included  minutes_included  \\\n",
      "1               1000                  30720              3000   \n",
      "\n",
      "   rub_monthly_fee  rub_per_gb  rub_per_message  rub_per_minute tariff_name  \n",
      "1             1950         150                1               1       ultra  \n"
     ]
    }
   ],
   "source": [
    "for i in datasets:\n",
    "    print(i.sample())"
   ]
  },
  {
   "cell_type": "code",
   "execution_count": 60,
   "metadata": {},
   "outputs": [
    {
     "name": "stdout",
     "output_type": "stream",
     "text": [
      "              id   call_date  duration  user_id\n",
      "202602  1499_215  2018-12-26      0.76     1499\n",
      "202603  1499_216  2018-10-18     18.83     1499\n",
      "202604  1499_217  2018-11-10     10.81     1499\n",
      "202605  1499_218  2018-10-06      4.27     1499\n",
      "202606  1499_219  2018-12-14     19.62     1499\n",
      "        Unnamed: 0        id  mb_used session_date  user_id\n",
      "149391      149391  1499_152   318.90   2018-10-03     1499\n",
      "149392      149392  1499_153   490.13   2018-12-14     1499\n",
      "149393      149393  1499_154     0.00   2018-10-27     1499\n",
      "149394      149394  1499_155  1246.32   2018-11-26     1499\n",
      "149395      149395  1499_156   544.37   2018-10-26     1499\n",
      "              id message_date  user_id\n",
      "123031  1499_179   2018-12-12     1499\n",
      "123032  1499_180   2018-09-28     1499\n",
      "123033  1499_181   2018-09-27     1499\n",
      "123034  1499_182   2018-11-15     1499\n",
      "123035  1499_183   2018-11-16     1499\n",
      "     user_id  age  churn_date         city first_name last_name    reg_date  \\\n",
      "495     1495   65         NaN      Иркутск  Авксентий     Фокин  2018-08-28   \n",
      "496     1496   36         NaN      Вологда     Трифон    Блохин  2018-01-27   \n",
      "497     1497   32         NaN    Челябинск   Каролина    Агеева  2018-10-09   \n",
      "498     1498   68  2018-10-25  Владикавказ   Всеволод   Акимчин  2018-07-19   \n",
      "499     1499   35         NaN        Пермь     Гектор  Корнилов  2018-09-27   \n",
      "\n",
      "    tariff  \n",
      "495  ultra  \n",
      "496  smart  \n",
      "497  smart  \n",
      "498  smart  \n",
      "499  smart  \n",
      "   messages_included  mb_per_month_included  minutes_included  \\\n",
      "0                 50                  15360               500   \n",
      "1               1000                  30720              3000   \n",
      "\n",
      "   rub_monthly_fee  rub_per_gb  rub_per_message  rub_per_minute tariff_name  \n",
      "0              550         200                3               3       smart  \n",
      "1             1950         150                1               1       ultra  \n"
     ]
    }
   ],
   "source": [
    "for i in datasets:\n",
    "    print(i.tail())"
   ]
  },
  {
   "cell_type": "markdown",
   "metadata": {},
   "source": [
    "### Шаг 2. Подготовка данныx"
   ]
  },
  {
   "cell_type": "markdown",
   "metadata": {},
   "source": [
    "Перевожу в формат `datetime` значения в стобцах с датами."
   ]
  },
  {
   "cell_type": "code",
   "execution_count": 61,
   "metadata": {},
   "outputs": [],
   "source": [
    "for file in datasets:\n",
    "    for column in file.columns:\n",
    "        if '_date' in column:\n",
    "            file[column] = pd.to_datetime(file[column], format='%Y.%m.%d')"
   ]
  },
  {
   "cell_type": "markdown",
   "metadata": {},
   "source": [
    "Добавляю информацию о клиентах к информации о звонках - объединяю датафремы `users` и `calls` на основе `user_id`"
   ]
  },
  {
   "cell_type": "code",
   "execution_count": 62,
   "metadata": {},
   "outputs": [],
   "source": [
    "users_calls = calls.merge(users, on='user_id', how='left')"
   ]
  },
  {
   "cell_type": "markdown",
   "metadata": {},
   "source": [
    "Около 20% звонков имеют длительность 0 минут. Основная гипотеза, что это ошибка измерения сверхмалых значений. Поэтому заменяю на 1 минуту."
   ]
  },
  {
   "cell_type": "code",
   "execution_count": 63,
   "metadata": {},
   "outputs": [
    {
     "data": {
      "text/plain": [
       "39613"
      ]
     },
     "execution_count": 63,
     "metadata": {},
     "output_type": "execute_result"
    }
   ],
   "source": [
    "users_calls.query('duration == 0.00')['duration'].count()"
   ]
  },
  {
   "cell_type": "code",
   "execution_count": 64,
   "metadata": {},
   "outputs": [
    {
     "data": {
      "text/plain": [
       "162994"
      ]
     },
     "execution_count": 64,
     "metadata": {},
     "output_type": "execute_result"
    }
   ],
   "source": [
    "users_calls.query('duration != 0.00')['duration'].count()"
   ]
  },
  {
   "cell_type": "code",
   "execution_count": 65,
   "metadata": {},
   "outputs": [],
   "source": [
    "users_calls['duration'] = users_calls['duration'].replace(0, 1)"
   ]
  },
  {
   "cell_type": "markdown",
   "metadata": {},
   "source": [
    "В соответствии с правилами оператора сотовой связи о поминутной тарификации, округляю вверх значения `duration` "
   ]
  },
  {
   "cell_type": "code",
   "execution_count": 66,
   "metadata": {},
   "outputs": [],
   "source": [
    "users_calls['duration'] = np.ceil(users_calls['duration'])"
   ]
  },
  {
   "cell_type": "markdown",
   "metadata": {},
   "source": [
    "Меняю в `duration` тип данных на `int`, потому что значения измеряются в целых минутах "
   ]
  },
  {
   "cell_type": "code",
   "execution_count": 67,
   "metadata": {},
   "outputs": [],
   "source": [
    "users_calls['duration'] = users_calls['duration'].astype('int')"
   ]
  },
  {
   "cell_type": "markdown",
   "metadata": {},
   "source": [
    "Добавляю информацию о клиентах к информации об интернет-сессиях - объединяю датафремы `users` и `internet` на основе `user_id`"
   ]
  },
  {
   "cell_type": "code",
   "execution_count": 68,
   "metadata": {},
   "outputs": [],
   "source": [
    "users_internet = internet.merge(users, on='user_id', how='left')"
   ]
  },
  {
   "cell_type": "markdown",
   "metadata": {},
   "source": [
    "В соответствии с правилами оператора сотовой связи о помегабайтной тарификации, округляю вверх значения `mb_used` "
   ]
  },
  {
   "cell_type": "code",
   "execution_count": 69,
   "metadata": {},
   "outputs": [],
   "source": [
    "users_internet['mb_used'] = np.ceil(users_internet['mb_used'])"
   ]
  },
  {
   "cell_type": "markdown",
   "metadata": {},
   "source": [
    "Меняю в `mb_used` тип данных на `int`, потому что значения измеряются в целых мегабайтах"
   ]
  },
  {
   "cell_type": "code",
   "execution_count": 70,
   "metadata": {},
   "outputs": [],
   "source": [
    "users_internet['mb_used'] = users_internet['mb_used'].astype('int')"
   ]
  },
  {
   "cell_type": "markdown",
   "metadata": {},
   "source": [
    "Добавляю информацию о клиентах к информации о сообщениях - объединяю датафремы `users` и `sms` на основе `user_id`"
   ]
  },
  {
   "cell_type": "code",
   "execution_count": 71,
   "metadata": {},
   "outputs": [],
   "source": [
    "users_sms = sms.merge(users, on='user_id', how='left')"
   ]
  },
  {
   "cell_type": "markdown",
   "metadata": {},
   "source": [
    "В каждом датафрейме с определенным типом связи создаю новый столбец `month` со значениями месяца"
   ]
  },
  {
   "cell_type": "code",
   "execution_count": 72,
   "metadata": {},
   "outputs": [],
   "source": [
    "users_calls['month'] = pd.DatetimeIndex(users_calls['call_date']).month\n",
    "users_sms['month'] = pd.DatetimeIndex(users_sms['message_date']).month\n",
    "users_internet['month'] = pd.DatetimeIndex(users_internet['session_date']).month"
   ]
  },
  {
   "cell_type": "markdown",
   "metadata": {},
   "source": [
    "#### 1) Количество сделанных звонков по месяцам для каждого клиента"
   ]
  },
  {
   "cell_type": "markdown",
   "metadata": {},
   "source": [
    "Группирую датафрейм с информацией о звонках и клиентах по id клиента и месяцу"
   ]
  },
  {
   "cell_type": "code",
   "execution_count": 73,
   "metadata": {},
   "outputs": [
    {
     "data": {
      "text/html": [
       "<div>\n",
       "<style scoped>\n",
       "    .dataframe tbody tr th:only-of-type {\n",
       "        vertical-align: middle;\n",
       "    }\n",
       "\n",
       "    .dataframe tbody tr th {\n",
       "        vertical-align: top;\n",
       "    }\n",
       "\n",
       "    .dataframe thead th {\n",
       "        text-align: right;\n",
       "    }\n",
       "</style>\n",
       "<table border=\"1\" class=\"dataframe\">\n",
       "  <thead>\n",
       "    <tr style=\"text-align: right;\">\n",
       "      <th></th>\n",
       "      <th>user_id</th>\n",
       "      <th>month</th>\n",
       "      <th>count</th>\n",
       "    </tr>\n",
       "  </thead>\n",
       "  <tbody>\n",
       "    <tr>\n",
       "      <th>0</th>\n",
       "      <td>1000</td>\n",
       "      <td>5</td>\n",
       "      <td>22</td>\n",
       "    </tr>\n",
       "    <tr>\n",
       "      <th>1</th>\n",
       "      <td>1000</td>\n",
       "      <td>6</td>\n",
       "      <td>43</td>\n",
       "    </tr>\n",
       "    <tr>\n",
       "      <th>2</th>\n",
       "      <td>1000</td>\n",
       "      <td>7</td>\n",
       "      <td>47</td>\n",
       "    </tr>\n",
       "    <tr>\n",
       "      <th>3</th>\n",
       "      <td>1000</td>\n",
       "      <td>8</td>\n",
       "      <td>52</td>\n",
       "    </tr>\n",
       "    <tr>\n",
       "      <th>4</th>\n",
       "      <td>1000</td>\n",
       "      <td>9</td>\n",
       "      <td>58</td>\n",
       "    </tr>\n",
       "  </tbody>\n",
       "</table>\n",
       "</div>"
      ],
      "text/plain": [
       "   user_id  month  count\n",
       "0     1000      5     22\n",
       "1     1000      6     43\n",
       "2     1000      7     47\n",
       "3     1000      8     52\n",
       "4     1000      9     58"
      ]
     },
     "execution_count": 73,
     "metadata": {},
     "output_type": "execute_result"
    }
   ],
   "source": [
    "calls_m = users_calls.groupby(['user_id', 'month'])['id'].count()\n",
    "calls_m = calls_m.reset_index()\n",
    "calls_m = calls_m.rename(columns={'id': 'count'})\n",
    "calls_m.head()"
   ]
  },
  {
   "cell_type": "markdown",
   "metadata": {},
   "source": [
    "#### 2) Количество израсходованных минут разговора по месяцам для каждого клиента"
   ]
  },
  {
   "cell_type": "markdown",
   "metadata": {},
   "source": [
    "Проверяю, что у каждого `user_id` только один город"
   ]
  },
  {
   "cell_type": "code",
   "execution_count": 74,
   "metadata": {},
   "outputs": [
    {
     "name": "stdout",
     "output_type": "stream",
     "text": [
      "[]\n"
     ]
    }
   ],
   "source": [
    "for i in users['user_id']:\n",
    "    L = []\n",
    "    if len(users.query('user_id == @i')['city']) > 1:\n",
    "        L.append(i)\n",
    "print(L)"
   ]
  },
  {
   "cell_type": "markdown",
   "metadata": {},
   "source": [
    "Группирую датафрейм с информацией о звонках и клиентах по id клиента и месяцу. Данные о городе и тарифе будут полезны в дальнейшей работе"
   ]
  },
  {
   "cell_type": "code",
   "execution_count": 75,
   "metadata": {},
   "outputs": [],
   "source": [
    "month_m = users_calls.groupby(['user_id', 'month', 'city', 'tariff'])[['duration']].sum()"
   ]
  },
  {
   "cell_type": "code",
   "execution_count": 76,
   "metadata": {},
   "outputs": [],
   "source": [
    "month_m = month_m.reset_index()"
   ]
  },
  {
   "cell_type": "code",
   "execution_count": 77,
   "metadata": {},
   "outputs": [
    {
     "data": {
      "text/html": [
       "<div>\n",
       "<style scoped>\n",
       "    .dataframe tbody tr th:only-of-type {\n",
       "        vertical-align: middle;\n",
       "    }\n",
       "\n",
       "    .dataframe tbody tr th {\n",
       "        vertical-align: top;\n",
       "    }\n",
       "\n",
       "    .dataframe thead th {\n",
       "        text-align: right;\n",
       "    }\n",
       "</style>\n",
       "<table border=\"1\" class=\"dataframe\">\n",
       "  <thead>\n",
       "    <tr style=\"text-align: right;\">\n",
       "      <th></th>\n",
       "      <th>user_id</th>\n",
       "      <th>month</th>\n",
       "      <th>city</th>\n",
       "      <th>tariff</th>\n",
       "      <th>duration</th>\n",
       "    </tr>\n",
       "  </thead>\n",
       "  <tbody>\n",
       "    <tr>\n",
       "      <th>0</th>\n",
       "      <td>1000</td>\n",
       "      <td>5</td>\n",
       "      <td>Краснодар</td>\n",
       "      <td>ultra</td>\n",
       "      <td>164</td>\n",
       "    </tr>\n",
       "    <tr>\n",
       "      <th>1</th>\n",
       "      <td>1000</td>\n",
       "      <td>6</td>\n",
       "      <td>Краснодар</td>\n",
       "      <td>ultra</td>\n",
       "      <td>187</td>\n",
       "    </tr>\n",
       "    <tr>\n",
       "      <th>2</th>\n",
       "      <td>1000</td>\n",
       "      <td>7</td>\n",
       "      <td>Краснодар</td>\n",
       "      <td>ultra</td>\n",
       "      <td>346</td>\n",
       "    </tr>\n",
       "    <tr>\n",
       "      <th>3</th>\n",
       "      <td>1000</td>\n",
       "      <td>8</td>\n",
       "      <td>Краснодар</td>\n",
       "      <td>ultra</td>\n",
       "      <td>418</td>\n",
       "    </tr>\n",
       "    <tr>\n",
       "      <th>4</th>\n",
       "      <td>1000</td>\n",
       "      <td>9</td>\n",
       "      <td>Краснодар</td>\n",
       "      <td>ultra</td>\n",
       "      <td>478</td>\n",
       "    </tr>\n",
       "  </tbody>\n",
       "</table>\n",
       "</div>"
      ],
      "text/plain": [
       "   user_id  month       city tariff  duration\n",
       "0     1000      5  Краснодар  ultra       164\n",
       "1     1000      6  Краснодар  ultra       187\n",
       "2     1000      7  Краснодар  ultra       346\n",
       "3     1000      8  Краснодар  ultra       418\n",
       "4     1000      9  Краснодар  ultra       478"
      ]
     },
     "execution_count": 77,
     "metadata": {},
     "output_type": "execute_result"
    }
   ],
   "source": [
    "month_m.head()"
   ]
  },
  {
   "cell_type": "markdown",
   "metadata": {},
   "source": [
    "#### 3) Количество отправленных сообщений по месяцам для каждого клиента"
   ]
  },
  {
   "cell_type": "markdown",
   "metadata": {},
   "source": [
    "Группирую датафрейм с информацией о сообщениях и клиентах по id клиента и месяцу. Данные о городе и тарифе будут полезны в дальнейшей работе"
   ]
  },
  {
   "cell_type": "code",
   "execution_count": 78,
   "metadata": {},
   "outputs": [],
   "source": [
    "sms_m = users_sms.groupby(['user_id', 'month', 'city', 'tariff'])[['id']].count()\n",
    "sms_m = sms_m.reset_index()"
   ]
  },
  {
   "cell_type": "code",
   "execution_count": 79,
   "metadata": {},
   "outputs": [],
   "source": [
    "sms_m = sms_m.rename(columns={'id': 'sms'})"
   ]
  },
  {
   "cell_type": "code",
   "execution_count": 80,
   "metadata": {},
   "outputs": [
    {
     "data": {
      "text/html": [
       "<div>\n",
       "<style scoped>\n",
       "    .dataframe tbody tr th:only-of-type {\n",
       "        vertical-align: middle;\n",
       "    }\n",
       "\n",
       "    .dataframe tbody tr th {\n",
       "        vertical-align: top;\n",
       "    }\n",
       "\n",
       "    .dataframe thead th {\n",
       "        text-align: right;\n",
       "    }\n",
       "</style>\n",
       "<table border=\"1\" class=\"dataframe\">\n",
       "  <thead>\n",
       "    <tr style=\"text-align: right;\">\n",
       "      <th></th>\n",
       "      <th>user_id</th>\n",
       "      <th>month</th>\n",
       "      <th>city</th>\n",
       "      <th>tariff</th>\n",
       "      <th>sms</th>\n",
       "    </tr>\n",
       "  </thead>\n",
       "  <tbody>\n",
       "    <tr>\n",
       "      <th>0</th>\n",
       "      <td>1000</td>\n",
       "      <td>5</td>\n",
       "      <td>Краснодар</td>\n",
       "      <td>ultra</td>\n",
       "      <td>22</td>\n",
       "    </tr>\n",
       "    <tr>\n",
       "      <th>1</th>\n",
       "      <td>1000</td>\n",
       "      <td>6</td>\n",
       "      <td>Краснодар</td>\n",
       "      <td>ultra</td>\n",
       "      <td>60</td>\n",
       "    </tr>\n",
       "    <tr>\n",
       "      <th>2</th>\n",
       "      <td>1000</td>\n",
       "      <td>7</td>\n",
       "      <td>Краснодар</td>\n",
       "      <td>ultra</td>\n",
       "      <td>75</td>\n",
       "    </tr>\n",
       "    <tr>\n",
       "      <th>3</th>\n",
       "      <td>1000</td>\n",
       "      <td>8</td>\n",
       "      <td>Краснодар</td>\n",
       "      <td>ultra</td>\n",
       "      <td>81</td>\n",
       "    </tr>\n",
       "    <tr>\n",
       "      <th>4</th>\n",
       "      <td>1000</td>\n",
       "      <td>9</td>\n",
       "      <td>Краснодар</td>\n",
       "      <td>ultra</td>\n",
       "      <td>57</td>\n",
       "    </tr>\n",
       "  </tbody>\n",
       "</table>\n",
       "</div>"
      ],
      "text/plain": [
       "   user_id  month       city tariff  sms\n",
       "0     1000      5  Краснодар  ultra   22\n",
       "1     1000      6  Краснодар  ultra   60\n",
       "2     1000      7  Краснодар  ultra   75\n",
       "3     1000      8  Краснодар  ultra   81\n",
       "4     1000      9  Краснодар  ultra   57"
      ]
     },
     "execution_count": 80,
     "metadata": {},
     "output_type": "execute_result"
    }
   ],
   "source": [
    "sms_m.head()"
   ]
  },
  {
   "cell_type": "markdown",
   "metadata": {},
   "source": [
    "#### 4) Oбъем израсходованного интернет-трафика по месяцам для каждого клиента"
   ]
  },
  {
   "cell_type": "markdown",
   "metadata": {},
   "source": [
    "Группирую датафрейм с информацией об интернет-сессиях и клиентах по id клиента и месяцу. Данные о городе и тарифе будут полезны в дальнейшей работе"
   ]
  },
  {
   "cell_type": "code",
   "execution_count": 81,
   "metadata": {},
   "outputs": [],
   "source": [
    "mb_m = users_internet.groupby(['user_id', 'month', 'city', 'tariff'])[['mb_used']].sum()"
   ]
  },
  {
   "cell_type": "code",
   "execution_count": 82,
   "metadata": {},
   "outputs": [],
   "source": [
    "mb_m = mb_m.reset_index()"
   ]
  },
  {
   "cell_type": "code",
   "execution_count": 83,
   "metadata": {},
   "outputs": [
    {
     "data": {
      "text/html": [
       "<div>\n",
       "<style scoped>\n",
       "    .dataframe tbody tr th:only-of-type {\n",
       "        vertical-align: middle;\n",
       "    }\n",
       "\n",
       "    .dataframe tbody tr th {\n",
       "        vertical-align: top;\n",
       "    }\n",
       "\n",
       "    .dataframe thead th {\n",
       "        text-align: right;\n",
       "    }\n",
       "</style>\n",
       "<table border=\"1\" class=\"dataframe\">\n",
       "  <thead>\n",
       "    <tr style=\"text-align: right;\">\n",
       "      <th></th>\n",
       "      <th>user_id</th>\n",
       "      <th>month</th>\n",
       "      <th>city</th>\n",
       "      <th>tariff</th>\n",
       "      <th>mb_used</th>\n",
       "    </tr>\n",
       "  </thead>\n",
       "  <tbody>\n",
       "    <tr>\n",
       "      <th>0</th>\n",
       "      <td>1000</td>\n",
       "      <td>5</td>\n",
       "      <td>Краснодар</td>\n",
       "      <td>ultra</td>\n",
       "      <td>2256</td>\n",
       "    </tr>\n",
       "    <tr>\n",
       "      <th>1</th>\n",
       "      <td>1000</td>\n",
       "      <td>6</td>\n",
       "      <td>Краснодар</td>\n",
       "      <td>ultra</td>\n",
       "      <td>23257</td>\n",
       "    </tr>\n",
       "    <tr>\n",
       "      <th>2</th>\n",
       "      <td>1000</td>\n",
       "      <td>7</td>\n",
       "      <td>Краснодар</td>\n",
       "      <td>ultra</td>\n",
       "      <td>14016</td>\n",
       "    </tr>\n",
       "    <tr>\n",
       "      <th>3</th>\n",
       "      <td>1000</td>\n",
       "      <td>8</td>\n",
       "      <td>Краснодар</td>\n",
       "      <td>ultra</td>\n",
       "      <td>14070</td>\n",
       "    </tr>\n",
       "    <tr>\n",
       "      <th>4</th>\n",
       "      <td>1000</td>\n",
       "      <td>9</td>\n",
       "      <td>Краснодар</td>\n",
       "      <td>ultra</td>\n",
       "      <td>14581</td>\n",
       "    </tr>\n",
       "  </tbody>\n",
       "</table>\n",
       "</div>"
      ],
      "text/plain": [
       "   user_id  month       city tariff  mb_used\n",
       "0     1000      5  Краснодар  ultra     2256\n",
       "1     1000      6  Краснодар  ultra    23257\n",
       "2     1000      7  Краснодар  ultra    14016\n",
       "3     1000      8  Краснодар  ultra    14070\n",
       "4     1000      9  Краснодар  ultra    14581"
      ]
     },
     "execution_count": 83,
     "metadata": {},
     "output_type": "execute_result"
    }
   ],
   "source": [
    "mb_m.head()"
   ]
  },
  {
   "cell_type": "markdown",
   "metadata": {},
   "source": [
    "#### 5) Помесячная выручка с каждого клиента"
   ]
  },
  {
   "cell_type": "markdown",
   "metadata": {},
   "source": [
    "Предполагаю, что не каждый клиент постоянно пользуется всеми тремя видами связи. Поэтому после группировки датафреймы `sms_m`, `month_m` и `mb_m` могут иметь разный размер. "
   ]
  },
  {
   "cell_type": "code",
   "execution_count": 84,
   "metadata": {
    "scrolled": true
   },
   "outputs": [
    {
     "data": {
      "text/plain": [
       "2717"
      ]
     },
     "execution_count": 84,
     "metadata": {},
     "output_type": "execute_result"
    }
   ],
   "source": [
    "sms_m['user_id'].count()"
   ]
  },
  {
   "cell_type": "code",
   "execution_count": 85,
   "metadata": {},
   "outputs": [
    {
     "data": {
      "text/plain": [
       "3174"
      ]
     },
     "execution_count": 85,
     "metadata": {},
     "output_type": "execute_result"
    }
   ],
   "source": [
    "month_m['user_id'].count()"
   ]
  },
  {
   "cell_type": "code",
   "execution_count": 86,
   "metadata": {},
   "outputs": [
    {
     "data": {
      "text/plain": [
       "3203"
      ]
     },
     "execution_count": 86,
     "metadata": {},
     "output_type": "execute_result"
    }
   ],
   "source": [
    "mb_m['user_id'].count()"
   ]
  },
  {
   "cell_type": "markdown",
   "metadata": {},
   "source": [
    "Создаю датафрейм `revenue` - к самому большому датафрейму об интернет-сессия добавляю второй по размеру о длительности звонков"
   ]
  },
  {
   "cell_type": "code",
   "execution_count": 87,
   "metadata": {},
   "outputs": [],
   "source": [
    "revenue = mb_m.merge(month_m, on=['user_id', 'month'], how='left', suffixes=('', '_x'))"
   ]
  },
  {
   "cell_type": "markdown",
   "metadata": {},
   "source": [
    "Проверяю пропуски"
   ]
  },
  {
   "cell_type": "code",
   "execution_count": 88,
   "metadata": {},
   "outputs": [
    {
     "data": {
      "text/plain": [
       "user_id      0\n",
       "month        0\n",
       "city         0\n",
       "tariff       0\n",
       "mb_used      0\n",
       "city_x      40\n",
       "tariff_x    40\n",
       "duration    40\n",
       "dtype: int64"
      ]
     },
     "execution_count": 88,
     "metadata": {},
     "output_type": "execute_result"
    }
   ],
   "source": [
    "revenue.isnull().sum()"
   ]
  },
  {
   "cell_type": "markdown",
   "metadata": {},
   "source": [
    "Пропуски означают, что данные клиенты не совершали звонков"
   ]
  },
  {
   "cell_type": "code",
   "execution_count": 89,
   "metadata": {},
   "outputs": [
    {
     "data": {
      "text/html": [
       "<div>\n",
       "<style scoped>\n",
       "    .dataframe tbody tr th:only-of-type {\n",
       "        vertical-align: middle;\n",
       "    }\n",
       "\n",
       "    .dataframe tbody tr th {\n",
       "        vertical-align: top;\n",
       "    }\n",
       "\n",
       "    .dataframe thead th {\n",
       "        text-align: right;\n",
       "    }\n",
       "</style>\n",
       "<table border=\"1\" class=\"dataframe\">\n",
       "  <thead>\n",
       "    <tr style=\"text-align: right;\">\n",
       "      <th></th>\n",
       "      <th>user_id</th>\n",
       "      <th>month</th>\n",
       "      <th>city</th>\n",
       "      <th>tariff</th>\n",
       "      <th>mb_used</th>\n",
       "      <th>city_x</th>\n",
       "      <th>tariff_x</th>\n",
       "      <th>duration</th>\n",
       "    </tr>\n",
       "  </thead>\n",
       "  <tbody>\n",
       "    <tr>\n",
       "      <th>570</th>\n",
       "      <td>1091</td>\n",
       "      <td>5</td>\n",
       "      <td>Набережные Челны</td>\n",
       "      <td>ultra</td>\n",
       "      <td>10714</td>\n",
       "      <td>NaN</td>\n",
       "      <td>NaN</td>\n",
       "      <td>NaN</td>\n",
       "    </tr>\n",
       "    <tr>\n",
       "      <th>571</th>\n",
       "      <td>1091</td>\n",
       "      <td>6</td>\n",
       "      <td>Набережные Челны</td>\n",
       "      <td>ultra</td>\n",
       "      <td>10245</td>\n",
       "      <td>NaN</td>\n",
       "      <td>NaN</td>\n",
       "      <td>NaN</td>\n",
       "    </tr>\n",
       "    <tr>\n",
       "      <th>572</th>\n",
       "      <td>1091</td>\n",
       "      <td>7</td>\n",
       "      <td>Набережные Челны</td>\n",
       "      <td>ultra</td>\n",
       "      <td>16460</td>\n",
       "      <td>NaN</td>\n",
       "      <td>NaN</td>\n",
       "      <td>NaN</td>\n",
       "    </tr>\n",
       "    <tr>\n",
       "      <th>573</th>\n",
       "      <td>1091</td>\n",
       "      <td>8</td>\n",
       "      <td>Набережные Челны</td>\n",
       "      <td>ultra</td>\n",
       "      <td>12644</td>\n",
       "      <td>NaN</td>\n",
       "      <td>NaN</td>\n",
       "      <td>NaN</td>\n",
       "    </tr>\n",
       "    <tr>\n",
       "      <th>574</th>\n",
       "      <td>1091</td>\n",
       "      <td>9</td>\n",
       "      <td>Набережные Челны</td>\n",
       "      <td>ultra</td>\n",
       "      <td>16611</td>\n",
       "      <td>NaN</td>\n",
       "      <td>NaN</td>\n",
       "      <td>NaN</td>\n",
       "    </tr>\n",
       "    <tr>\n",
       "      <th>575</th>\n",
       "      <td>1091</td>\n",
       "      <td>10</td>\n",
       "      <td>Набережные Челны</td>\n",
       "      <td>ultra</td>\n",
       "      <td>15659</td>\n",
       "      <td>NaN</td>\n",
       "      <td>NaN</td>\n",
       "      <td>NaN</td>\n",
       "    </tr>\n",
       "    <tr>\n",
       "      <th>576</th>\n",
       "      <td>1091</td>\n",
       "      <td>11</td>\n",
       "      <td>Набережные Челны</td>\n",
       "      <td>ultra</td>\n",
       "      <td>11876</td>\n",
       "      <td>NaN</td>\n",
       "      <td>NaN</td>\n",
       "      <td>NaN</td>\n",
       "    </tr>\n",
       "    <tr>\n",
       "      <th>577</th>\n",
       "      <td>1091</td>\n",
       "      <td>12</td>\n",
       "      <td>Набережные Челны</td>\n",
       "      <td>ultra</td>\n",
       "      <td>13292</td>\n",
       "      <td>NaN</td>\n",
       "      <td>NaN</td>\n",
       "      <td>NaN</td>\n",
       "    </tr>\n",
       "    <tr>\n",
       "      <th>671</th>\n",
       "      <td>1106</td>\n",
       "      <td>4</td>\n",
       "      <td>Калуга</td>\n",
       "      <td>ultra</td>\n",
       "      <td>2925</td>\n",
       "      <td>NaN</td>\n",
       "      <td>NaN</td>\n",
       "      <td>NaN</td>\n",
       "    </tr>\n",
       "    <tr>\n",
       "      <th>672</th>\n",
       "      <td>1106</td>\n",
       "      <td>5</td>\n",
       "      <td>Калуга</td>\n",
       "      <td>ultra</td>\n",
       "      <td>16591</td>\n",
       "      <td>NaN</td>\n",
       "      <td>NaN</td>\n",
       "      <td>NaN</td>\n",
       "    </tr>\n",
       "  </tbody>\n",
       "</table>\n",
       "</div>"
      ],
      "text/plain": [
       "     user_id  month              city tariff  mb_used city_x tariff_x  \\\n",
       "570     1091      5  Набережные Челны  ultra    10714    NaN      NaN   \n",
       "571     1091      6  Набережные Челны  ultra    10245    NaN      NaN   \n",
       "572     1091      7  Набережные Челны  ultra    16460    NaN      NaN   \n",
       "573     1091      8  Набережные Челны  ultra    12644    NaN      NaN   \n",
       "574     1091      9  Набережные Челны  ultra    16611    NaN      NaN   \n",
       "575     1091     10  Набережные Челны  ultra    15659    NaN      NaN   \n",
       "576     1091     11  Набережные Челны  ultra    11876    NaN      NaN   \n",
       "577     1091     12  Набережные Челны  ultra    13292    NaN      NaN   \n",
       "671     1106      4            Калуга  ultra     2925    NaN      NaN   \n",
       "672     1106      5            Калуга  ultra    16591    NaN      NaN   \n",
       "\n",
       "     duration  \n",
       "570       NaN  \n",
       "571       NaN  \n",
       "572       NaN  \n",
       "573       NaN  \n",
       "574       NaN  \n",
       "575       NaN  \n",
       "576       NaN  \n",
       "577       NaN  \n",
       "671       NaN  \n",
       "672       NaN  "
      ]
     },
     "execution_count": 89,
     "metadata": {},
     "output_type": "execute_result"
    }
   ],
   "source": [
    "revenue.query('duration != duration').head(10)"
   ]
  },
  {
   "cell_type": "code",
   "execution_count": 90,
   "metadata": {},
   "outputs": [
    {
     "data": {
      "text/html": [
       "<div>\n",
       "<style scoped>\n",
       "    .dataframe tbody tr th:only-of-type {\n",
       "        vertical-align: middle;\n",
       "    }\n",
       "\n",
       "    .dataframe tbody tr th {\n",
       "        vertical-align: top;\n",
       "    }\n",
       "\n",
       "    .dataframe thead th {\n",
       "        text-align: right;\n",
       "    }\n",
       "</style>\n",
       "<table border=\"1\" class=\"dataframe\">\n",
       "  <thead>\n",
       "    <tr style=\"text-align: right;\">\n",
       "      <th></th>\n",
       "      <th>user_id</th>\n",
       "      <th>month</th>\n",
       "      <th>city</th>\n",
       "      <th>tariff</th>\n",
       "      <th>duration</th>\n",
       "    </tr>\n",
       "  </thead>\n",
       "  <tbody>\n",
       "  </tbody>\n",
       "</table>\n",
       "</div>"
      ],
      "text/plain": [
       "Empty DataFrame\n",
       "Columns: [user_id, month, city, tariff, duration]\n",
       "Index: []"
      ]
     },
     "execution_count": 90,
     "metadata": {},
     "output_type": "execute_result"
    }
   ],
   "source": [
    "month_m.query('user_id == 1091')"
   ]
  },
  {
   "cell_type": "code",
   "execution_count": 91,
   "metadata": {},
   "outputs": [
    {
     "data": {
      "text/html": [
       "<div>\n",
       "<style scoped>\n",
       "    .dataframe tbody tr th:only-of-type {\n",
       "        vertical-align: middle;\n",
       "    }\n",
       "\n",
       "    .dataframe tbody tr th {\n",
       "        vertical-align: top;\n",
       "    }\n",
       "\n",
       "    .dataframe thead th {\n",
       "        text-align: right;\n",
       "    }\n",
       "</style>\n",
       "<table border=\"1\" class=\"dataframe\">\n",
       "  <thead>\n",
       "    <tr style=\"text-align: right;\">\n",
       "      <th></th>\n",
       "      <th>user_id</th>\n",
       "      <th>month</th>\n",
       "      <th>city</th>\n",
       "      <th>tariff</th>\n",
       "      <th>duration</th>\n",
       "    </tr>\n",
       "  </thead>\n",
       "  <tbody>\n",
       "  </tbody>\n",
       "</table>\n",
       "</div>"
      ],
      "text/plain": [
       "Empty DataFrame\n",
       "Columns: [user_id, month, city, tariff, duration]\n",
       "Index: []"
      ]
     },
     "execution_count": 91,
     "metadata": {},
     "output_type": "execute_result"
    }
   ],
   "source": [
    "month_m.query('user_id == 1106')"
   ]
  },
  {
   "cell_type": "markdown",
   "metadata": {},
   "source": [
    "Заполняю пропуски `duration` нулевым значением"
   ]
  },
  {
   "cell_type": "code",
   "execution_count": 92,
   "metadata": {},
   "outputs": [],
   "source": [
    "revenue['duration'] = revenue['duration'].fillna(0)"
   ]
  },
  {
   "cell_type": "markdown",
   "metadata": {},
   "source": [
    "К датафрейму `revenue` добавляю третий по размеру о количестве сообщений"
   ]
  },
  {
   "cell_type": "code",
   "execution_count": 93,
   "metadata": {},
   "outputs": [],
   "source": [
    "revenue = revenue.merge(sms_m, on=['user_id', 'month'], how='left', suffixes=('', '_y'))"
   ]
  },
  {
   "cell_type": "markdown",
   "metadata": {},
   "source": [
    "Проверяю пропуски"
   ]
  },
  {
   "cell_type": "code",
   "execution_count": 94,
   "metadata": {},
   "outputs": [
    {
     "data": {
      "text/plain": [
       "user_id       0\n",
       "month         0\n",
       "city          0\n",
       "tariff        0\n",
       "mb_used       0\n",
       "city_x       40\n",
       "tariff_x     40\n",
       "duration      0\n",
       "city_y      497\n",
       "tariff_y    497\n",
       "sms         497\n",
       "dtype: int64"
      ]
     },
     "execution_count": 94,
     "metadata": {},
     "output_type": "execute_result"
    }
   ],
   "source": [
    "revenue.isnull().sum()"
   ]
  },
  {
   "cell_type": "markdown",
   "metadata": {},
   "source": [
    "Пропуски означают, что данные клиенты не отправляли сообщений"
   ]
  },
  {
   "cell_type": "code",
   "execution_count": 95,
   "metadata": {},
   "outputs": [
    {
     "data": {
      "text/html": [
       "<div>\n",
       "<style scoped>\n",
       "    .dataframe tbody tr th:only-of-type {\n",
       "        vertical-align: middle;\n",
       "    }\n",
       "\n",
       "    .dataframe tbody tr th {\n",
       "        vertical-align: top;\n",
       "    }\n",
       "\n",
       "    .dataframe thead th {\n",
       "        text-align: right;\n",
       "    }\n",
       "</style>\n",
       "<table border=\"1\" class=\"dataframe\">\n",
       "  <thead>\n",
       "    <tr style=\"text-align: right;\">\n",
       "      <th></th>\n",
       "      <th>user_id</th>\n",
       "      <th>month</th>\n",
       "      <th>city</th>\n",
       "      <th>tariff</th>\n",
       "      <th>mb_used</th>\n",
       "      <th>city_x</th>\n",
       "      <th>tariff_x</th>\n",
       "      <th>duration</th>\n",
       "      <th>city_y</th>\n",
       "      <th>tariff_y</th>\n",
       "      <th>sms</th>\n",
       "    </tr>\n",
       "  </thead>\n",
       "  <tbody>\n",
       "    <tr>\n",
       "      <th>8</th>\n",
       "      <td>1001</td>\n",
       "      <td>11</td>\n",
       "      <td>Москва</td>\n",
       "      <td>smart</td>\n",
       "      <td>18452</td>\n",
       "      <td>Москва</td>\n",
       "      <td>smart</td>\n",
       "      <td>444.0</td>\n",
       "      <td>NaN</td>\n",
       "      <td>NaN</td>\n",
       "      <td>NaN</td>\n",
       "    </tr>\n",
       "    <tr>\n",
       "      <th>9</th>\n",
       "      <td>1001</td>\n",
       "      <td>12</td>\n",
       "      <td>Москва</td>\n",
       "      <td>smart</td>\n",
       "      <td>14053</td>\n",
       "      <td>Москва</td>\n",
       "      <td>smart</td>\n",
       "      <td>430.0</td>\n",
       "      <td>NaN</td>\n",
       "      <td>NaN</td>\n",
       "      <td>NaN</td>\n",
       "    </tr>\n",
       "    <tr>\n",
       "      <th>42</th>\n",
       "      <td>1006</td>\n",
       "      <td>2</td>\n",
       "      <td>Ульяновск</td>\n",
       "      <td>smart</td>\n",
       "      <td>1395</td>\n",
       "      <td>Ульяновск</td>\n",
       "      <td>smart</td>\n",
       "      <td>42.0</td>\n",
       "      <td>NaN</td>\n",
       "      <td>NaN</td>\n",
       "      <td>NaN</td>\n",
       "    </tr>\n",
       "    <tr>\n",
       "      <th>43</th>\n",
       "      <td>1006</td>\n",
       "      <td>3</td>\n",
       "      <td>Ульяновск</td>\n",
       "      <td>smart</td>\n",
       "      <td>17309</td>\n",
       "      <td>Ульяновск</td>\n",
       "      <td>smart</td>\n",
       "      <td>296.0</td>\n",
       "      <td>NaN</td>\n",
       "      <td>NaN</td>\n",
       "      <td>NaN</td>\n",
       "    </tr>\n",
       "    <tr>\n",
       "      <th>44</th>\n",
       "      <td>1006</td>\n",
       "      <td>4</td>\n",
       "      <td>Ульяновск</td>\n",
       "      <td>smart</td>\n",
       "      <td>13954</td>\n",
       "      <td>Ульяновск</td>\n",
       "      <td>smart</td>\n",
       "      <td>365.0</td>\n",
       "      <td>NaN</td>\n",
       "      <td>NaN</td>\n",
       "      <td>NaN</td>\n",
       "    </tr>\n",
       "    <tr>\n",
       "      <th>45</th>\n",
       "      <td>1006</td>\n",
       "      <td>5</td>\n",
       "      <td>Ульяновск</td>\n",
       "      <td>smart</td>\n",
       "      <td>12984</td>\n",
       "      <td>Ульяновск</td>\n",
       "      <td>smart</td>\n",
       "      <td>381.0</td>\n",
       "      <td>NaN</td>\n",
       "      <td>NaN</td>\n",
       "      <td>NaN</td>\n",
       "    </tr>\n",
       "    <tr>\n",
       "      <th>46</th>\n",
       "      <td>1006</td>\n",
       "      <td>6</td>\n",
       "      <td>Ульяновск</td>\n",
       "      <td>smart</td>\n",
       "      <td>12388</td>\n",
       "      <td>Ульяновск</td>\n",
       "      <td>smart</td>\n",
       "      <td>483.0</td>\n",
       "      <td>NaN</td>\n",
       "      <td>NaN</td>\n",
       "      <td>NaN</td>\n",
       "    </tr>\n",
       "    <tr>\n",
       "      <th>47</th>\n",
       "      <td>1006</td>\n",
       "      <td>7</td>\n",
       "      <td>Ульяновск</td>\n",
       "      <td>smart</td>\n",
       "      <td>20000</td>\n",
       "      <td>Ульяновск</td>\n",
       "      <td>smart</td>\n",
       "      <td>327.0</td>\n",
       "      <td>NaN</td>\n",
       "      <td>NaN</td>\n",
       "      <td>NaN</td>\n",
       "    </tr>\n",
       "    <tr>\n",
       "      <th>48</th>\n",
       "      <td>1006</td>\n",
       "      <td>8</td>\n",
       "      <td>Ульяновск</td>\n",
       "      <td>smart</td>\n",
       "      <td>19327</td>\n",
       "      <td>Ульяновск</td>\n",
       "      <td>smart</td>\n",
       "      <td>285.0</td>\n",
       "      <td>NaN</td>\n",
       "      <td>NaN</td>\n",
       "      <td>NaN</td>\n",
       "    </tr>\n",
       "    <tr>\n",
       "      <th>49</th>\n",
       "      <td>1006</td>\n",
       "      <td>9</td>\n",
       "      <td>Ульяновск</td>\n",
       "      <td>smart</td>\n",
       "      <td>15543</td>\n",
       "      <td>Ульяновск</td>\n",
       "      <td>smart</td>\n",
       "      <td>367.0</td>\n",
       "      <td>NaN</td>\n",
       "      <td>NaN</td>\n",
       "      <td>NaN</td>\n",
       "    </tr>\n",
       "  </tbody>\n",
       "</table>\n",
       "</div>"
      ],
      "text/plain": [
       "    user_id  month       city tariff  mb_used     city_x tariff_x  duration  \\\n",
       "8      1001     11     Москва  smart    18452     Москва    smart     444.0   \n",
       "9      1001     12     Москва  smart    14053     Москва    smart     430.0   \n",
       "42     1006      2  Ульяновск  smart     1395  Ульяновск    smart      42.0   \n",
       "43     1006      3  Ульяновск  smart    17309  Ульяновск    smart     296.0   \n",
       "44     1006      4  Ульяновск  smart    13954  Ульяновск    smart     365.0   \n",
       "45     1006      5  Ульяновск  smart    12984  Ульяновск    smart     381.0   \n",
       "46     1006      6  Ульяновск  smart    12388  Ульяновск    smart     483.0   \n",
       "47     1006      7  Ульяновск  smart    20000  Ульяновск    smart     327.0   \n",
       "48     1006      8  Ульяновск  smart    19327  Ульяновск    smart     285.0   \n",
       "49     1006      9  Ульяновск  smart    15543  Ульяновск    smart     367.0   \n",
       "\n",
       "   city_y tariff_y  sms  \n",
       "8     NaN      NaN  NaN  \n",
       "9     NaN      NaN  NaN  \n",
       "42    NaN      NaN  NaN  \n",
       "43    NaN      NaN  NaN  \n",
       "44    NaN      NaN  NaN  \n",
       "45    NaN      NaN  NaN  \n",
       "46    NaN      NaN  NaN  \n",
       "47    NaN      NaN  NaN  \n",
       "48    NaN      NaN  NaN  \n",
       "49    NaN      NaN  NaN  "
      ]
     },
     "execution_count": 95,
     "metadata": {},
     "output_type": "execute_result"
    }
   ],
   "source": [
    "revenue.query('sms != sms').head(10)"
   ]
  },
  {
   "cell_type": "code",
   "execution_count": 96,
   "metadata": {},
   "outputs": [
    {
     "data": {
      "text/html": [
       "<div>\n",
       "<style scoped>\n",
       "    .dataframe tbody tr th:only-of-type {\n",
       "        vertical-align: middle;\n",
       "    }\n",
       "\n",
       "    .dataframe tbody tr th {\n",
       "        vertical-align: top;\n",
       "    }\n",
       "\n",
       "    .dataframe thead th {\n",
       "        text-align: right;\n",
       "    }\n",
       "</style>\n",
       "<table border=\"1\" class=\"dataframe\">\n",
       "  <thead>\n",
       "    <tr style=\"text-align: right;\">\n",
       "      <th></th>\n",
       "      <th>user_id</th>\n",
       "      <th>month</th>\n",
       "      <th>city</th>\n",
       "      <th>tariff</th>\n",
       "      <th>sms</th>\n",
       "    </tr>\n",
       "  </thead>\n",
       "  <tbody>\n",
       "  </tbody>\n",
       "</table>\n",
       "</div>"
      ],
      "text/plain": [
       "Empty DataFrame\n",
       "Columns: [user_id, month, city, tariff, sms]\n",
       "Index: []"
      ]
     },
     "execution_count": 96,
     "metadata": {},
     "output_type": "execute_result"
    }
   ],
   "source": [
    "sms_m.query('user_id == 1001')"
   ]
  },
  {
   "cell_type": "code",
   "execution_count": 97,
   "metadata": {},
   "outputs": [
    {
     "data": {
      "text/html": [
       "<div>\n",
       "<style scoped>\n",
       "    .dataframe tbody tr th:only-of-type {\n",
       "        vertical-align: middle;\n",
       "    }\n",
       "\n",
       "    .dataframe tbody tr th {\n",
       "        vertical-align: top;\n",
       "    }\n",
       "\n",
       "    .dataframe thead th {\n",
       "        text-align: right;\n",
       "    }\n",
       "</style>\n",
       "<table border=\"1\" class=\"dataframe\">\n",
       "  <thead>\n",
       "    <tr style=\"text-align: right;\">\n",
       "      <th></th>\n",
       "      <th>user_id</th>\n",
       "      <th>month</th>\n",
       "      <th>city</th>\n",
       "      <th>tariff</th>\n",
       "      <th>sms</th>\n",
       "    </tr>\n",
       "  </thead>\n",
       "  <tbody>\n",
       "  </tbody>\n",
       "</table>\n",
       "</div>"
      ],
      "text/plain": [
       "Empty DataFrame\n",
       "Columns: [user_id, month, city, tariff, sms]\n",
       "Index: []"
      ]
     },
     "execution_count": 97,
     "metadata": {},
     "output_type": "execute_result"
    }
   ],
   "source": [
    "sms_m.query('user_id == 1006')"
   ]
  },
  {
   "cell_type": "markdown",
   "metadata": {},
   "source": [
    "Заполняю пропуски `sms` нулевым значением"
   ]
  },
  {
   "cell_type": "code",
   "execution_count": 98,
   "metadata": {},
   "outputs": [],
   "source": [
    "revenue['sms'] = revenue['sms'].fillna(0)"
   ]
  },
  {
   "cell_type": "markdown",
   "metadata": {},
   "source": [
    "Сохраняю в `revenue` только нужные для дальнейшей работы столбцы"
   ]
  },
  {
   "cell_type": "code",
   "execution_count": 99,
   "metadata": {},
   "outputs": [],
   "source": [
    "revenue = revenue.loc[:, ['user_id', 'month', 'city', 'duration', 'sms', 'mb_used', 'tariff']]"
   ]
  },
  {
   "cell_type": "markdown",
   "metadata": {},
   "source": [
    "Переименовываю столбец `tarrif` в `tariff_name`"
   ]
  },
  {
   "cell_type": "code",
   "execution_count": 100,
   "metadata": {},
   "outputs": [],
   "source": [
    "revenue = revenue.rename(columns={'tariff': 'tariff_name'})"
   ]
  },
  {
   "cell_type": "markdown",
   "metadata": {},
   "source": [
    "Добавляю в `revenue` инфомацию об условиях тарифов - объединяю датафреймы по значению `tariff_name`"
   ]
  },
  {
   "cell_type": "code",
   "execution_count": 101,
   "metadata": {},
   "outputs": [],
   "source": [
    "revenue = revenue.merge(tariffs, on='tariff_name', how='left')"
   ]
  },
  {
   "cell_type": "markdown",
   "metadata": {},
   "source": [
    "Функция для расчета выручки с каждого клиента в случае превышения лимитов тарифа"
   ]
  },
  {
   "cell_type": "code",
   "execution_count": 102,
   "metadata": {},
   "outputs": [],
   "source": [
    "def revenue_month(row):\n",
    "    \"\"\"\n",
    "    row - строка датафрейма revenue\n",
    "    \n",
    "    По каждому из трех типов связи проверяем превышен ли лимит тарифа.\n",
    "    Если лимит превышен, то в соответствии с условиями тарифа, вычисляем размер платы.\n",
    "    Функция возвращает общую дополнительную плату по всем трем видам связи.\n",
    "    \"\"\"\n",
    "    min_rub = 0\n",
    "    sms_rub = 0\n",
    "    mb_rub = 0\n",
    "    minutes = row['duration']\n",
    "    sms = row['sms']\n",
    "    mb = row['mb_used']\n",
    "    sms_inc = row['messages_included']\n",
    "    mb_inc = row['mb_per_month_included']\n",
    "    min_inc = row['minutes_included']\n",
    "    rub_per_minute = row['rub_per_minute']\n",
    "    rub_per_message = row['rub_per_message']\n",
    "    rub_per_gb = row['rub_per_gb']\n",
    "    if minutes > min_inc:\n",
    "        min_rub = (minutes - min_inc) * rub_per_minute\n",
    "    if sms > sms_inc:\n",
    "        sms_rub = (sms - sms_inc) * rub_per_message\n",
    "    if mb > mb_inc:\n",
    "        mb_rub = ((mb - mb_inc) / 1024) * rub_per_gb\n",
    "    return min_rub + sms_rub + mb_rub"
   ]
  },
  {
   "cell_type": "markdown",
   "metadata": {},
   "source": [
    "Создаю новый столбец `revenue` с дополнительной платой в случае превышения лимитов тарифа. Округляю значения до двух знаков после запятой, что соответствует копейкам"
   ]
  },
  {
   "cell_type": "code",
   "execution_count": 103,
   "metadata": {},
   "outputs": [
    {
     "data": {
      "text/html": [
       "<div>\n",
       "<style scoped>\n",
       "    .dataframe tbody tr th:only-of-type {\n",
       "        vertical-align: middle;\n",
       "    }\n",
       "\n",
       "    .dataframe tbody tr th {\n",
       "        vertical-align: top;\n",
       "    }\n",
       "\n",
       "    .dataframe thead th {\n",
       "        text-align: right;\n",
       "    }\n",
       "</style>\n",
       "<table border=\"1\" class=\"dataframe\">\n",
       "  <thead>\n",
       "    <tr style=\"text-align: right;\">\n",
       "      <th></th>\n",
       "      <th>user_id</th>\n",
       "      <th>month</th>\n",
       "      <th>city</th>\n",
       "      <th>duration</th>\n",
       "      <th>sms</th>\n",
       "      <th>mb_used</th>\n",
       "      <th>tariff_name</th>\n",
       "      <th>messages_included</th>\n",
       "      <th>mb_per_month_included</th>\n",
       "      <th>minutes_included</th>\n",
       "      <th>rub_monthly_fee</th>\n",
       "      <th>rub_per_gb</th>\n",
       "      <th>rub_per_message</th>\n",
       "      <th>rub_per_minute</th>\n",
       "    </tr>\n",
       "  </thead>\n",
       "  <tbody>\n",
       "    <tr>\n",
       "      <th>0</th>\n",
       "      <td>1000</td>\n",
       "      <td>5</td>\n",
       "      <td>Краснодар</td>\n",
       "      <td>164.0</td>\n",
       "      <td>22.0</td>\n",
       "      <td>2256</td>\n",
       "      <td>ultra</td>\n",
       "      <td>1000</td>\n",
       "      <td>30720</td>\n",
       "      <td>3000</td>\n",
       "      <td>1950</td>\n",
       "      <td>150</td>\n",
       "      <td>1</td>\n",
       "      <td>1</td>\n",
       "    </tr>\n",
       "    <tr>\n",
       "      <th>1</th>\n",
       "      <td>1000</td>\n",
       "      <td>6</td>\n",
       "      <td>Краснодар</td>\n",
       "      <td>187.0</td>\n",
       "      <td>60.0</td>\n",
       "      <td>23257</td>\n",
       "      <td>ultra</td>\n",
       "      <td>1000</td>\n",
       "      <td>30720</td>\n",
       "      <td>3000</td>\n",
       "      <td>1950</td>\n",
       "      <td>150</td>\n",
       "      <td>1</td>\n",
       "      <td>1</td>\n",
       "    </tr>\n",
       "    <tr>\n",
       "      <th>2</th>\n",
       "      <td>1000</td>\n",
       "      <td>7</td>\n",
       "      <td>Краснодар</td>\n",
       "      <td>346.0</td>\n",
       "      <td>75.0</td>\n",
       "      <td>14016</td>\n",
       "      <td>ultra</td>\n",
       "      <td>1000</td>\n",
       "      <td>30720</td>\n",
       "      <td>3000</td>\n",
       "      <td>1950</td>\n",
       "      <td>150</td>\n",
       "      <td>1</td>\n",
       "      <td>1</td>\n",
       "    </tr>\n",
       "    <tr>\n",
       "      <th>3</th>\n",
       "      <td>1000</td>\n",
       "      <td>8</td>\n",
       "      <td>Краснодар</td>\n",
       "      <td>418.0</td>\n",
       "      <td>81.0</td>\n",
       "      <td>14070</td>\n",
       "      <td>ultra</td>\n",
       "      <td>1000</td>\n",
       "      <td>30720</td>\n",
       "      <td>3000</td>\n",
       "      <td>1950</td>\n",
       "      <td>150</td>\n",
       "      <td>1</td>\n",
       "      <td>1</td>\n",
       "    </tr>\n",
       "    <tr>\n",
       "      <th>4</th>\n",
       "      <td>1000</td>\n",
       "      <td>9</td>\n",
       "      <td>Краснодар</td>\n",
       "      <td>478.0</td>\n",
       "      <td>57.0</td>\n",
       "      <td>14581</td>\n",
       "      <td>ultra</td>\n",
       "      <td>1000</td>\n",
       "      <td>30720</td>\n",
       "      <td>3000</td>\n",
       "      <td>1950</td>\n",
       "      <td>150</td>\n",
       "      <td>1</td>\n",
       "      <td>1</td>\n",
       "    </tr>\n",
       "  </tbody>\n",
       "</table>\n",
       "</div>"
      ],
      "text/plain": [
       "   user_id  month       city  duration   sms  mb_used tariff_name  \\\n",
       "0     1000      5  Краснодар     164.0  22.0     2256       ultra   \n",
       "1     1000      6  Краснодар     187.0  60.0    23257       ultra   \n",
       "2     1000      7  Краснодар     346.0  75.0    14016       ultra   \n",
       "3     1000      8  Краснодар     418.0  81.0    14070       ultra   \n",
       "4     1000      9  Краснодар     478.0  57.0    14581       ultra   \n",
       "\n",
       "   messages_included  mb_per_month_included  minutes_included  \\\n",
       "0               1000                  30720              3000   \n",
       "1               1000                  30720              3000   \n",
       "2               1000                  30720              3000   \n",
       "3               1000                  30720              3000   \n",
       "4               1000                  30720              3000   \n",
       "\n",
       "   rub_monthly_fee  rub_per_gb  rub_per_message  rub_per_minute  \n",
       "0             1950         150                1               1  \n",
       "1             1950         150                1               1  \n",
       "2             1950         150                1               1  \n",
       "3             1950         150                1               1  \n",
       "4             1950         150                1               1  "
      ]
     },
     "execution_count": 103,
     "metadata": {},
     "output_type": "execute_result"
    }
   ],
   "source": [
    "revenue.head()"
   ]
  },
  {
   "cell_type": "code",
   "execution_count": 104,
   "metadata": {},
   "outputs": [],
   "source": [
    "revenue['revenue'] = revenue.apply(revenue_month, axis=1)"
   ]
  },
  {
   "cell_type": "code",
   "execution_count": 105,
   "metadata": {},
   "outputs": [],
   "source": [
    "revenue['revenue'] = revenue['revenue'].round(2)"
   ]
  },
  {
   "cell_type": "markdown",
   "metadata": {},
   "source": [
    "Создаю новый столбец `revenue_total` с суммой абонентской платы по тарифу и платы в случае превышения лимитов"
   ]
  },
  {
   "cell_type": "code",
   "execution_count": 106,
   "metadata": {},
   "outputs": [],
   "source": [
    "revenue['revenue_total'] = revenue['revenue'] + revenue['rub_monthly_fee']"
   ]
  },
  {
   "cell_type": "markdown",
   "metadata": {},
   "source": [
    "Сохраняю в `revenue` только нужные для дальнейшей работы столбцы"
   ]
  },
  {
   "cell_type": "code",
   "execution_count": 107,
   "metadata": {},
   "outputs": [],
   "source": [
    "revenue = revenue.loc[:, ['user_id', 'city', 'month', 'duration', 'sms', 'mb_used', 'tariff_name', 'revenue', 'revenue_total']]"
   ]
  },
  {
   "cell_type": "markdown",
   "metadata": {},
   "source": [
    "Проверяю результат"
   ]
  },
  {
   "cell_type": "code",
   "execution_count": 108,
   "metadata": {
    "scrolled": true
   },
   "outputs": [
    {
     "data": {
      "text/html": [
       "<div>\n",
       "<style scoped>\n",
       "    .dataframe tbody tr th:only-of-type {\n",
       "        vertical-align: middle;\n",
       "    }\n",
       "\n",
       "    .dataframe tbody tr th {\n",
       "        vertical-align: top;\n",
       "    }\n",
       "\n",
       "    .dataframe thead th {\n",
       "        text-align: right;\n",
       "    }\n",
       "</style>\n",
       "<table border=\"1\" class=\"dataframe\">\n",
       "  <thead>\n",
       "    <tr style=\"text-align: right;\">\n",
       "      <th></th>\n",
       "      <th>user_id</th>\n",
       "      <th>city</th>\n",
       "      <th>month</th>\n",
       "      <th>duration</th>\n",
       "      <th>sms</th>\n",
       "      <th>mb_used</th>\n",
       "      <th>tariff_name</th>\n",
       "      <th>revenue</th>\n",
       "      <th>revenue_total</th>\n",
       "    </tr>\n",
       "  </thead>\n",
       "  <tbody>\n",
       "    <tr>\n",
       "      <th>0</th>\n",
       "      <td>1000</td>\n",
       "      <td>Краснодар</td>\n",
       "      <td>5</td>\n",
       "      <td>164.0</td>\n",
       "      <td>22.0</td>\n",
       "      <td>2256</td>\n",
       "      <td>ultra</td>\n",
       "      <td>0.00</td>\n",
       "      <td>1950.00</td>\n",
       "    </tr>\n",
       "    <tr>\n",
       "      <th>1</th>\n",
       "      <td>1000</td>\n",
       "      <td>Краснодар</td>\n",
       "      <td>6</td>\n",
       "      <td>187.0</td>\n",
       "      <td>60.0</td>\n",
       "      <td>23257</td>\n",
       "      <td>ultra</td>\n",
       "      <td>0.00</td>\n",
       "      <td>1950.00</td>\n",
       "    </tr>\n",
       "    <tr>\n",
       "      <th>2</th>\n",
       "      <td>1000</td>\n",
       "      <td>Краснодар</td>\n",
       "      <td>7</td>\n",
       "      <td>346.0</td>\n",
       "      <td>75.0</td>\n",
       "      <td>14016</td>\n",
       "      <td>ultra</td>\n",
       "      <td>0.00</td>\n",
       "      <td>1950.00</td>\n",
       "    </tr>\n",
       "    <tr>\n",
       "      <th>3</th>\n",
       "      <td>1000</td>\n",
       "      <td>Краснодар</td>\n",
       "      <td>8</td>\n",
       "      <td>418.0</td>\n",
       "      <td>81.0</td>\n",
       "      <td>14070</td>\n",
       "      <td>ultra</td>\n",
       "      <td>0.00</td>\n",
       "      <td>1950.00</td>\n",
       "    </tr>\n",
       "    <tr>\n",
       "      <th>4</th>\n",
       "      <td>1000</td>\n",
       "      <td>Краснодар</td>\n",
       "      <td>9</td>\n",
       "      <td>478.0</td>\n",
       "      <td>57.0</td>\n",
       "      <td>14581</td>\n",
       "      <td>ultra</td>\n",
       "      <td>0.00</td>\n",
       "      <td>1950.00</td>\n",
       "    </tr>\n",
       "    <tr>\n",
       "      <th>5</th>\n",
       "      <td>1000</td>\n",
       "      <td>Краснодар</td>\n",
       "      <td>10</td>\n",
       "      <td>363.0</td>\n",
       "      <td>73.0</td>\n",
       "      <td>14717</td>\n",
       "      <td>ultra</td>\n",
       "      <td>0.00</td>\n",
       "      <td>1950.00</td>\n",
       "    </tr>\n",
       "    <tr>\n",
       "      <th>6</th>\n",
       "      <td>1000</td>\n",
       "      <td>Краснодар</td>\n",
       "      <td>11</td>\n",
       "      <td>344.0</td>\n",
       "      <td>58.0</td>\n",
       "      <td>14768</td>\n",
       "      <td>ultra</td>\n",
       "      <td>0.00</td>\n",
       "      <td>1950.00</td>\n",
       "    </tr>\n",
       "    <tr>\n",
       "      <th>7</th>\n",
       "      <td>1000</td>\n",
       "      <td>Краснодар</td>\n",
       "      <td>12</td>\n",
       "      <td>341.0</td>\n",
       "      <td>70.0</td>\n",
       "      <td>9827</td>\n",
       "      <td>ultra</td>\n",
       "      <td>0.00</td>\n",
       "      <td>1950.00</td>\n",
       "    </tr>\n",
       "    <tr>\n",
       "      <th>8</th>\n",
       "      <td>1001</td>\n",
       "      <td>Москва</td>\n",
       "      <td>11</td>\n",
       "      <td>444.0</td>\n",
       "      <td>0.0</td>\n",
       "      <td>18452</td>\n",
       "      <td>smart</td>\n",
       "      <td>603.91</td>\n",
       "      <td>1153.91</td>\n",
       "    </tr>\n",
       "    <tr>\n",
       "      <th>9</th>\n",
       "      <td>1001</td>\n",
       "      <td>Москва</td>\n",
       "      <td>12</td>\n",
       "      <td>430.0</td>\n",
       "      <td>0.0</td>\n",
       "      <td>14053</td>\n",
       "      <td>smart</td>\n",
       "      <td>0.00</td>\n",
       "      <td>550.00</td>\n",
       "    </tr>\n",
       "  </tbody>\n",
       "</table>\n",
       "</div>"
      ],
      "text/plain": [
       "   user_id       city  month  duration   sms  mb_used tariff_name  revenue  \\\n",
       "0     1000  Краснодар      5     164.0  22.0     2256       ultra     0.00   \n",
       "1     1000  Краснодар      6     187.0  60.0    23257       ultra     0.00   \n",
       "2     1000  Краснодар      7     346.0  75.0    14016       ultra     0.00   \n",
       "3     1000  Краснодар      8     418.0  81.0    14070       ultra     0.00   \n",
       "4     1000  Краснодар      9     478.0  57.0    14581       ultra     0.00   \n",
       "5     1000  Краснодар     10     363.0  73.0    14717       ultra     0.00   \n",
       "6     1000  Краснодар     11     344.0  58.0    14768       ultra     0.00   \n",
       "7     1000  Краснодар     12     341.0  70.0     9827       ultra     0.00   \n",
       "8     1001     Москва     11     444.0   0.0    18452       smart   603.91   \n",
       "9     1001     Москва     12     430.0   0.0    14053       smart     0.00   \n",
       "\n",
       "   revenue_total  \n",
       "0        1950.00  \n",
       "1        1950.00  \n",
       "2        1950.00  \n",
       "3        1950.00  \n",
       "4        1950.00  \n",
       "5        1950.00  \n",
       "6        1950.00  \n",
       "7        1950.00  \n",
       "8        1153.91  \n",
       "9         550.00  "
      ]
     },
     "execution_count": 108,
     "metadata": {},
     "output_type": "execute_result"
    }
   ],
   "source": [
    "revenue.head(10)"
   ]
  },
  {
   "cell_type": "markdown",
   "metadata": {},
   "source": [
    "#### Выбросы"
   ]
  },
  {
   "cell_type": "markdown",
   "metadata": {},
   "source": [
    "Функция для построения графиков boxplot и гистограммы, вывода значений среднего, квартилей(25%, 50% и 75%), верхнего уса, а также доли выбросов для выбранного столбца `revenue`. Выбросы определяются, как превышение верхнего уса"
   ]
  },
  {
   "cell_type": "code",
   "execution_count": 109,
   "metadata": {},
   "outputs": [],
   "source": [
    "def outlier(column):\n",
    "    Q1 = revenue[column].quantile(0.25)\n",
    "    Q3 = revenue[column].quantile(0.75)\n",
    "    IQR = Q3 - Q1\n",
    "    print('Среднее:', revenue[column].mean())\n",
    "    print('Первый квартиль(25%):', Q1)\n",
    "    print('Медиана:', revenue[column].median())\n",
    "    print('Третий квартиль(75%):', Q3)\n",
    "    print('Верхний ус:', (Q3 + (IQR * 1.5)))\n",
    "    revenue.hist(column, bins=30)\n",
    "    plt.show()\n",
    "    revenue.boxplot(column)\n",
    "    plt.show()\n",
    "    print('Доля выбросов: {:.1%}' \\\n",
    "          .format((len(revenue[revenue[column] > (Q3 + (IQR * 1.5))]) / len(revenue))))    "
   ]
  },
  {
   "cell_type": "markdown",
   "metadata": {},
   "source": [
    "Исследую выбросы в столбце `duration`"
   ]
  },
  {
   "cell_type": "code",
   "execution_count": 110,
   "metadata": {},
   "outputs": [
    {
     "name": "stdout",
     "output_type": "stream",
     "text": [
      "Среднее: 464.43053387449265\n",
      "Первый квартиль(25%): 293.0\n",
      "Медиана: 456.0\n",
      "Третий квартиль(75%): 606.0\n",
      "Верхний ус: 1075.5\n"
     ]
    },
    {
     "data": {
      "image/png": "[encoded data removed]",
      "text/plain": [
       "<Figure size 432x288 with 1 Axes>"
      ]
     },
     "metadata": {
      "needs_background": "light"
     },
     "output_type": "display_data"
    },
    {
     "data": {
      "image/png": "[encoded data removed]",
      "text/plain": [
       "<Figure size 432x288 with 1 Axes>"
      ]
     },
     "metadata": {
      "needs_background": "light"
     },
     "output_type": "display_data"
    },
    {
     "name": "stdout",
     "output_type": "stream",
     "text": [
      "Доля выбросов: 2.0%\n"
     ]
    }
   ],
   "source": [
    "outlier('duration')"
   ]
  },
  {
   "cell_type": "markdown",
   "metadata": {},
   "source": [
    "Выбросы, превышающие верхний ус, составляю 2% от всей выборки. Это достоверные значения, поэтому я не буду их удалять."
   ]
  },
  {
   "cell_type": "code",
   "execution_count": 111,
   "metadata": {},
   "outputs": [
    {
     "data": {
      "text/html": [
       "<div>\n",
       "<style scoped>\n",
       "    .dataframe tbody tr th:only-of-type {\n",
       "        vertical-align: middle;\n",
       "    }\n",
       "\n",
       "    .dataframe tbody tr th {\n",
       "        vertical-align: top;\n",
       "    }\n",
       "\n",
       "    .dataframe thead th {\n",
       "        text-align: right;\n",
       "    }\n",
       "</style>\n",
       "<table border=\"1\" class=\"dataframe\">\n",
       "  <thead>\n",
       "    <tr style=\"text-align: right;\">\n",
       "      <th></th>\n",
       "      <th>user_id</th>\n",
       "      <th>city</th>\n",
       "      <th>month</th>\n",
       "      <th>duration</th>\n",
       "      <th>sms</th>\n",
       "      <th>mb_used</th>\n",
       "      <th>tariff_name</th>\n",
       "      <th>revenue</th>\n",
       "      <th>revenue_total</th>\n",
       "    </tr>\n",
       "  </thead>\n",
       "  <tbody>\n",
       "    <tr>\n",
       "      <th>148</th>\n",
       "      <td>1021</td>\n",
       "      <td>Краснодар</td>\n",
       "      <td>7</td>\n",
       "      <td>1230.0</td>\n",
       "      <td>103.0</td>\n",
       "      <td>20038</td>\n",
       "      <td>ultra</td>\n",
       "      <td>0.00</td>\n",
       "      <td>1950.00</td>\n",
       "    </tr>\n",
       "    <tr>\n",
       "      <th>150</th>\n",
       "      <td>1021</td>\n",
       "      <td>Краснодар</td>\n",
       "      <td>9</td>\n",
       "      <td>1141.0</td>\n",
       "      <td>113.0</td>\n",
       "      <td>18321</td>\n",
       "      <td>ultra</td>\n",
       "      <td>0.00</td>\n",
       "      <td>1950.00</td>\n",
       "    </tr>\n",
       "    <tr>\n",
       "      <th>159</th>\n",
       "      <td>1024</td>\n",
       "      <td>Санкт-Петербург</td>\n",
       "      <td>11</td>\n",
       "      <td>1176.0</td>\n",
       "      <td>0.0</td>\n",
       "      <td>43146</td>\n",
       "      <td>ultra</td>\n",
       "      <td>1820.21</td>\n",
       "      <td>3770.21</td>\n",
       "    </tr>\n",
       "    <tr>\n",
       "      <th>185</th>\n",
       "      <td>1028</td>\n",
       "      <td>Тверь</td>\n",
       "      <td>12</td>\n",
       "      <td>1214.0</td>\n",
       "      <td>171.0</td>\n",
       "      <td>15805</td>\n",
       "      <td>ultra</td>\n",
       "      <td>0.00</td>\n",
       "      <td>1950.00</td>\n",
       "    </tr>\n",
       "    <tr>\n",
       "      <th>383</th>\n",
       "      <td>1060</td>\n",
       "      <td>Калуга</td>\n",
       "      <td>12</td>\n",
       "      <td>1273.0</td>\n",
       "      <td>52.0</td>\n",
       "      <td>43973</td>\n",
       "      <td>ultra</td>\n",
       "      <td>1941.36</td>\n",
       "      <td>3891.36</td>\n",
       "    </tr>\n",
       "  </tbody>\n",
       "</table>\n",
       "</div>"
      ],
      "text/plain": [
       "     user_id             city  month  duration    sms  mb_used tariff_name  \\\n",
       "148     1021        Краснодар      7    1230.0  103.0    20038       ultra   \n",
       "150     1021        Краснодар      9    1141.0  113.0    18321       ultra   \n",
       "159     1024  Санкт-Петербург     11    1176.0    0.0    43146       ultra   \n",
       "185     1028            Тверь     12    1214.0  171.0    15805       ultra   \n",
       "383     1060           Калуга     12    1273.0   52.0    43973       ultra   \n",
       "\n",
       "     revenue  revenue_total  \n",
       "148     0.00        1950.00  \n",
       "150     0.00        1950.00  \n",
       "159  1820.21        3770.21  \n",
       "185     0.00        1950.00  \n",
       "383  1941.36        3891.36  "
      ]
     },
     "execution_count": 111,
     "metadata": {},
     "output_type": "execute_result"
    }
   ],
   "source": [
    "revenue.query('duration > 1075').head()"
   ]
  },
  {
   "cell_type": "markdown",
   "metadata": {},
   "source": [
    "Исследую выбросы в столбце `sms`"
   ]
  },
  {
   "cell_type": "code",
   "execution_count": 112,
   "metadata": {},
   "outputs": [
    {
     "name": "stdout",
     "output_type": "stream",
     "text": [
      "Среднее: 38.32594442709959\n",
      "Первый квартиль(25%): 9.0\n",
      "Медиана: 30.0\n",
      "Третий квартиль(75%): 57.0\n",
      "Верхний ус: 129.0\n"
     ]
    },
    {
     "data": {
      "image/png": "[encoded data removed]",
      "text/plain": [
       "<Figure size 432x288 with 1 Axes>"
      ]
     },
     "metadata": {
      "needs_background": "light"
     },
     "output_type": "display_data"
    },
    {
     "data": {
      "image/png": "[encoded data removed]",
      "text/plain": [
       "<Figure size 432x288 with 1 Axes>"
      ]
     },
     "metadata": {
      "needs_background": "light"
     },
     "output_type": "display_data"
    },
    {
     "name": "stdout",
     "output_type": "stream",
     "text": [
      "Доля выбросов: 2.8%\n"
     ]
    }
   ],
   "source": [
    "outlier('sms')"
   ]
  },
  {
   "cell_type": "markdown",
   "metadata": {},
   "source": [
    "Выбросы, превышающие верхний ус, составляю 2.8% от всей выборки. Это достоверные значения, поэтому я не буду их удалять."
   ]
  },
  {
   "cell_type": "code",
   "execution_count": 113,
   "metadata": {},
   "outputs": [
    {
     "data": {
      "text/html": [
       "<div>\n",
       "<style scoped>\n",
       "    .dataframe tbody tr th:only-of-type {\n",
       "        vertical-align: middle;\n",
       "    }\n",
       "\n",
       "    .dataframe tbody tr th {\n",
       "        vertical-align: top;\n",
       "    }\n",
       "\n",
       "    .dataframe thead th {\n",
       "        text-align: right;\n",
       "    }\n",
       "</style>\n",
       "<table border=\"1\" class=\"dataframe\">\n",
       "  <thead>\n",
       "    <tr style=\"text-align: right;\">\n",
       "      <th></th>\n",
       "      <th>user_id</th>\n",
       "      <th>city</th>\n",
       "      <th>month</th>\n",
       "      <th>duration</th>\n",
       "      <th>sms</th>\n",
       "      <th>mb_used</th>\n",
       "      <th>tariff_name</th>\n",
       "      <th>revenue</th>\n",
       "      <th>revenue_total</th>\n",
       "    </tr>\n",
       "  </thead>\n",
       "  <tbody>\n",
       "    <tr>\n",
       "      <th>23</th>\n",
       "      <td>1004</td>\n",
       "      <td>Новокузнецк</td>\n",
       "      <td>6</td>\n",
       "      <td>177.0</td>\n",
       "      <td>134.0</td>\n",
       "      <td>17619</td>\n",
       "      <td>ultra</td>\n",
       "      <td>0.0</td>\n",
       "      <td>1950.0</td>\n",
       "    </tr>\n",
       "    <tr>\n",
       "      <th>24</th>\n",
       "      <td>1004</td>\n",
       "      <td>Новокузнецк</td>\n",
       "      <td>7</td>\n",
       "      <td>137.0</td>\n",
       "      <td>181.0</td>\n",
       "      <td>22243</td>\n",
       "      <td>ultra</td>\n",
       "      <td>0.0</td>\n",
       "      <td>1950.0</td>\n",
       "    </tr>\n",
       "    <tr>\n",
       "      <th>25</th>\n",
       "      <td>1004</td>\n",
       "      <td>Новокузнецк</td>\n",
       "      <td>8</td>\n",
       "      <td>138.0</td>\n",
       "      <td>151.0</td>\n",
       "      <td>28607</td>\n",
       "      <td>ultra</td>\n",
       "      <td>0.0</td>\n",
       "      <td>1950.0</td>\n",
       "    </tr>\n",
       "    <tr>\n",
       "      <th>26</th>\n",
       "      <td>1004</td>\n",
       "      <td>Новокузнецк</td>\n",
       "      <td>9</td>\n",
       "      <td>125.0</td>\n",
       "      <td>146.0</td>\n",
       "      <td>15125</td>\n",
       "      <td>ultra</td>\n",
       "      <td>0.0</td>\n",
       "      <td>1950.0</td>\n",
       "    </tr>\n",
       "    <tr>\n",
       "      <th>27</th>\n",
       "      <td>1004</td>\n",
       "      <td>Новокузнецк</td>\n",
       "      <td>10</td>\n",
       "      <td>153.0</td>\n",
       "      <td>165.0</td>\n",
       "      <td>18494</td>\n",
       "      <td>ultra</td>\n",
       "      <td>0.0</td>\n",
       "      <td>1950.0</td>\n",
       "    </tr>\n",
       "  </tbody>\n",
       "</table>\n",
       "</div>"
      ],
      "text/plain": [
       "    user_id         city  month  duration    sms  mb_used tariff_name  \\\n",
       "23     1004  Новокузнецк      6     177.0  134.0    17619       ultra   \n",
       "24     1004  Новокузнецк      7     137.0  181.0    22243       ultra   \n",
       "25     1004  Новокузнецк      8     138.0  151.0    28607       ultra   \n",
       "26     1004  Новокузнецк      9     125.0  146.0    15125       ultra   \n",
       "27     1004  Новокузнецк     10     153.0  165.0    18494       ultra   \n",
       "\n",
       "    revenue  revenue_total  \n",
       "23      0.0         1950.0  \n",
       "24      0.0         1950.0  \n",
       "25      0.0         1950.0  \n",
       "26      0.0         1950.0  \n",
       "27      0.0         1950.0  "
      ]
     },
     "execution_count": 113,
     "metadata": {},
     "output_type": "execute_result"
    }
   ],
   "source": [
    "revenue.query('sms > 129').head()"
   ]
  },
  {
   "cell_type": "markdown",
   "metadata": {},
   "source": [
    "Исследую выбросы в столбце `mb_used`"
   ]
  },
  {
   "cell_type": "code",
   "execution_count": 114,
   "metadata": {},
   "outputs": [
    {
     "name": "stdout",
     "output_type": "stream",
     "text": [
      "Среднее: 17286.74960974087\n",
      "Первый квартиль(25%): 12543.0\n",
      "Медиана: 16985.0\n",
      "Третий квартиль(75%): 21455.5\n",
      "Верхний ус: 34824.25\n"
     ]
    },
    {
     "data": {
      "image/png": "[encoded data removed]",
      "text/plain": [
       "<Figure size 432x288 with 1 Axes>"
      ]
     },
     "metadata": {
      "needs_background": "light"
     },
     "output_type": "display_data"
    },
    {
     "data": {
      "image/png": "[encoded data removed]",
      "text/plain": [
       "<Figure size 432x288 with 1 Axes>"
      ]
     },
     "metadata": {
      "needs_background": "light"
     },
     "output_type": "display_data"
    },
    {
     "name": "stdout",
     "output_type": "stream",
     "text": [
      "Доля выбросов: 2.4%\n"
     ]
    }
   ],
   "source": [
    "outlier('mb_used')"
   ]
  },
  {
   "cell_type": "markdown",
   "metadata": {},
   "source": [
    "Выбросы, превышающие верхний ус, составляю около 2.4% от всей выборки. Это достоверные значения, поэтому я не буду их удалять."
   ]
  },
  {
   "cell_type": "code",
   "execution_count": 115,
   "metadata": {},
   "outputs": [
    {
     "data": {
      "text/html": [
       "<div>\n",
       "<style scoped>\n",
       "    .dataframe tbody tr th:only-of-type {\n",
       "        vertical-align: middle;\n",
       "    }\n",
       "\n",
       "    .dataframe tbody tr th {\n",
       "        vertical-align: top;\n",
       "    }\n",
       "\n",
       "    .dataframe thead th {\n",
       "        text-align: right;\n",
       "    }\n",
       "</style>\n",
       "<table border=\"1\" class=\"dataframe\">\n",
       "  <thead>\n",
       "    <tr style=\"text-align: right;\">\n",
       "      <th></th>\n",
       "      <th>user_id</th>\n",
       "      <th>city</th>\n",
       "      <th>month</th>\n",
       "      <th>duration</th>\n",
       "      <th>sms</th>\n",
       "      <th>mb_used</th>\n",
       "      <th>tariff_name</th>\n",
       "      <th>revenue</th>\n",
       "      <th>revenue_total</th>\n",
       "    </tr>\n",
       "  </thead>\n",
       "  <tbody>\n",
       "    <tr>\n",
       "      <th>159</th>\n",
       "      <td>1024</td>\n",
       "      <td>Санкт-Петербург</td>\n",
       "      <td>11</td>\n",
       "      <td>1176.0</td>\n",
       "      <td>0.0</td>\n",
       "      <td>43146</td>\n",
       "      <td>ultra</td>\n",
       "      <td>1820.21</td>\n",
       "      <td>3770.21</td>\n",
       "    </tr>\n",
       "    <tr>\n",
       "      <th>160</th>\n",
       "      <td>1024</td>\n",
       "      <td>Санкт-Петербург</td>\n",
       "      <td>12</td>\n",
       "      <td>977.0</td>\n",
       "      <td>0.0</td>\n",
       "      <td>35985</td>\n",
       "      <td>ultra</td>\n",
       "      <td>771.24</td>\n",
       "      <td>2721.24</td>\n",
       "    </tr>\n",
       "    <tr>\n",
       "      <th>260</th>\n",
       "      <td>1042</td>\n",
       "      <td>Хабаровск</td>\n",
       "      <td>12</td>\n",
       "      <td>755.0</td>\n",
       "      <td>75.0</td>\n",
       "      <td>37219</td>\n",
       "      <td>smart</td>\n",
       "      <td>5109.34</td>\n",
       "      <td>5659.34</td>\n",
       "    </tr>\n",
       "    <tr>\n",
       "      <th>311</th>\n",
       "      <td>1050</td>\n",
       "      <td>Тюмень</td>\n",
       "      <td>7</td>\n",
       "      <td>218.0</td>\n",
       "      <td>52.0</td>\n",
       "      <td>35205</td>\n",
       "      <td>ultra</td>\n",
       "      <td>656.98</td>\n",
       "      <td>2606.98</td>\n",
       "    </tr>\n",
       "    <tr>\n",
       "      <th>383</th>\n",
       "      <td>1060</td>\n",
       "      <td>Калуга</td>\n",
       "      <td>12</td>\n",
       "      <td>1273.0</td>\n",
       "      <td>52.0</td>\n",
       "      <td>43973</td>\n",
       "      <td>ultra</td>\n",
       "      <td>1941.36</td>\n",
       "      <td>3891.36</td>\n",
       "    </tr>\n",
       "  </tbody>\n",
       "</table>\n",
       "</div>"
      ],
      "text/plain": [
       "     user_id             city  month  duration   sms  mb_used tariff_name  \\\n",
       "159     1024  Санкт-Петербург     11    1176.0   0.0    43146       ultra   \n",
       "160     1024  Санкт-Петербург     12     977.0   0.0    35985       ultra   \n",
       "260     1042        Хабаровск     12     755.0  75.0    37219       smart   \n",
       "311     1050           Тюмень      7     218.0  52.0    35205       ultra   \n",
       "383     1060           Калуга     12    1273.0  52.0    43973       ultra   \n",
       "\n",
       "     revenue  revenue_total  \n",
       "159  1820.21        3770.21  \n",
       "160   771.24        2721.24  \n",
       "260  5109.34        5659.34  \n",
       "311   656.98        2606.98  \n",
       "383  1941.36        3891.36  "
      ]
     },
     "execution_count": 115,
     "metadata": {},
     "output_type": "execute_result"
    }
   ],
   "source": [
    "revenue.query('mb_used > 34825').head()"
   ]
  },
  {
   "cell_type": "markdown",
   "metadata": {},
   "source": [
    "### Шаг 3. Анализ данных"
   ]
  },
  {
   "cell_type": "markdown",
   "metadata": {},
   "source": [
    "Функция для вывода значения среднего, дисперсии, стандартного отклонения и построения графиков boxplot и гистрограммы для значений определенного столбца по определенному тарифу"
   ]
  },
  {
   "cell_type": "code",
   "execution_count": 116,
   "metadata": {},
   "outputs": [],
   "source": [
    "def dist(tariff, column):\n",
    "    \"\"\"\n",
    "    tariff - тарифный план клиента\n",
    "    column - столбец со значениями для которого производятся вычисления\n",
    "    \"\"\"\n",
    "    print('Среднее:', revenue[revenue['tariff_name'] == tariff][column].mean())\n",
    "    print('Дисперсия:', revenue[revenue['tariff_name'] == tariff][column].var())\n",
    "    print('Стандартное отклонение:', revenue[revenue['tariff_name'] == tariff][column].std())\n",
    "    revenue[revenue['tariff_name'] == tariff].hist(column, bins=30)\n",
    "    plt.show()\n",
    "    revenue[revenue['tariff_name'] == tariff].boxplot(column)\n",
    "    plt.show()"
   ]
  },
  {
   "cell_type": "markdown",
   "metadata": {},
   "source": [
    "#### 1) Сколько минут разговора требуется  пользователям каждого тарифа в месяц? "
   ]
  },
  {
   "cell_type": "markdown",
   "metadata": {},
   "source": [
    "Пользователи тарифа `«Смарт»`"
   ]
  },
  {
   "cell_type": "markdown",
   "metadata": {},
   "source": [
    "Распределение приближенно к нормальному. Среднее значение составляет 429 минуту и близко к медиане. Стандартное отклонение 194."
   ]
  },
  {
   "cell_type": "code",
   "execution_count": 117,
   "metadata": {},
   "outputs": [
    {
     "name": "stdout",
     "output_type": "stream",
     "text": [
      "Среднее: 429.62118491921007\n",
      "Дисперсия: 37927.14426586058\n",
      "Стандартное отклонение: 194.74892622517996\n"
     ]
    },
    {
     "data": {
      "image/png": "[encoded data removed]",
      "text/plain": [
       "<Figure size 432x288 with 1 Axes>"
      ]
     },
     "metadata": {
      "needs_background": "light"
     },
     "output_type": "display_data"
    },
    {
     "data": {
      "image/png": "[encoded data removed]",
      "text/plain": [
       "<Figure size 432x288 with 1 Axes>"
      ]
     },
     "metadata": {
      "needs_background": "light"
     },
     "output_type": "display_data"
    }
   ],
   "source": [
    "dist('smart', 'duration')"
   ]
  },
  {
   "cell_type": "markdown",
   "metadata": {},
   "source": [
    "Пользователи тарифа `«Ультра»`"
   ]
  },
  {
   "cell_type": "markdown",
   "metadata": {},
   "source": [
    "Среднее значение составляет 543 минуты и близко к медиане. Стандартное отклонение 325."
   ]
  },
  {
   "cell_type": "code",
   "execution_count": 118,
   "metadata": {},
   "outputs": [
    {
     "name": "stdout",
     "output_type": "stream",
     "text": [
      "Среднее: 543.974358974359\n",
      "Дисперсия: 106122.44800716071\n",
      "Стандартное отклонение: 325.7644056786449\n"
     ]
    },
    {
     "data": {
      "image/png": "[encoded data removed]",
      "text/plain": [
       "<Figure size 432x288 with 1 Axes>"
      ]
     },
     "metadata": {
      "needs_background": "light"
     },
     "output_type": "display_data"
    },
    {
     "data": {
      "image/png": "[encoded data removed]",
      "text/plain": [
       "<Figure size 432x288 with 1 Axes>"
      ]
     },
     "metadata": {
      "needs_background": "light"
     },
     "output_type": "display_data"
    }
   ],
   "source": [
    "dist('ultra', 'duration')"
   ]
  },
  {
   "cell_type": "markdown",
   "metadata": {},
   "source": [
    "#### 2)  Сколько сообщений требуется пользователям каждого тарифа в месяц?"
   ]
  },
  {
   "cell_type": "markdown",
   "metadata": {},
   "source": [
    "Пользователи тарифа `«Смарт»`"
   ]
  },
  {
   "cell_type": "markdown",
   "metadata": {},
   "source": [
    "Выделяется большое количество значений менее 5 сообщений. Среднее значение составляет 33 сообщения и близко к медиане. Стандартное отклонение 28."
   ]
  },
  {
   "cell_type": "code",
   "execution_count": 119,
   "metadata": {},
   "outputs": [
    {
     "name": "stdout",
     "output_type": "stream",
     "text": [
      "Среднее: 33.398563734290846\n",
      "Дисперсия: 796.6996297278673\n",
      "Стандартное отклонение: 28.225868095204216\n"
     ]
    },
    {
     "data": {
      "image/png": "[encoded data removed]",
      "text/plain": [
       "<Figure size 432x288 with 1 Axes>"
      ]
     },
     "metadata": {
      "needs_background": "light"
     },
     "output_type": "display_data"
    },
    {
     "data": {
      "image/png": "[encoded data removed]",
      "text/plain": [
       "<Figure size 432x288 with 1 Axes>"
      ]
     },
     "metadata": {
      "needs_background": "light"
     },
     "output_type": "display_data"
    }
   ],
   "source": [
    "dist('smart', 'sms')"
   ]
  },
  {
   "cell_type": "markdown",
   "metadata": {},
   "source": [
    "Пользователи тарифа `«Ультра»`"
   ]
  },
  {
   "cell_type": "markdown",
   "metadata": {},
   "source": [
    "Выделяется большое количество значений менее 10 сообщений. Среднее значение составляет 48 сообщений и близко к медиане. Стандартное отклонение 46."
   ]
  },
  {
   "cell_type": "markdown",
   "metadata": {},
   "source": [
    "Сейчас люди редко пользуются SMS. Пропуски в общей таблице я заполнил 0. Это 497 значений, поэтому они выделяются на гистограммах."
   ]
  },
  {
   "cell_type": "code",
   "execution_count": 120,
   "metadata": {},
   "outputs": [
    {
     "name": "stdout",
     "output_type": "stream",
     "text": [
      "Среднее: 49.585641025641024\n",
      "Дисперсия: 2301.9246396040603\n",
      "Стандартное отклонение: 47.97837679209313\n"
     ]
    },
    {
     "data": {
      "image/png": "[encoded data removed]",
      "text/plain": [
       "<Figure size 432x288 with 1 Axes>"
      ]
     },
     "metadata": {
      "needs_background": "light"
     },
     "output_type": "display_data"
    },
    {
     "data": {
      "image/png": "[encoded data removed]",
      "text/plain": [
       "<Figure size 432x288 with 1 Axes>"
      ]
     },
     "metadata": {
      "needs_background": "light"
     },
     "output_type": "display_data"
    }
   ],
   "source": [
    "dist('ultra', 'sms')"
   ]
  },
  {
   "cell_type": "markdown",
   "metadata": {},
   "source": [
    "####  3) Какой объём интернет-трафика требуется пользователям каждого тарифа в месяц?"
   ]
  },
  {
   "cell_type": "markdown",
   "metadata": {},
   "source": [
    "Пользователи тарифа `«Смарт»`"
   ]
  },
  {
   "cell_type": "markdown",
   "metadata": {},
   "source": [
    "Распределение приближенно к нормальному. Среднее значение составляет 16236 мегабайт и близко к медиане. Стандартное отклонение 5868."
   ]
  },
  {
   "cell_type": "code",
   "execution_count": 121,
   "metadata": {},
   "outputs": [
    {
     "name": "stdout",
     "output_type": "stream",
     "text": [
      "Среднее: 16236.47262118492\n",
      "Дисперсия: 34443100.68133363\n",
      "Стандартное отклонение: 5868.824471845587\n"
     ]
    },
    {
     "data": {
      "image/png": "[encoded data removed]",
      "text/plain": [
       "<Figure size 432x288 with 1 Axes>"
      ]
     },
     "metadata": {
      "needs_background": "light"
     },
     "output_type": "display_data"
    },
    {
     "data": {
      "image/png": "[encoded data removed]",
      "text/plain": [
       "<Figure size 432x288 with 1 Axes>"
      ]
     },
     "metadata": {
      "needs_background": "light"
     },
     "output_type": "display_data"
    }
   ],
   "source": [
    "dist('smart', 'mb_used')"
   ]
  },
  {
   "cell_type": "markdown",
   "metadata": {},
   "source": [
    "Пользователи тарифа `«Ультра»`"
   ]
  },
  {
   "cell_type": "markdown",
   "metadata": {},
   "source": [
    "Распределение приближенно к нормальному. Среднее значение составляет 19686 мегабайт и несколько меньше медианы. Стандартное отклонение 9952."
   ]
  },
  {
   "cell_type": "code",
   "execution_count": 122,
   "metadata": {},
   "outputs": [
    {
     "name": "stdout",
     "output_type": "stream",
     "text": [
      "Среднее: 19686.76717948718\n",
      "Дисперсия: 99043439.60795656\n",
      "Стандартное отклонение: 9952.057054094725\n"
     ]
    },
    {
     "data": {
      "image/png": "[encoded data removed]",
      "text/plain": [
       "<Figure size 432x288 with 1 Axes>"
      ]
     },
     "metadata": {
      "needs_background": "light"
     },
     "output_type": "display_data"
    },
    {
     "data": {
      "image/png": "[encoded data removed]",
      "text/plain": [
       "<Figure size 432x288 with 1 Axes>"
      ]
     },
     "metadata": {
      "needs_background": "light"
     },
     "output_type": "display_data"
    }
   ],
   "source": [
    "dist('ultra', 'mb_used')"
   ]
  },
  {
   "cell_type": "markdown",
   "metadata": {},
   "source": [
    "### Шаг 4. Проверка гипотез"
   ]
  },
  {
   "cell_type": "markdown",
   "metadata": {},
   "source": [
    "#### 1) Гипотеза: средняя выручка пользователей тарифов «Ультра» и «Смарт» различаются"
   ]
  },
  {
   "cell_type": "markdown",
   "metadata": {},
   "source": [
    "Нулевая гипотеза формулируется как равенство. Альтернативная гипотеза - как различие."
   ]
  },
  {
   "cell_type": "markdown",
   "metadata": {},
   "source": [
    "Нулевая гипотеза: средняя выручка пользователей тарифов «Ультра» и «Смарт» не различаются<br>\n",
    "Альтернативная гипотеза: средняя выручка пользователей тарифов «Ультра» и «Смарт» различаются"
   ]
  },
  {
   "cell_type": "markdown",
   "metadata": {},
   "source": [
    "Создаю датафреймы с данными по каждому тарифу"
   ]
  },
  {
   "cell_type": "code",
   "execution_count": 123,
   "metadata": {},
   "outputs": [],
   "source": [
    "smart = revenue[revenue['tariff_name'] == \"smart\"]['revenue_total']"
   ]
  },
  {
   "cell_type": "code",
   "execution_count": 124,
   "metadata": {},
   "outputs": [],
   "source": [
    "ultra = revenue[revenue['tariff_name'] == \"ultra\"]['revenue_total']"
   ]
  },
  {
   "cell_type": "markdown",
   "metadata": {},
   "source": [
    "Согласно центральной предельной теореме, если в выборке достаточно наблюдений, выборочное распределение выборочного среднего из любой генеральной совокупности распределено нормально вокруг среднего этой генеральной совокупности. Эксперты сообщают, что мы имеем достаточную выборку, поэтому можно использовать t-test."
   ]
  },
  {
   "cell_type": "markdown",
   "metadata": {},
   "source": [
    "Стоит задача проверить гипотезу о равенстве средних двух генеральных совокупностей - пользователи тарифа «Ультра» и пользователи тарифа «Смарт». Поэтому применяю метод `scipy.stats.ttest_ind()`"
   ]
  },
  {
   "cell_type": "code",
   "execution_count": 125,
   "metadata": {},
   "outputs": [
    {
     "name": "stdout",
     "output_type": "stream",
     "text": [
      "p-значение: 4.1289837387351846e-179\n",
      "Отвергаем нулевую гипотезу\n"
     ]
    }
   ],
   "source": [
    "alpha = 0.05 #критический уровень статистической значимости\n",
    "results = st.ttest_ind(smart, ultra)\n",
    "print('p-значение:', results.pvalue) #уровень значимости\n",
    "if (results.pvalue < alpha):\n",
    "    print(\"Отвергаем нулевую гипотезу\")\n",
    "else:\n",
    "    print(\"Не отвергаем нулевую гипотезу\")"
   ]
  },
  {
   "cell_type": "markdown",
   "metadata": {},
   "source": [
    "Нулевая гипотеза была отвергнута. Есть основания полагать, что средняя выручка пользователей тарифов «Ультра» и «Смарт» различаются."
   ]
  },
  {
   "cell_type": "code",
   "execution_count": 126,
   "metadata": {},
   "outputs": [
    {
     "data": {
      "text/plain": [
       "1250.6395152603232"
      ]
     },
     "execution_count": 126,
     "metadata": {},
     "output_type": "execute_result"
    }
   ],
   "source": [
    "smart.mean()"
   ]
  },
  {
   "cell_type": "code",
   "execution_count": 127,
   "metadata": {},
   "outputs": [
    {
     "data": {
      "text/plain": [
       "2061.6636410256397"
      ]
     },
     "execution_count": 127,
     "metadata": {},
     "output_type": "execute_result"
    }
   ],
   "source": [
    "ultra.mean()"
   ]
  },
  {
   "cell_type": "markdown",
   "metadata": {},
   "source": [
    "#### 2) Гипотеза: средняя выручка пользователей из Москвы отличается от выручки пользователей из других регионов"
   ]
  },
  {
   "cell_type": "markdown",
   "metadata": {},
   "source": [
    "Нулевая гипотеза формулируется как равенство. Альтернативная гипотеза - как различие."
   ]
  },
  {
   "cell_type": "markdown",
   "metadata": {},
   "source": [
    "Нулевая гипотеза: средняя выручка пользователей из Москвы не отличается от выручки пользователей из других регионов<br>\n",
    "Альтернативная гипотеза: средняя выручка пользователей из Москвы отличается от выручки пользователей из других регионов"
   ]
  },
  {
   "cell_type": "markdown",
   "metadata": {},
   "source": [
    "Создаю датафреймы с данными пользователей из Москвы и пользователей из других регионов"
   ]
  },
  {
   "cell_type": "code",
   "execution_count": 128,
   "metadata": {},
   "outputs": [],
   "source": [
    "moscow = revenue[revenue['city'] == \"Москва\"]['revenue_total']"
   ]
  },
  {
   "cell_type": "code",
   "execution_count": 129,
   "metadata": {},
   "outputs": [],
   "source": [
    "others = revenue[revenue['city'] != \"Москва\"]['revenue_total']"
   ]
  },
  {
   "cell_type": "markdown",
   "metadata": {},
   "source": [
    "Согласно центральной предельной теореме, если в выборке достаточно наблюдений, выборочное распределение выборочного среднего из любой генеральной совокупности распределено нормально вокруг среднего этой генеральной совокупности. Эксперты сообщают, что мы имеем достаточную выборку, поэтому можно использовать t-test."
   ]
  },
  {
   "cell_type": "markdown",
   "metadata": {},
   "source": [
    "Стоит задача проверить гипотезу о равенстве средних двух генеральных совокупностей - пользователи из Москвы и пользователи из других регионов. Поэтому применяю метод `scipy.stats.ttest_ind()`"
   ]
  },
  {
   "cell_type": "code",
   "execution_count": 130,
   "metadata": {},
   "outputs": [
    {
     "name": "stdout",
     "output_type": "stream",
     "text": [
      "p-значение: 0.49587928330631337\n",
      "Не отвергаем нулевую гипотезу\n"
     ]
    }
   ],
   "source": [
    "alpha = 0.05 #критический уровень статистической значимости\n",
    "results = st.ttest_ind(moscow, others)\n",
    "print('p-значение:', results.pvalue)  #уровень значимости\n",
    "if (results.pvalue < alpha):\n",
    "    print(\"Отвергаем нулевую гипотезу\")\n",
    "else:\n",
    "    print(\"Не отвергаем нулевую гипотезу\")"
   ]
  },
  {
   "cell_type": "markdown",
   "metadata": {},
   "source": [
    "Нулевая гипотеза не была отвергнута. Есть основания полагать, что средняя выручка пользователей из Москвы существенно не отличается от выручки пользователей из других регионов."
   ]
  },
  {
   "cell_type": "code",
   "execution_count": 131,
   "metadata": {},
   "outputs": [
    {
     "data": {
      "text/plain": [
       "1517.0377414075292"
      ]
     },
     "execution_count": 131,
     "metadata": {},
     "output_type": "execute_result"
    }
   ],
   "source": [
    "moscow.mean()"
   ]
  },
  {
   "cell_type": "code",
   "execution_count": 132,
   "metadata": {},
   "outputs": [
    {
     "data": {
      "text/plain": [
       "1492.9154436728404"
      ]
     },
     "execution_count": 132,
     "metadata": {},
     "output_type": "execute_result"
    }
   ],
   "source": [
    "others.mean()"
   ]
  },
  {
   "cell_type": "markdown",
   "metadata": {},
   "source": [
    "### Шаг 5. Общий вывод"
   ]
  },
  {
   "cell_type": "markdown",
   "metadata": {},
   "source": [
    "#### Какой тариф приносит больше денег?"
   ]
  },
  {
   "cell_type": "markdown",
   "metadata": {},
   "source": [
    "В абсолютных значения выручки по всей выборке больше денег приносит тариф `«Смарт»` - 2786424 рублей против 2010122 рублей"
   ]
  },
  {
   "cell_type": "code",
   "execution_count": 133,
   "metadata": {},
   "outputs": [
    {
     "data": {
      "text/html": [
       "<div>\n",
       "<style scoped>\n",
       "    .dataframe tbody tr th:only-of-type {\n",
       "        vertical-align: middle;\n",
       "    }\n",
       "\n",
       "    .dataframe tbody tr th {\n",
       "        vertical-align: top;\n",
       "    }\n",
       "\n",
       "    .dataframe thead th {\n",
       "        text-align: right;\n",
       "    }\n",
       "</style>\n",
       "<table border=\"1\" class=\"dataframe\">\n",
       "  <thead>\n",
       "    <tr style=\"text-align: right;\">\n",
       "      <th></th>\n",
       "      <th>tariff_name</th>\n",
       "      <th>revenue_total</th>\n",
       "    </tr>\n",
       "  </thead>\n",
       "  <tbody>\n",
       "    <tr>\n",
       "      <th>0</th>\n",
       "      <td>smart</td>\n",
       "      <td>2786424.84</td>\n",
       "    </tr>\n",
       "    <tr>\n",
       "      <th>1</th>\n",
       "      <td>ultra</td>\n",
       "      <td>2010122.05</td>\n",
       "    </tr>\n",
       "  </tbody>\n",
       "</table>\n",
       "</div>"
      ],
      "text/plain": [
       "  tariff_name  revenue_total\n",
       "0       smart     2786424.84\n",
       "1       ultra     2010122.05"
      ]
     },
     "execution_count": 133,
     "metadata": {},
     "output_type": "execute_result"
    }
   ],
   "source": [
    "tariffs = revenue.groupby('tariff_name')['revenue_total'].sum()\n",
    "tariffs = tariffs.reset_index()\n",
    "tariffs"
   ]
  },
  {
   "cell_type": "markdown",
   "metadata": {},
   "source": [
    "Средняя выручка на одного пользователя тарифа `«Смарт»` составляет 7938 рублей, тарифа `«Ультра»` - 13490 рублей"
   ]
  },
  {
   "cell_type": "code",
   "execution_count": 134,
   "metadata": {},
   "outputs": [
    {
     "data": {
      "text/html": [
       "<div>\n",
       "<style scoped>\n",
       "    .dataframe tbody tr th:only-of-type {\n",
       "        vertical-align: middle;\n",
       "    }\n",
       "\n",
       "    .dataframe tbody tr th {\n",
       "        vertical-align: top;\n",
       "    }\n",
       "\n",
       "    .dataframe thead th {\n",
       "        text-align: right;\n",
       "    }\n",
       "</style>\n",
       "<table border=\"1\" class=\"dataframe\">\n",
       "  <thead>\n",
       "    <tr style=\"text-align: right;\">\n",
       "      <th></th>\n",
       "      <th>tariff</th>\n",
       "      <th>user_id</th>\n",
       "    </tr>\n",
       "  </thead>\n",
       "  <tbody>\n",
       "    <tr>\n",
       "      <th>0</th>\n",
       "      <td>smart</td>\n",
       "      <td>351</td>\n",
       "    </tr>\n",
       "    <tr>\n",
       "      <th>1</th>\n",
       "      <td>ultra</td>\n",
       "      <td>149</td>\n",
       "    </tr>\n",
       "  </tbody>\n",
       "</table>\n",
       "</div>"
      ],
      "text/plain": [
       "  tariff  user_id\n",
       "0  smart      351\n",
       "1  ultra      149"
      ]
     },
     "execution_count": 134,
     "metadata": {},
     "output_type": "execute_result"
    }
   ],
   "source": [
    "tariff_users = users.groupby('tariff')['user_id'].count()\n",
    "tariff_users = tariff_users.reset_index()\n",
    "tariff_users"
   ]
  },
  {
   "cell_type": "code",
   "execution_count": 135,
   "metadata": {},
   "outputs": [
    {
     "data": {
      "text/plain": [
       "7938.532307692307"
      ]
     },
     "execution_count": 135,
     "metadata": {},
     "output_type": "execute_result"
    }
   ],
   "source": [
    "tariffs['revenue_total'][0] / tariff_users['user_id'][0]"
   ]
  },
  {
   "cell_type": "code",
   "execution_count": 136,
   "metadata": {},
   "outputs": [
    {
     "data": {
      "text/plain": [
       "13490.75201342281"
      ]
     },
     "execution_count": 136,
     "metadata": {},
     "output_type": "execute_result"
    }
   ],
   "source": [
    "tariffs['revenue_total'][1] / tariff_users['user_id'][1]"
   ]
  },
  {
   "cell_type": "markdown",
   "metadata": {},
   "source": [
    "#### Какой тариф наиболее перспективный?"
   ]
  },
  {
   "cell_type": "markdown",
   "metadata": {},
   "source": [
    "Хотя средняя общая выручка пользователей тарифа Смарт почти в два раза меньше, этот тариф привлекает большее количество пользователей и их средняя добавочная выручка на 15% выше, чем у пользователей тарифа Ультра. Поэтому можно предположить, что тариф Смарт более перспективен для развития и привлечения новых пользователей."
   ]
  },
  {
   "cell_type": "code",
   "execution_count": 137,
   "metadata": {},
   "outputs": [
    {
     "data": {
      "text/html": [
       "<div>\n",
       "<style scoped>\n",
       "    .dataframe tbody tr th:only-of-type {\n",
       "        vertical-align: middle;\n",
       "    }\n",
       "\n",
       "    .dataframe tbody tr th {\n",
       "        vertical-align: top;\n",
       "    }\n",
       "\n",
       "    .dataframe thead th {\n",
       "        text-align: right;\n",
       "    }\n",
       "</style>\n",
       "<table border=\"1\" class=\"dataframe\">\n",
       "  <thead>\n",
       "    <tr style=\"text-align: right;\">\n",
       "      <th></th>\n",
       "      <th>tariff</th>\n",
       "      <th>user_id</th>\n",
       "    </tr>\n",
       "  </thead>\n",
       "  <tbody>\n",
       "    <tr>\n",
       "      <th>0</th>\n",
       "      <td>smart</td>\n",
       "      <td>351</td>\n",
       "    </tr>\n",
       "    <tr>\n",
       "      <th>1</th>\n",
       "      <td>ultra</td>\n",
       "      <td>149</td>\n",
       "    </tr>\n",
       "  </tbody>\n",
       "</table>\n",
       "</div>"
      ],
      "text/plain": [
       "  tariff  user_id\n",
       "0  smart      351\n",
       "1  ultra      149"
      ]
     },
     "execution_count": 137,
     "metadata": {},
     "output_type": "execute_result"
    }
   ],
   "source": [
    "tariff_users"
   ]
  },
  {
   "cell_type": "markdown",
   "metadata": {},
   "source": [
    "25% пользователей тарифа Смарт не выходят за пределы лимитов"
   ]
  },
  {
   "cell_type": "code",
   "execution_count": 138,
   "metadata": {},
   "outputs": [
    {
     "data": {
      "text/plain": [
       "0.24820466786355475"
      ]
     },
     "execution_count": 138,
     "metadata": {},
     "output_type": "execute_result"
    }
   ],
   "source": [
    "len(revenue.query('tariff_name == \"smart\" and revenue == 0')) \\\n",
    "/ len(revenue.query('tariff_name == \"smart\"'))"
   ]
  },
  {
   "cell_type": "markdown",
   "metadata": {},
   "source": [
    "Средняя плата при превышении лимитов по тарифу Смарт составляет 931 рубль"
   ]
  },
  {
   "cell_type": "code",
   "execution_count": 139,
   "metadata": {},
   "outputs": [
    {
     "data": {
      "text/plain": [
       "931.955128358209"
      ]
     },
     "execution_count": 139,
     "metadata": {},
     "output_type": "execute_result"
    }
   ],
   "source": [
    "revenue.query('tariff_name == \"smart\" and revenue != 0')['revenue'].mean()"
   ]
  },
  {
   "cell_type": "markdown",
   "metadata": {},
   "source": [
    "86% пользователей тарифа Ультра не выходят за пределы лимитов"
   ]
  },
  {
   "cell_type": "code",
   "execution_count": 140,
   "metadata": {},
   "outputs": [
    {
     "data": {
      "text/plain": [
       "0.8625641025641025"
      ]
     },
     "execution_count": 140,
     "metadata": {},
     "output_type": "execute_result"
    }
   ],
   "source": [
    "len(revenue.query('tariff_name == \"ultra\" and revenue == 0')) \\\n",
    "/ len(revenue.query('tariff_name == \"ultra\"'))"
   ]
  },
  {
   "cell_type": "markdown",
   "metadata": {},
   "source": [
    "Средняя плата при превышении лимитов по тарифу Ультра составляет 812 рублей"
   ]
  },
  {
   "cell_type": "code",
   "execution_count": 141,
   "metadata": {},
   "outputs": [
    {
     "data": {
      "text/plain": [
       "812.4779850746272"
      ]
     },
     "execution_count": 141,
     "metadata": {},
     "output_type": "execute_result"
    }
   ],
   "source": [
    "revenue.query('tariff_name == \"ultra\" and revenue != 0')['revenue'].mean()"
   ]
  },
  {
   "cell_type": "markdown",
   "metadata": {},
   "source": [
    "### Общий вывод:\n",
    "#### Предобработка:\n",
    "- В ходе предобработки обнаружены нулевые значения длительности звонка(около 20% выборки). Они предположительно возникли из-за ошибки измерения сверхмалых значений, поэтому были округлены вверх до одной минуты. \n",
    "- Значения о времени разговора и объёме трафика были округлены вверх.\n",
    "\n",
    "#### Исследование:\n",
    "- Проведено исследование поведения клиентов оператора сотовой связи. Определён наиболее прибыльный и перспективный тарифный план.\n",
    "- Абсолютная выручка тарифного плана Смарт составляет 2786424 рублей, что на 38% больше, чем у тарифа Ультра. 86% пользователей тарифа Ультра не выходят за пределы лимитов. Для тарифа Смарт таких около 25%. \n",
    "- Средние значения использования каждого типа связи не имеют существенного различия в зависимости от тарифа. Из этого можно сделать вывод, что пользователи тарифа Ультра не в полной мере тратят лимиты, установленные тарифом. Из-за высокой абонентской платы они приносят больше выручки, чем пользователи тарифа Смарт, даже с учетом платы за превышение лимитов последними.\n",
    "- При условии репрезентативности выборки, количество пользователей тарифа Смарт в два раза больше. Их средняя добавочная выручка на 15% выше. Что позволяет сделать вывод о переспективности тарифа Смарт для развития и привлечения новых клиентов.\n",
    "- Проведена проверка гипотезы о том, что средняя выручка пользователей тарифов «Ультра» и «Смарт» различаются. По результатам можно сделать вывод, что средняя выручка по тарифам скорее различается.\n",
    "- Проведена проверка гипотезы о том, что средняя выручка пользователей из Москвы отличается от выручки пользователей из других регионов. По результатам можно сделать вывод, что средняя выручка в Москве и остальных регионах скорее не различается."
   ]
  }
 ],
 "metadata": {
  "kernelspec": {
   "display_name": "Python 3",
   "language": "python",
   "name": "python3"
  },
  "language_info": {
   "codemirror_mode": {
    "name": "ipython",
    "version": 3
   },
   "file_extension": ".py",
   "mimetype": "text/x-python",
   "name": "python",
   "nbconvert_exporter": "python",
   "pygments_lexer": "ipython3",
   "version": "3.7.3"
  }
 },
 "nbformat": 4,
 "nbformat_minor": 2
}
