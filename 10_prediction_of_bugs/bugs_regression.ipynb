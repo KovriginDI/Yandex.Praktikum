{
 "cells": [
  {
   "cell_type": "markdown",
   "metadata": {},
   "source": [
    "### ТЕСТОВОЕ ЗАДАНИЕ\n",
    "- Необходимо реализовать модель на основе данного датасета\n",
    "- Для достижения данной цели нужно обработать датасет, привести его в вид, готовый для обучения с помощью модели МЛ (выбор модели зависит только от вас, ограничений на это нет)\n",
    "#### Требования:\n",
    "- Python script/ Python Jupyter notebook\n",
    "#### Материалы:\n",
    "- Ссылка на датасет: https://drive.google.com/file/d/1lL9XWBR_3F4xozizi0aOEfrI-VqqNcKw/view?usp=sharing\n",
    "#### Описание датасета:\n",
    "- Датасет описывает некоторую зависимость числа `bugs` от значений `repository_name`, `commit_hash`, `commit_date`, `commit_author`, `commit_message`. Вам необходимо выявить данную зависимость и написать скрипт/ноутбук, обучающий модель по данному датасету<br>\n",
    "\n",
    "Готовый проект выложить на GitHub и прислать ссылку"
   ]
  },
  {
   "cell_type": "code",
   "execution_count": 70,
   "metadata": {},
   "outputs": [],
   "source": [
    "import pandas as pd\n",
    "import numpy as np\n",
    "from matplotlib import pyplot as plt\n",
    "import lightgbm as lgb\n",
    "from catboost import CatBoostRegressor\n",
    "from sklearn.linear_model import LinearRegression\n",
    "from sklearn.svm import SVR\n",
    "from sklearn.ensemble import RandomForestRegressor\n",
    "from sklearn.metrics import mean_squared_error\n",
    "from sklearn.model_selection import train_test_split, GridSearchCV, KFold\n",
    "from sklearn.preprocessing import OneHotEncoder\n",
    "from scipy.sparse import hstack\n",
    "import nltk\n",
    "from nltk.corpus import stopwords as nltk_stopwords\n",
    "from sklearn.feature_extraction.text import TfidfVectorizer\n",
    "import eli5\n",
    "import os\n",
    "import warnings\n",
    "warnings.filterwarnings('ignore')"
   ]
  },
  {
   "cell_type": "code",
   "execution_count": 71,
   "metadata": {},
   "outputs": [],
   "source": [
    "PATH = ''\n",
    "SEED = 42"
   ]
  },
  {
   "cell_type": "markdown",
   "metadata": {},
   "source": [
    "Загрузка данных"
   ]
  },
  {
   "cell_type": "code",
   "execution_count": 72,
   "metadata": {},
   "outputs": [],
   "source": [
    "df = pd.read_csv(os.path.join(PATH, 'train.csv'))"
   ]
  },
  {
   "cell_type": "markdown",
   "metadata": {},
   "source": [
    "### Исследовательский анализ и предобработка данных"
   ]
  },
  {
   "cell_type": "markdown",
   "metadata": {},
   "source": [
    "Изучение данных"
   ]
  },
  {
   "cell_type": "code",
   "execution_count": 4,
   "metadata": {},
   "outputs": [
    {
     "data": {
      "text/html": [
       "<div>\n",
       "<style scoped>\n",
       "    .dataframe tbody tr th:only-of-type {\n",
       "        vertical-align: middle;\n",
       "    }\n",
       "\n",
       "    .dataframe tbody tr th {\n",
       "        vertical-align: top;\n",
       "    }\n",
       "\n",
       "    .dataframe thead th {\n",
       "        text-align: right;\n",
       "    }\n",
       "</style>\n",
       "<table border=\"1\" class=\"dataframe\">\n",
       "  <thead>\n",
       "    <tr style=\"text-align: right;\">\n",
       "      <th></th>\n",
       "      <th>repository_name</th>\n",
       "      <th>commit_hash</th>\n",
       "      <th>commit_date</th>\n",
       "      <th>commit_author</th>\n",
       "      <th>commit_message</th>\n",
       "      <th>bugs</th>\n",
       "    </tr>\n",
       "  </thead>\n",
       "  <tbody>\n",
       "    <tr>\n",
       "      <th>0</th>\n",
       "      <td>mlm</td>\n",
       "      <td>b28abb42</td>\n",
       "      <td>2020-06-12T14:26:12</td>\n",
       "      <td>Victor</td>\n",
       "      <td>объяснения предсказаний с помощью lime</td>\n",
       "      <td>4</td>\n",
       "    </tr>\n",
       "    <tr>\n",
       "      <th>1</th>\n",
       "      <td>mlm</td>\n",
       "      <td>438b5c4d</td>\n",
       "      <td>2020-06-12T11:53:10</td>\n",
       "      <td>Victor</td>\n",
       "      <td>Поставил lime вместо eli5</td>\n",
       "      <td>3</td>\n",
       "    </tr>\n",
       "    <tr>\n",
       "      <th>2</th>\n",
       "      <td>mlm</td>\n",
       "      <td>8e6e4f31</td>\n",
       "      <td>2020-06-11T15:19:03</td>\n",
       "      <td>Victor</td>\n",
       "      <td>Скрипт для создния пакетов обновления</td>\n",
       "      <td>4</td>\n",
       "    </tr>\n",
       "    <tr>\n",
       "      <th>3</th>\n",
       "      <td>mlm</td>\n",
       "      <td>5e0956a6</td>\n",
       "      <td>2020-06-11T10:42:29</td>\n",
       "      <td>Victor</td>\n",
       "      <td>Сортировка весов по убыванию</td>\n",
       "      <td>3</td>\n",
       "    </tr>\n",
       "    <tr>\n",
       "      <th>4</th>\n",
       "      <td>mlm</td>\n",
       "      <td>b9f4b40c</td>\n",
       "      <td>2020-06-11T09:25:19</td>\n",
       "      <td>Victor</td>\n",
       "      <td>не надо конвертировать массив до операции по с...</td>\n",
       "      <td>7</td>\n",
       "    </tr>\n",
       "  </tbody>\n",
       "</table>\n",
       "</div>"
      ],
      "text/plain": [
       "  repository_name commit_hash          commit_date commit_author  \\\n",
       "0             mlm    b28abb42  2020-06-12T14:26:12        Victor   \n",
       "1             mlm    438b5c4d  2020-06-12T11:53:10        Victor   \n",
       "2             mlm    8e6e4f31  2020-06-11T15:19:03        Victor   \n",
       "3             mlm    5e0956a6  2020-06-11T10:42:29        Victor   \n",
       "4             mlm    b9f4b40c  2020-06-11T09:25:19        Victor   \n",
       "\n",
       "                                      commit_message  bugs  \n",
       "0             объяснения предсказаний с помощью lime     4  \n",
       "1                          Поставил lime вместо eli5     3  \n",
       "2              Скрипт для создния пакетов обновления     4  \n",
       "3                       Сортировка весов по убыванию     3  \n",
       "4  не надо конвертировать массив до операции по с...     7  "
      ]
     },
     "execution_count": 4,
     "metadata": {},
     "output_type": "execute_result"
    }
   ],
   "source": [
    "df.head()"
   ]
  },
  {
   "cell_type": "code",
   "execution_count": 191,
   "metadata": {},
   "outputs": [
    {
     "data": {
      "text/html": [
       "<div>\n",
       "<style scoped>\n",
       "    .dataframe tbody tr th:only-of-type {\n",
       "        vertical-align: middle;\n",
       "    }\n",
       "\n",
       "    .dataframe tbody tr th {\n",
       "        vertical-align: top;\n",
       "    }\n",
       "\n",
       "    .dataframe thead th {\n",
       "        text-align: right;\n",
       "    }\n",
       "</style>\n",
       "<table border=\"1\" class=\"dataframe\">\n",
       "  <thead>\n",
       "    <tr style=\"text-align: right;\">\n",
       "      <th></th>\n",
       "      <th>repository_name</th>\n",
       "      <th>commit_hash</th>\n",
       "      <th>commit_date</th>\n",
       "      <th>commit_author</th>\n",
       "      <th>commit_message</th>\n",
       "      <th>bugs</th>\n",
       "    </tr>\n",
       "  </thead>\n",
       "  <tbody>\n",
       "    <tr>\n",
       "      <th>73</th>\n",
       "      <td>agent</td>\n",
       "      <td>bd7d2bec</td>\n",
       "      <td>2020-06-05 11:53:30</td>\n",
       "      <td>Victor</td>\n",
       "      <td>Смена адреса хоста обновлений</td>\n",
       "      <td>3</td>\n",
       "    </tr>\n",
       "  </tbody>\n",
       "</table>\n",
       "</div>"
      ],
      "text/plain": [
       "   repository_name commit_hash         commit_date commit_author  \\\n",
       "73           agent    bd7d2bec 2020-06-05 11:53:30        Victor   \n",
       "\n",
       "                   commit_message  bugs  \n",
       "73  Смена адреса хоста обновлений     3  "
      ]
     },
     "execution_count": 191,
     "metadata": {},
     "output_type": "execute_result"
    }
   ],
   "source": [
    "df.sample(random_state=SEED)"
   ]
  },
  {
   "cell_type": "code",
   "execution_count": 5,
   "metadata": {},
   "outputs": [
    {
     "data": {
      "text/html": [
       "<div>\n",
       "<style scoped>\n",
       "    .dataframe tbody tr th:only-of-type {\n",
       "        vertical-align: middle;\n",
       "    }\n",
       "\n",
       "    .dataframe tbody tr th {\n",
       "        vertical-align: top;\n",
       "    }\n",
       "\n",
       "    .dataframe thead th {\n",
       "        text-align: right;\n",
       "    }\n",
       "</style>\n",
       "<table border=\"1\" class=\"dataframe\">\n",
       "  <thead>\n",
       "    <tr style=\"text-align: right;\">\n",
       "      <th></th>\n",
       "      <th>repository_name</th>\n",
       "      <th>commit_hash</th>\n",
       "      <th>commit_date</th>\n",
       "      <th>commit_author</th>\n",
       "      <th>commit_message</th>\n",
       "      <th>bugs</th>\n",
       "    </tr>\n",
       "  </thead>\n",
       "  <tbody>\n",
       "    <tr>\n",
       "      <th>314</th>\n",
       "      <td>sensor</td>\n",
       "      <td>5b1ecbcd</td>\n",
       "      <td>2020-03-23T12:54:35</td>\n",
       "      <td>Dabe</td>\n",
       "      <td>setting hostname</td>\n",
       "      <td>1</td>\n",
       "    </tr>\n",
       "    <tr>\n",
       "      <th>315</th>\n",
       "      <td>sensor</td>\n",
       "      <td>a3f5b753</td>\n",
       "      <td>2020-03-23T12:30:52</td>\n",
       "      <td>Dabe</td>\n",
       "      <td>heralding default dockerfile</td>\n",
       "      <td>2</td>\n",
       "    </tr>\n",
       "    <tr>\n",
       "      <th>316</th>\n",
       "      <td>sensor</td>\n",
       "      <td>e8155942</td>\n",
       "      <td>2020-03-23T11:27:40</td>\n",
       "      <td>Dabe</td>\n",
       "      <td>unnesserity /data path permissions setting</td>\n",
       "      <td>3</td>\n",
       "    </tr>\n",
       "    <tr>\n",
       "      <th>317</th>\n",
       "      <td>sensor</td>\n",
       "      <td>e748af51</td>\n",
       "      <td>2020-03-23T11:20:50</td>\n",
       "      <td>Dabe</td>\n",
       "      <td>added trapconductor</td>\n",
       "      <td>1</td>\n",
       "    </tr>\n",
       "    <tr>\n",
       "      <th>318</th>\n",
       "      <td>sensor</td>\n",
       "      <td>a4574093</td>\n",
       "      <td>2020-03-23T11:07:07</td>\n",
       "      <td>Dabe</td>\n",
       "      <td>sensor</td>\n",
       "      <td>1</td>\n",
       "    </tr>\n",
       "  </tbody>\n",
       "</table>\n",
       "</div>"
      ],
      "text/plain": [
       "    repository_name commit_hash          commit_date commit_author  \\\n",
       "314          sensor    5b1ecbcd  2020-03-23T12:54:35          Dabe   \n",
       "315          sensor    a3f5b753  2020-03-23T12:30:52          Dabe   \n",
       "316          sensor    e8155942  2020-03-23T11:27:40          Dabe   \n",
       "317          sensor    e748af51  2020-03-23T11:20:50          Dabe   \n",
       "318          sensor    a4574093  2020-03-23T11:07:07          Dabe   \n",
       "\n",
       "                                 commit_message  bugs  \n",
       "314                            setting hostname     1  \n",
       "315                heralding default dockerfile     2  \n",
       "316  unnesserity /data path permissions setting     3  \n",
       "317                         added trapconductor     1  \n",
       "318                                      sensor     1  "
      ]
     },
     "execution_count": 5,
     "metadata": {},
     "output_type": "execute_result"
    }
   ],
   "source": [
    "df.tail()"
   ]
  },
  {
   "cell_type": "code",
   "execution_count": 7,
   "metadata": {},
   "outputs": [
    {
     "name": "stdout",
     "output_type": "stream",
     "text": [
      "<class 'pandas.core.frame.DataFrame'>\n",
      "RangeIndex: 319 entries, 0 to 318\n",
      "Data columns (total 6 columns):\n",
      "repository_name    319 non-null object\n",
      "commit_hash        319 non-null object\n",
      "commit_date        319 non-null object\n",
      "commit_author      319 non-null object\n",
      "commit_message     319 non-null object\n",
      "bugs               319 non-null int64\n",
      "dtypes: int64(1), object(5)\n",
      "memory usage: 15.0+ KB\n"
     ]
    }
   ],
   "source": [
    "df.info()"
   ]
  },
  {
   "cell_type": "markdown",
   "metadata": {},
   "source": [
    "Пропусков нет"
   ]
  },
  {
   "cell_type": "code",
   "execution_count": 198,
   "metadata": {},
   "outputs": [
    {
     "data": {
      "text/plain": [
       "array([[<matplotlib.axes._subplots.AxesSubplot object at 0x000002E1C3438C88>]],\n",
       "      dtype=object)"
      ]
     },
     "execution_count": 198,
     "metadata": {},
     "output_type": "execute_result"
    },
    {
     "data": {
      "image/png": "[encoded data removed]",
      "text/plain": [
       "<Figure size 432x288 with 1 Axes>"
      ]
     },
     "metadata": {
      "needs_background": "light"
     },
     "output_type": "display_data"
    }
   ],
   "source": [
    "df.hist('bugs', bins=13)"
   ]
  },
  {
   "cell_type": "markdown",
   "metadata": {},
   "source": [
    "Целевой признак `bugs` в интервале от 0 до 12. Распределение близко к распределению Пуассона. Нет отрицательных и явно ошибочных значений."
   ]
  },
  {
   "cell_type": "code",
   "execution_count": 6,
   "metadata": {},
   "outputs": [
    {
     "data": {
      "text/plain": [
       "Victor     134\n",
       "Mallory     67\n",
       "Wendy       48\n",
       "Dabe        42\n",
       "Eve          9\n",
       "Trudy        9\n",
       "Carol        4\n",
       "Bob          2\n",
       "Peggy        2\n",
       "Alice        2\n",
       "Name: commit_author, dtype: int64"
      ]
     },
     "execution_count": 6,
     "metadata": {},
     "output_type": "execute_result"
    }
   ],
   "source": [
    "df['commit_author'].value_counts()"
   ]
  },
  {
   "cell_type": "markdown",
   "metadata": {},
   "source": [
    "Почти половина коммитов сделаны автором Victor. Около 90% коммитов сделаны четырьмя авторами."
   ]
  },
  {
   "cell_type": "code",
   "execution_count": 8,
   "metadata": {},
   "outputs": [
    {
     "data": {
      "text/plain": [
       "conductor    114\n",
       "sensor       102\n",
       "mlm           41\n",
       "standard      29\n",
       "dockers       19\n",
       "agent         14\n",
       "Name: repository_name, dtype: int64"
      ]
     },
     "execution_count": 8,
     "metadata": {},
     "output_type": "execute_result"
    }
   ],
   "source": [
    "df['repository_name'].value_counts()"
   ]
  },
  {
   "cell_type": "markdown",
   "metadata": {},
   "source": [
    "Около 70% коммитов в репозиториях `conductor` и `sensor`"
   ]
  },
  {
   "cell_type": "code",
   "execution_count": 11,
   "metadata": {},
   "outputs": [
    {
     "data": {
      "text/plain": [
       "Merge branch 'changes-to-merge' into 'master'                         4\n",
       "Initial commit                                                        3\n",
       "Update service.py                                                     2\n",
       "Merge branch 'master' of                                              2\n",
       "installer changes                                                     2\n",
       "moved config files to /opt/avssoft/configs                            2\n",
       "fix set_state                                                         2\n",
       "v2, head/tail problem solved                                          1\n",
       "забекс устанавливаем отдельно                                         1\n",
       "install filebeat from offisial repository                             1\n",
       "added .gitignore                                                      1\n",
       "More flexible removing of extension in compose files                  1\n",
       "bug fixes                                                             1\n",
       "suricata pcaplog enabling                                             1\n",
       "Добавлено больше логирования и фикс до частичной работоспособности    1\n",
       "Get filebeat from elastic repository                                  1\n",
       "Update docs                                                           1\n",
       "Перешли с npz на hdf5                                                 1\n",
       "Изменён ssh порт                                                      1\n",
       "Update gsub.js                                                        1\n",
       "Установка всех зависимостей теперь в докер файле                      1\n",
       "oups fixed dist                                                       1\n",
       "force copy                                                            1\n",
       "fix rules.yaml                                                        1\n",
       "Смена адреса хоста обновлений                                         1\n",
       "Сортировка весов по убыванию                                          1\n",
       "Исправлены ошибки конвертации из DevExtreme в sql запрос              1\n",
       "Склонирован cowrie для его модификации                                1\n",
       "rsplit не переворачивает список                                       1\n",
       "start openvpn service                                                 1\n",
       "                                                                     ..\n",
       "выключение dbconf окна для postinstall                                1\n",
       "Улучшен алгоритм отправки файла                                       1\n",
       "zabbix fixes                                                          1\n",
       "add sync when suricata install                                        1\n",
       "clean without removement                                              1\n",
       "Download rules twhen suricata installed                               1\n",
       "suricata rules download                                               1\n",
       "Обновить 'configs/filebeat/filebeat.yml'                              1\n",
       "added dns trap                                                        1\n",
       "Авторизация в ЕЛК                                                     1\n",
       "install zabbix                                                        1\n",
       "Обновить 'myinstaller.sh'                                             1\n",
       "keep_alive url changed                                                1\n",
       "Added docs                                                            1\n",
       "смена elk адреса                                                      1\n",
       "Check Lables                                                          1\n",
       "HostName info                                                         1\n",
       "pcap clearing by DELETE method                                        1\n",
       "Изменение способов перезагрузки правил у Suricata                     1\n",
       "setting hostname                                                      1\n",
       "optimize getting running containers; handling file rename             1\n",
       "added filebeat config                                                 1\n",
       "fix turnoff filebeat                                                  1\n",
       "Добавил старые репозитории чтобы установить zabbex 3.0.7              1\n",
       "Изменение версии и статуса, после обновления                          1\n",
       "Response class                                                        1\n",
       "400g logstash                                                         1\n",
       "Импорт одной функции из storage.py вместо *                           1\n",
       "Если Filebeat поле пустое то не нужно создавать для него конфиг       1\n",
       "global variable assignment without global                             1\n",
       "Name: commit_message, Length: 309, dtype: int64"
      ]
     },
     "execution_count": 11,
     "metadata": {},
     "output_type": "execute_result"
    }
   ],
   "source": [
    "df['commit_message'].value_counts()"
   ]
  },
  {
   "cell_type": "markdown",
   "metadata": {},
   "source": [
    "Признак `commit_message` содержит текст на русском или английском языках. Объекты почти не повторяются."
   ]
  },
  {
   "cell_type": "markdown",
   "metadata": {},
   "source": [
    "Изменяю формат признака `commit_date` на `DateTime`"
   ]
  },
  {
   "cell_type": "code",
   "execution_count": 115,
   "metadata": {},
   "outputs": [],
   "source": [
    "df['commit_date'] = pd.to_datetime(df['commit_date'])"
   ]
  },
  {
   "cell_type": "code",
   "execution_count": 116,
   "metadata": {},
   "outputs": [
    {
     "data": {
      "text/plain": [
       "count                     319\n",
       "unique                    318\n",
       "top       2020-06-10 10:17:03\n",
       "freq                        2\n",
       "first     2020-03-08 14:26:16\n",
       "last      2020-06-12 14:26:12\n",
       "Name: commit_date, dtype: object"
      ]
     },
     "execution_count": 116,
     "metadata": {},
     "output_type": "execute_result"
    }
   ],
   "source": [
    "df['commit_date'].describe()"
   ]
  },
  {
   "cell_type": "markdown",
   "metadata": {},
   "source": [
    "Датасет состоит из записей в промежутке времени с `2020-03-08 14:26:16` до `2020-06-12 14:26:12`"
   ]
  },
  {
   "cell_type": "markdown",
   "metadata": {},
   "source": [
    "Добавление новых признаков со значениями дня недели и часа."
   ]
  },
  {
   "cell_type": "code",
   "execution_count": 43,
   "metadata": {},
   "outputs": [],
   "source": [
    "df['dayofweek'] = df['commit_date'].dt.weekday\n",
    "df['hour'] = pd.DatetimeIndex(df['commit_date']).hour"
   ]
  },
  {
   "cell_type": "markdown",
   "metadata": {},
   "source": [
    "Создаю новый датафрейм `df_sort`, отсортированный по дате по возрастанию"
   ]
  },
  {
   "cell_type": "code",
   "execution_count": 45,
   "metadata": {},
   "outputs": [],
   "source": [
    "df_sort = df.sort_values('commit_date')"
   ]
  },
  {
   "cell_type": "code",
   "execution_count": 74,
   "metadata": {},
   "outputs": [
    {
     "data": {
      "text/html": [
       "<div>\n",
       "<style scoped>\n",
       "    .dataframe tbody tr th:only-of-type {\n",
       "        vertical-align: middle;\n",
       "    }\n",
       "\n",
       "    .dataframe tbody tr th {\n",
       "        vertical-align: top;\n",
       "    }\n",
       "\n",
       "    .dataframe thead th {\n",
       "        text-align: right;\n",
       "    }\n",
       "</style>\n",
       "<table border=\"1\" class=\"dataframe\">\n",
       "  <thead>\n",
       "    <tr style=\"text-align: right;\">\n",
       "      <th></th>\n",
       "      <th>repository_name</th>\n",
       "      <th>commit_hash</th>\n",
       "      <th>commit_date</th>\n",
       "      <th>commit_author</th>\n",
       "      <th>commit_message</th>\n",
       "      <th>bugs</th>\n",
       "      <th>dayofweek</th>\n",
       "      <th>hour</th>\n",
       "    </tr>\n",
       "  </thead>\n",
       "  <tbody>\n",
       "    <tr>\n",
       "      <th>40</th>\n",
       "      <td>mlm</td>\n",
       "      <td>79db41fb</td>\n",
       "      <td>2020-03-08 14:26:16</td>\n",
       "      <td>Victor</td>\n",
       "      <td>Initial commit</td>\n",
       "      <td>3</td>\n",
       "      <td>6</td>\n",
       "      <td>14</td>\n",
       "    </tr>\n",
       "    <tr>\n",
       "      <th>39</th>\n",
       "      <td>mlm</td>\n",
       "      <td>bfa1152f</td>\n",
       "      <td>2020-03-08 15:38:30</td>\n",
       "      <td>Victor</td>\n",
       "      <td>JsonMaster as function separator</td>\n",
       "      <td>6</td>\n",
       "      <td>6</td>\n",
       "      <td>15</td>\n",
       "    </tr>\n",
       "    <tr>\n",
       "      <th>38</th>\n",
       "      <td>mlm</td>\n",
       "      <td>29ba5151</td>\n",
       "      <td>2020-03-08 17:18:35</td>\n",
       "      <td>Victor</td>\n",
       "      <td>Small Fixes in models.py to make it work</td>\n",
       "      <td>12</td>\n",
       "      <td>6</td>\n",
       "      <td>17</td>\n",
       "    </tr>\n",
       "    <tr>\n",
       "      <th>37</th>\n",
       "      <td>mlm</td>\n",
       "      <td>a8b55539</td>\n",
       "      <td>2020-03-08 17:19:19</td>\n",
       "      <td>Victor</td>\n",
       "      <td>Added .gitignore</td>\n",
       "      <td>3</td>\n",
       "      <td>6</td>\n",
       "      <td>17</td>\n",
       "    </tr>\n",
       "    <tr>\n",
       "      <th>36</th>\n",
       "      <td>mlm</td>\n",
       "      <td>bb54e4e6</td>\n",
       "      <td>2020-03-08 17:23:12</td>\n",
       "      <td>Victor</td>\n",
       "      <td>Small Fixes in main.py to make it work</td>\n",
       "      <td>12</td>\n",
       "      <td>6</td>\n",
       "      <td>17</td>\n",
       "    </tr>\n",
       "  </tbody>\n",
       "</table>\n",
       "</div>"
      ],
      "text/plain": [
       "   repository_name commit_hash         commit_date commit_author  \\\n",
       "40             mlm    79db41fb 2020-03-08 14:26:16        Victor   \n",
       "39             mlm    bfa1152f 2020-03-08 15:38:30        Victor   \n",
       "38             mlm    29ba5151 2020-03-08 17:18:35        Victor   \n",
       "37             mlm    a8b55539 2020-03-08 17:19:19        Victor   \n",
       "36             mlm    bb54e4e6 2020-03-08 17:23:12        Victor   \n",
       "\n",
       "                              commit_message  bugs  dayofweek  hour  \n",
       "40                            Initial commit     3          6    14  \n",
       "39          JsonMaster as function separator     6          6    15  \n",
       "38  Small Fixes in models.py to make it work    12          6    17  \n",
       "37                          Added .gitignore     3          6    17  \n",
       "36    Small Fixes in main.py to make it work    12          6    17  "
      ]
     },
     "execution_count": 74,
     "metadata": {},
     "output_type": "execute_result"
    }
   ],
   "source": [
    "df_sort.head()"
   ]
  },
  {
   "cell_type": "markdown",
   "metadata": {},
   "source": [
    "Создаю обучающую и тестовую выборки в соотношении 80:20. Предварительно удаляю признаки `commit_hash` и `commit_date`. Значение `commit_hash` уникальны и не нужны для обучения модели."
   ]
  },
  {
   "cell_type": "code",
   "execution_count": 46,
   "metadata": {},
   "outputs": [],
   "source": [
    "X = df_sort.drop(['commit_hash', 'commit_date', 'bugs'], axis=1)\n",
    "y = df_sort['bugs']"
   ]
  },
  {
   "cell_type": "code",
   "execution_count": 48,
   "metadata": {},
   "outputs": [],
   "source": [
    "X_train, X_test, y_train, y_test = train_test_split(X, y, shuffle=False, test_size=0.2)"
   ]
  },
  {
   "cell_type": "markdown",
   "metadata": {},
   "source": [
    "Создаю список категориальных признаков"
   ]
  },
  {
   "cell_type": "code",
   "execution_count": 47,
   "metadata": {},
   "outputs": [],
   "source": [
    "categorical_cols = ['repository_name', 'commit_author', 'dayofweek', 'hour']"
   ]
  },
  {
   "cell_type": "markdown",
   "metadata": {},
   "source": [
    "OneHotEncoding категориальных признаков"
   ]
  },
  {
   "cell_type": "code",
   "execution_count": 51,
   "metadata": {},
   "outputs": [],
   "source": [
    "encoder = OneHotEncoder(handle_unknown = 'ignore')\n",
    "X_train_cat = encoder.fit_transform(X_train[categorical_cols])\n",
    "X_test_cat = encoder.transform(X_test[categorical_cols])"
   ]
  },
  {
   "cell_type": "markdown",
   "metadata": {},
   "source": [
    "Загрузка списка стоп-слов на русском и английском языках"
   ]
  },
  {
   "cell_type": "code",
   "execution_count": 49,
   "metadata": {},
   "outputs": [
    {
     "name": "stderr",
     "output_type": "stream",
     "text": [
      "[nltk_data] Downloading package stopwords to\n",
      "[nltk_data]     C:\\Users\\Admin\\AppData\\Roaming\\nltk_data...\n",
      "[nltk_data]   Package stopwords is already up-to-date!\n"
     ]
    }
   ],
   "source": [
    "nltk.download('stopwords')\n",
    "stopwords = set(nltk_stopwords.words(['english', 'russian']))"
   ]
  },
  {
   "cell_type": "markdown",
   "metadata": {},
   "source": [
    "Расчёт TF-IDF для признака `commit_message`, который содержит текст"
   ]
  },
  {
   "cell_type": "code",
   "execution_count": 50,
   "metadata": {},
   "outputs": [],
   "source": [
    "vect_word = TfidfVectorizer(ngram_range=(1,2),\n",
    "               min_df=3, max_df=0.9, use_idf=1,\n",
    "               smooth_idf=1, sublinear_tf=1, stop_words=stopwords)"
   ]
  },
  {
   "cell_type": "code",
   "execution_count": 52,
   "metadata": {},
   "outputs": [],
   "source": [
    "train_tfidf = vect_word.fit_transform(X_train['commit_message'])\n",
    "test_tfidf = vect_word.transform(X_test['commit_message'])"
   ]
  },
  {
   "cell_type": "markdown",
   "metadata": {},
   "source": [
    "Создание списка с названиями всех признаков"
   ]
  },
  {
   "cell_type": "code",
   "execution_count": 94,
   "metadata": {},
   "outputs": [],
   "source": [
    "column_names_from_text = vect_word.vocabulary_\n",
    "dictionary = {v:k for k,v in vect_word.vocabulary_.items()}\n",
    "column_names_from_text = [v for k,v in dictionary.items()]\n",
    "cat_column_names = list(encoder.get_feature_names())\n",
    "all_columns = column_names_from_text + cat_column_names"
   ]
  },
  {
   "cell_type": "markdown",
   "metadata": {},
   "source": [
    "Объединение разреженных матриц для обучающей и тестовой выборок. Проверка размерности"
   ]
  },
  {
   "cell_type": "code",
   "execution_count": 56,
   "metadata": {},
   "outputs": [
    {
     "name": "stdout",
     "output_type": "stream",
     "text": [
      "(255, 120)\n"
     ]
    }
   ],
   "source": [
    "X_train_prod = hstack([train_tfidf, X_train_cat])\n",
    "print(X_train_prod.shape)"
   ]
  },
  {
   "cell_type": "code",
   "execution_count": 57,
   "metadata": {},
   "outputs": [
    {
     "name": "stdout",
     "output_type": "stream",
     "text": [
      "(64, 120)\n"
     ]
    }
   ],
   "source": [
    "X_test_prod = hstack([test_tfidf, X_test_cat])\n",
    "print(X_test_prod.shape)"
   ]
  },
  {
   "cell_type": "markdown",
   "metadata": {},
   "source": [
    "### Обучение и тестирование моделей"
   ]
  },
  {
   "cell_type": "markdown",
   "metadata": {},
   "source": [
    "Поиск гиперпарметров будет осуществляться с помощью GridSearchCV с кросс-валидацией на 3 подвыборках"
   ]
  },
  {
   "cell_type": "code",
   "execution_count": 58,
   "metadata": {},
   "outputs": [],
   "source": [
    "kf = KFold(n_splits=3, shuffle=False)"
   ]
  },
  {
   "cell_type": "markdown",
   "metadata": {},
   "source": [
    "#### Линейная регрессия"
   ]
  },
  {
   "cell_type": "code",
   "execution_count": 75,
   "metadata": {},
   "outputs": [
    {
     "name": "stdout",
     "output_type": "stream",
     "text": [
      "RMSE на кросс-валидации:  3.2343726672152338\n",
      "{'fit_intercept': True, 'normalize': False}\n",
      "RMSE на тестовой выборке:  3.0135443305620435\n"
     ]
    }
   ],
   "source": [
    "parameters = {'fit_intercept':[True,False], 'normalize':[True,False]}\n",
    "grid_lr = GridSearchCV(LinearRegression(), parameters, cv=kf, scoring='neg_mean_squared_error')\n",
    "grid_lr.fit(X_train_prod, y_train)\n",
    "params = grid_lr.best_params_\n",
    "print('RMSE на кросс-валидации: ', abs(grid_lr.best_score_) ** 0.5)\n",
    "lr = LinearRegression(**params)\n",
    "lr.fit(X_train_prod, y_train)\n",
    "pred_test = lr.predict(X_test_prod)\n",
    "print(params)\n",
    "print(\"RMSE на тестовой выборке: \", mean_squared_error(y_test, pred_test) ** 0.5)"
   ]
  },
  {
   "cell_type": "markdown",
   "metadata": {},
   "source": [
    "#### Support Vector Regression"
   ]
  },
  {
   "cell_type": "code",
   "execution_count": 76,
   "metadata": {},
   "outputs": [
    {
     "name": "stdout",
     "output_type": "stream",
     "text": [
      "RMSE на кросс-валидации:  1.8047323412438594\n",
      "{'C': 0.01, 'coef0': 10, 'gamma': 'auto', 'kernel': 'sigmoid'}\n",
      "RMSE на тестовой выборке:  2.0441991096704086\n"
     ]
    }
   ],
   "source": [
    "param_svr = {'kernel' : ('linear', 'poly', 'rbf', 'sigmoid'),\n",
    "             'C' : [0.01, 0.1, 1, 10, 100],\n",
    "             'coef0' : [0.25, 0.5, 1, 10],\n",
    "             'gamma' : ('auto','scale')},\n",
    "\n",
    "grid_svr = GridSearchCV(SVR(), param_svr, refit=False, cv=kf, scoring='neg_mean_squared_error') \n",
    "grid_svr.fit(X_train_prod, y_train)\n",
    "print('RMSE на кросс-валидации: ', abs(grid_svr.best_score_) ** 0.5)\n",
    "params = grid_svr.best_params_\n",
    "svr = SVR(**params)\n",
    "svr.fit(X_train_prod, y_train)\n",
    "pred_test = svr.predict(X_test_prod)\n",
    "print(params)\n",
    "print(\"RMSE на тестовой выборке: \", mean_squared_error(y_test, pred_test) ** 0.5)"
   ]
  },
  {
   "cell_type": "markdown",
   "metadata": {},
   "source": [
    "#### Случайный лес"
   ]
  },
  {
   "cell_type": "markdown",
   "metadata": {},
   "source": [
    "Для RandomForestRegressor поиск будет осуществляться по гиперпараметрам `max_depth`, `min_samples_split`. Создаю переменную `tree_params` c различными вариантами значений указанных гиперпараметров."
   ]
  },
  {
   "cell_type": "code",
   "execution_count": 77,
   "metadata": {},
   "outputs": [
    {
     "name": "stdout",
     "output_type": "stream",
     "text": [
      "RMSE на кросс-валидации:  1.8888070434641084\n",
      "{'max_depth': 2, 'min_samples_split': 2, 'n_estimators': 1000}\n",
      "RMSE на тестовой выборке:  1.8690051371718777\n"
     ]
    }
   ],
   "source": [
    "tree_params = {'n_estimators': [1000], \n",
    "               'max_depth': [2, 4, 6, None],\n",
    "               'min_samples_split': [2, 5, 8, 10]}\n",
    "\n",
    "grid_rfr = GridSearchCV(RandomForestRegressor(random_state=SEED), \n",
    "                        tree_params, refit=False, cv=kf, scoring='neg_mean_squared_error') \n",
    "grid_rfr.fit(X_train_prod, y_train)\n",
    "print('RMSE на кросс-валидации: ', abs(grid_rfr.best_score_) ** 0.5)\n",
    "params = grid_rfr.best_params_\n",
    "rfr = RandomForestRegressor(**params, random_state=SEED)\n",
    "rfr.fit(X_train_prod, y_train)\n",
    "pred_test = rfr.predict(X_test_prod)\n",
    "print(params)\n",
    "print(\"RMSE на тестовой выборке: \", mean_squared_error(y_test, pred_test) ** 0.5)"
   ]
  },
  {
   "cell_type": "markdown",
   "metadata": {},
   "source": [
    "#### CatBoost"
   ]
  },
  {
   "cell_type": "markdown",
   "metadata": {},
   "source": [
    "Для CatBoostRegressor поиск будет осуществляться по гиперпараметрам `learning_rate` и `depth`. Создаю переменную `param_grid_ctb` c различными вариантами значений указанных гиперпараметров"
   ]
  },
  {
   "cell_type": "code",
   "execution_count": 81,
   "metadata": {},
   "outputs": [
    {
     "name": "stdout",
     "output_type": "stream",
     "text": [
      "RMSE на кросс-валидации:  1.937238766968832\n",
      "{'depth': 8, 'learning_rate': 0.01, 'n_estimators': 1000}\n",
      "RMSE на тестовой выборке:  1.8617684844917837\n"
     ]
    }
   ],
   "source": [
    "param_grid_ctb = {'n_estimators': [1000],  \n",
    "                  'learning_rate': [0.01, 0.03, 0.1, 0.2],\n",
    "                  'depth': [2, 4, 6, 8]}\n",
    "\n",
    "grid_ctb = GridSearchCV(CatBoostRegressor(random_state=SEED, silent=True), \n",
    "                    param_grid_ctb, cv=kf, scoring='neg_mean_squared_error', refit=False) \n",
    "grid_ctb.fit(X_train_prod, y_train)\n",
    "print('RMSE на кросс-валидации: ', abs(grid_ctb.best_score_) ** 0.5)\n",
    "params = grid_ctb.best_params_\n",
    "ctb = CatBoostRegressor(**params, random_state=SEED, silent=True)\n",
    "ctb.fit(X_train_prod, y_train)\n",
    "pred_test = ctb.predict(X_test_prod)\n",
    "print(params)\n",
    "print(\"RMSE на тестовой выборке: \", mean_squared_error(y_test, pred_test) ** 0.5)"
   ]
  },
  {
   "cell_type": "markdown",
   "metadata": {},
   "source": [
    "#### LightGBM"
   ]
  },
  {
   "cell_type": "markdown",
   "metadata": {},
   "source": [
    "Для LGBMRegressor поиск будет осуществляться по гиперпараметрам `learning_rate` и `max_depth`. Создаю переменную `param_grid` c различными вариантами значений указанных гиперпараметров."
   ]
  },
  {
   "cell_type": "code",
   "execution_count": 84,
   "metadata": {},
   "outputs": [
    {
     "name": "stdout",
     "output_type": "stream",
     "text": [
      "RMSE на кросс-валидации:  2.035181627383503\n",
      "{'learning_rate': 0.01, 'max_depth': 2, 'n_estimators': 1000}\n",
      "RMSE на тестовой выборке:  1.8542351321682635\n"
     ]
    }
   ],
   "source": [
    "param_grid = {'n_estimators': [1000], \n",
    "              'learning_rate': [0.01, 0.03, 0.1, 0.2],\n",
    "              'max_depth': [2, 4, 6, 8]}\n",
    "\n",
    "grid_lgbm = GridSearchCV(lgb.LGBMRegressor(random_state=SEED), \n",
    "                    param_grid, cv=kf, scoring='neg_mean_squared_error', refit=False) \n",
    "grid_lgbm.fit(X_train_prod, y_train)\n",
    "print('RMSE на кросс-валидации: ', abs(grid_lgbm.best_score_) ** 0.5)\n",
    "params = grid_lgbm.best_params_\n",
    "lgbm = lgb.LGBMRegressor(**params, random_state=SEED)\n",
    "lgbm.fit(X_train_prod, y_train)\n",
    "pred_test = lgbm.predict(X_test_prod)\n",
    "print(params)\n",
    "print(\"RMSE на тестовой выборке: \", mean_squared_error(y_test, pred_test) ** 0.5)"
   ]
  },
  {
   "cell_type": "markdown",
   "metadata": {},
   "source": [
    "Значимость признаков для лучшей модели LGBMRegressor"
   ]
  },
  {
   "cell_type": "code",
   "execution_count": 85,
   "metadata": {},
   "outputs": [
    {
     "data": {
      "text/html": [
       "\n",
       "    <style>\n",
       "    table.eli5-weights tr:hover {\n",
       "        filter: brightness(85%);\n",
       "    }\n",
       "</style>\n",
       "\n",
       "\n",
       "\n",
       "    \n",
       "\n",
       "    \n",
       "\n",
       "    \n",
       "\n",
       "    \n",
       "\n",
       "    \n",
       "\n",
       "    \n",
       "\n",
       "\n",
       "    \n",
       "\n",
       "    \n",
       "\n",
       "    \n",
       "\n",
       "    \n",
       "\n",
       "    \n",
       "\n",
       "    \n",
       "\n",
       "\n",
       "    \n",
       "\n",
       "    \n",
       "\n",
       "    \n",
       "\n",
       "    \n",
       "\n",
       "    \n",
       "        <table class=\"eli5-weights eli5-feature-importances\" style=\"border-collapse: collapse; border: none; margin-top: 0em; table-layout: auto;\">\n",
       "    <thead>\n",
       "    <tr style=\"border: none;\">\n",
       "        <th style=\"padding: 0 1em 0 0.5em; text-align: right; border: none;\">Weight</th>\n",
       "        <th style=\"padding: 0 0.5em 0 0.5em; text-align: left; border: none;\">Feature</th>\n",
       "    </tr>\n",
       "    </thead>\n",
       "    <tbody>\n",
       "    \n",
       "        <tr style=\"background-color: hsl(120, 100.00%, 80.00%); border: none;\">\n",
       "            <td style=\"padding: 0 1em 0 0.5em; text-align: right; border: none;\">\n",
       "                0.3015\n",
       "                \n",
       "            </td>\n",
       "            <td style=\"padding: 0 0.5em 0 0.5em; text-align: left; border: none;\">\n",
       "                x0_sensor\n",
       "            </td>\n",
       "        </tr>\n",
       "    \n",
       "        <tr style=\"background-color: hsl(120, 100.00%, 81.88%); border: none;\">\n",
       "            <td style=\"padding: 0 1em 0 0.5em; text-align: right; border: none;\">\n",
       "                0.2619\n",
       "                \n",
       "            </td>\n",
       "            <td style=\"padding: 0 0.5em 0 0.5em; text-align: left; border: none;\">\n",
       "                x1_Victor\n",
       "            </td>\n",
       "        </tr>\n",
       "    \n",
       "        <tr style=\"background-color: hsl(120, 100.00%, 90.83%); border: none;\">\n",
       "            <td style=\"padding: 0 1em 0 0.5em; text-align: right; border: none;\">\n",
       "                0.0990\n",
       "                \n",
       "            </td>\n",
       "            <td style=\"padding: 0 0.5em 0 0.5em; text-align: left; border: none;\">\n",
       "                x2_4\n",
       "            </td>\n",
       "        </tr>\n",
       "    \n",
       "        <tr style=\"background-color: hsl(120, 100.00%, 92.03%); border: none;\">\n",
       "            <td style=\"padding: 0 1em 0 0.5em; text-align: right; border: none;\">\n",
       "                0.0810\n",
       "                \n",
       "            </td>\n",
       "            <td style=\"padding: 0 0.5em 0 0.5em; text-align: left; border: none;\">\n",
       "                x1_Dabe\n",
       "            </td>\n",
       "        </tr>\n",
       "    \n",
       "        <tr style=\"background-color: hsl(120, 100.00%, 93.07%); border: none;\">\n",
       "            <td style=\"padding: 0 1em 0 0.5em; text-align: right; border: none;\">\n",
       "                0.0663\n",
       "                \n",
       "            </td>\n",
       "            <td style=\"padding: 0 0.5em 0 0.5em; text-align: left; border: none;\">\n",
       "                commit\n",
       "            </td>\n",
       "        </tr>\n",
       "    \n",
       "        <tr style=\"background-color: hsl(120, 100.00%, 93.32%); border: none;\">\n",
       "            <td style=\"padding: 0 1em 0 0.5em; text-align: right; border: none;\">\n",
       "                0.0630\n",
       "                \n",
       "            </td>\n",
       "            <td style=\"padding: 0 0.5em 0 0.5em; text-align: left; border: none;\">\n",
       "                x1_Mallory\n",
       "            </td>\n",
       "        </tr>\n",
       "    \n",
       "        <tr style=\"background-color: hsl(120, 100.00%, 95.16%); border: none;\">\n",
       "            <td style=\"padding: 0 1em 0 0.5em; text-align: right; border: none;\">\n",
       "                0.0397\n",
       "                \n",
       "            </td>\n",
       "            <td style=\"padding: 0 0.5em 0 0.5em; text-align: left; border: none;\">\n",
       "                x3_17\n",
       "            </td>\n",
       "        </tr>\n",
       "    \n",
       "        <tr style=\"background-color: hsl(120, 100.00%, 96.65%); border: none;\">\n",
       "            <td style=\"padding: 0 1em 0 0.5em; text-align: right; border: none;\">\n",
       "                0.0235\n",
       "                \n",
       "            </td>\n",
       "            <td style=\"padding: 0 0.5em 0 0.5em; text-align: left; border: none;\">\n",
       "                x2_2\n",
       "            </td>\n",
       "        </tr>\n",
       "    \n",
       "        <tr style=\"background-color: hsl(120, 100.00%, 97.04%); border: none;\">\n",
       "            <td style=\"padding: 0 1em 0 0.5em; text-align: right; border: none;\">\n",
       "                0.0197\n",
       "                \n",
       "            </td>\n",
       "            <td style=\"padding: 0 0.5em 0 0.5em; text-align: left; border: none;\">\n",
       "                x0_standard\n",
       "            </td>\n",
       "        </tr>\n",
       "    \n",
       "        <tr style=\"background-color: hsl(120, 100.00%, 98.04%); border: none;\">\n",
       "            <td style=\"padding: 0 1em 0 0.5em; text-align: right; border: none;\">\n",
       "                0.0109\n",
       "                \n",
       "            </td>\n",
       "            <td style=\"padding: 0 0.5em 0 0.5em; text-align: left; border: none;\">\n",
       "                x2_0\n",
       "            </td>\n",
       "        </tr>\n",
       "    \n",
       "    \n",
       "        \n",
       "            <tr style=\"background-color: hsl(120, 100.00%, 98.04%); border: none;\">\n",
       "                <td colspan=\"2\" style=\"padding: 0 0.5em 0 0.5em; text-align: center; border: none; white-space: nowrap;\">\n",
       "                    <i>&hellip; 110 more &hellip;</i>\n",
       "                </td>\n",
       "            </tr>\n",
       "        \n",
       "    \n",
       "    </tbody>\n",
       "</table>\n",
       "    \n",
       "\n",
       "    \n",
       "\n",
       "\n",
       "    \n",
       "\n",
       "    \n",
       "\n",
       "    \n",
       "\n",
       "    \n",
       "\n",
       "    \n",
       "\n",
       "    \n",
       "\n",
       "\n",
       "\n"
      ],
      "text/plain": [
       "Explanation(estimator=\"LGBMRegressor(boosting_type='gbdt', class_weight=None, colsample_bytree=1.0,\\n       importance_type='split', learning_rate=0.01, max_depth=2,\\n       min_child_samples=20, min_child_weight=0.001, min_split_gain=0.0,\\n       n_estimators=1000, n_jobs=-1, num_leaves=31, objective=None,\\n       random_state=42, reg_alpha=0.0, reg_lambda=0.0, silent=True,\\n       subsample=1.0, subsample_for_bin=200000, subsample_freq=0)\", description='\\nLightGBM feature importances; values are numbers 0 <= x <= 1;\\nall values sum to 1.\\n', error=None, method='feature importances', is_regression=True, targets=None, feature_importances=FeatureImportances(importances=[FeatureWeight(feature='x0_sensor', weight=0.30150503209898355, std=None, value=None), FeatureWeight(feature='x1_Victor', weight=0.2619405679665818, std=None, value=None), FeatureWeight(feature='x2_4', weight=0.09902259175396672, std=None, value=None), FeatureWeight(feature='x1_Dabe', weight=0.08101342829892258, std=None, value=None), FeatureWeight(feature='commit', weight=0.0662900549160082, std=None, value=None), FeatureWeight(feature='x1_Mallory', weight=0.06298446851419841, std=None, value=None), FeatureWeight(feature='x3_17', weight=0.039708624696946214, std=None, value=None), FeatureWeight(feature='x2_2', weight=0.023458073885928216, std=None, value=None), FeatureWeight(feature='x0_standard', weight=0.019670896157727297, std=None, value=None), FeatureWeight(feature='x2_0', weight=0.010916105833826559, std=None, value=None)], remaining=110), decision_tree=None, highlight_spaces=None, transition_features=None, image=None)"
      ]
     },
     "execution_count": 85,
     "metadata": {},
     "output_type": "execute_result"
    }
   ],
   "source": [
    "eli5.explain_weights_lightgbm(lgbm, feature_names=all_columns, top=10)"
   ]
  },
  {
   "cell_type": "markdown",
   "metadata": {},
   "source": [
    "# Отчёт\n",
    "#### 1) Датасет\n",
    "На этапе предобработки данных были добавлены признаки со значениями дня недели и часа, произведен расчет TF-IDF для текста, произведен OneHotEncoding категориальных признаков.\n",
    "\n",
    "- Итоговый датасет состоит из 121 признака и 319 строк.\n",
    "- Временной интервал c 2020-03-08 14:26:16 до 2020-06-12 14:26:12\n",
    "- Обучающая и тестовая выборка в соотношении 80:20 - 255 и 64 строки.\n",
    "- 81 признаков - TF-IDF для текста\n",
    "- 9 признаков - авторы коммита\n",
    "- 6 признаков - название репозитория\n",
    "- 7 признаков - дни недели\n",
    "- 17 признаков - часы\n",
    "- 1 целевой признак - количество bugs\n",
    "\n",
    "##### Представленный датасет содержит очень мало данных. Это оказывает негативное влияние на эффективность работы моделей с новыми данными.\n",
    "\n",
    "#### 2) Модели\n",
    "- Обучены пять моделей. Результаты RMSE на тестовой выборке: LGBMRegressor - 1.85, CatBoostRegressor - 1.86, RandomForestRegressor - 1.87, SVR - 2, LinearRegression - 3.\n",
    "- На тестовой выборке лучшего значения RMSE 1.85 удалось достичь используя модель LGBMRegressor с гиперпараметрами 'learning_rate': 0.01, 'max_depth': 2, 'n_estimators': 1000}\n",
    "- Наиболее значимые признаки для лучшей модели: название резозитория `sensor` - 30%, автор коммита `Victor` - 26%"
   ]
  },
  {
   "cell_type": "markdown",
   "metadata": {},
   "source": [
    "#### Графики"
   ]
  },
  {
   "cell_type": "code",
   "execution_count": 87,
   "metadata": {},
   "outputs": [
    {
     "data": {
      "image/png": "[encoded data removed]",
      "text/plain": [
       "<Figure size 1080x504 with 1 Axes>"
      ]
     },
     "metadata": {
      "needs_background": "light"
     },
     "output_type": "display_data"
    }
   ],
   "source": [
    "plt.figure(figsize=(15, 7))\n",
    "plt.plot(pred_test, \"r\", label=\"предсказание\")\n",
    "plt.plot(y_test.values, label=\"факт\")\n",
    "plt.legend(loc=\"best\")\n",
    "plt.title(\"RMSE на тестовой выборке {}\".format(round(mean_squared_error(pred_test, y_test) ** 0.5, 2)))\n",
    "plt.grid(True);"
   ]
  },
  {
   "cell_type": "code",
   "execution_count": 88,
   "metadata": {},
   "outputs": [
    {
     "data": {
      "image/png": "[encoded data removed]",
      "text/plain": [
       "<Figure size 1080x504 with 1 Axes>"
      ]
     },
     "metadata": {
      "needs_background": "light"
     },
     "output_type": "display_data"
    }
   ],
   "source": [
    "y = y_test.values\n",
    "fig, ax = plt.subplots(figsize=(15, 7))\n",
    "ax.scatter(y, pred_test)\n",
    "ax.plot([y.min(), y.max()], [y.min(), y.max()], 'r', lw=2)\n",
    "ax.set_xlabel('факт')\n",
    "ax.set_ylabel('предсказание')\n",
    "ax.set_title('Диаграмма рассеяния ошибок предсказания на тестовой выборке')\n",
    "plt.show()"
   ]
  }
 ],
 "metadata": {
  "kernelspec": {
   "display_name": "Python 3",
   "language": "python",
   "name": "python3"
  },
  "language_info": {
   "codemirror_mode": {
    "name": "ipython",
    "version": 3
   },
   "file_extension": ".py",
   "mimetype": "text/x-python",
   "name": "python",
   "nbconvert_exporter": "python",
   "pygments_lexer": "ipython3",
   "version": "3.7.3"
  }
 },
 "nbformat": 4,
 "nbformat_minor": 2
}
