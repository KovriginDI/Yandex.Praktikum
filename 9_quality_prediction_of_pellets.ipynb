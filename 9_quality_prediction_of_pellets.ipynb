{
 "cells": [
  {
   "cell_type": "markdown",
   "metadata": {},
   "source": [
    "### Задание 2\n",
    "Вам необходимо построить модель, которая на основании данных, поступающих каждую минуту, определяют качество продукции, производимое на обжиговой машине.\n",
    "Обжиговая машина представляет собой агрегат, состоящий из 5 одинаковых по размеру камер, в каждой камере установлено по 3 датчика температур. Кроме этого, для данной задачи Вы собрали данные о высоте слоя сырья и его влажности. Высота слоя и влажность измеряются при входе сырья в машину. Сырье проходит через обжиговую машину за час.\n",
    "\n",
    "Качество продукции измеряется в лаборатории по пробам, которые забираются каждый час, данные по известным анализам содержатся в файле Y_train.csv. В файле указано время забора пробы, проба забирается на выходе из обжиговой машины.\n",
    "Вы договорились с заказчиком, что оценкой модели будет являться показатель MAE, для оценки модели необходимо сгенерировать предсказания за период, указанный в файле Y_submit.csv (5808 предиктов)."
   ]
  },
  {
   "cell_type": "code",
   "execution_count": 1,
   "metadata": {},
   "outputs": [
    {
     "name": "stderr",
     "output_type": "stream",
     "text": [
      "Using TensorFlow backend.\n"
     ]
    }
   ],
   "source": [
    "import pandas as pd\n",
    "from matplotlib import pyplot as plt\n",
    "import lightgbm as lgb\n",
    "from catboost import CatBoostRegressor\n",
    "import xgboost as xgb\n",
    "from sklearn.linear_model import LinearRegression\n",
    "from sklearn.ensemble import RandomForestRegressor\n",
    "from sklearn.metrics import mean_absolute_error\n",
    "from sklearn.model_selection import train_test_split, GridSearchCV, KFold\n",
    "import eli5\n",
    "import os\n",
    "import warnings\n",
    "warnings.filterwarnings('ignore')"
   ]
  },
  {
   "cell_type": "code",
   "execution_count": 2,
   "metadata": {},
   "outputs": [],
   "source": [
    "pd.set_option('display.float_format', lambda x: '%.5f' % x)"
   ]
  },
  {
   "cell_type": "code",
   "execution_count": 3,
   "metadata": {},
   "outputs": [],
   "source": [
    "PATH = ''\n",
    "SEED = 42"
   ]
  },
  {
   "cell_type": "markdown",
   "metadata": {},
   "source": [
    "Загрузка данных"
   ]
  },
  {
   "cell_type": "code",
   "execution_count": 4,
   "metadata": {},
   "outputs": [],
   "source": [
    "df = pd.read_csv(os.path.join(PATH, 'X_data.csv'), sep=';', index_col=[0], parse_dates=[0])\n",
    "df.sort_index(inplace=True)"
   ]
  },
  {
   "cell_type": "code",
   "execution_count": 7,
   "metadata": {},
   "outputs": [],
   "source": [
    "y = pd.read_csv(os.path.join(PATH, 'Y_train.csv'), sep=';', header=None, names=['y'], index_col=[0], parse_dates=[0])\n",
    "y.sort_index(inplace=True)"
   ]
  },
  {
   "cell_type": "code",
   "execution_count": 57,
   "metadata": {},
   "outputs": [],
   "source": [
    "y_submit = pd.read_csv(os.path.join(PATH, 'Y_submit.csv'), sep=';', header=None, names=['y'], index_col=[0], parse_dates=[0])\n",
    "y_submit.sort_index(inplace=True)"
   ]
  },
  {
   "cell_type": "markdown",
   "metadata": {},
   "source": [
    "Изучение данных"
   ]
  },
  {
   "cell_type": "code",
   "execution_count": 12,
   "metadata": {},
   "outputs": [
    {
     "data": {
      "text/html": [
       "<div>\n",
       "<style scoped>\n",
       "    .dataframe tbody tr th:only-of-type {\n",
       "        vertical-align: middle;\n",
       "    }\n",
       "\n",
       "    .dataframe tbody tr th {\n",
       "        vertical-align: top;\n",
       "    }\n",
       "\n",
       "    .dataframe thead th {\n",
       "        text-align: right;\n",
       "    }\n",
       "</style>\n",
       "<table border=\"1\" class=\"dataframe\">\n",
       "  <thead>\n",
       "    <tr style=\"text-align: right;\">\n",
       "      <th></th>\n",
       "      <th>T_data_1_1</th>\n",
       "      <th>T_data_1_2</th>\n",
       "      <th>T_data_1_3</th>\n",
       "      <th>T_data_2_1</th>\n",
       "      <th>T_data_2_2</th>\n",
       "      <th>T_data_2_3</th>\n",
       "      <th>T_data_3_1</th>\n",
       "      <th>T_data_3_2</th>\n",
       "      <th>T_data_3_3</th>\n",
       "      <th>T_data_4_1</th>\n",
       "      <th>T_data_4_2</th>\n",
       "      <th>T_data_4_3</th>\n",
       "      <th>T_data_5_1</th>\n",
       "      <th>T_data_5_2</th>\n",
       "      <th>T_data_5_3</th>\n",
       "      <th>H_data</th>\n",
       "      <th>AH_data</th>\n",
       "    </tr>\n",
       "  </thead>\n",
       "  <tbody>\n",
       "    <tr>\n",
       "      <th>2015-01-01 00:00:00</th>\n",
       "      <td>212</td>\n",
       "      <td>210</td>\n",
       "      <td>211</td>\n",
       "      <td>347</td>\n",
       "      <td>353</td>\n",
       "      <td>347</td>\n",
       "      <td>474</td>\n",
       "      <td>473</td>\n",
       "      <td>481</td>\n",
       "      <td>346</td>\n",
       "      <td>348</td>\n",
       "      <td>355</td>\n",
       "      <td>241</td>\n",
       "      <td>241</td>\n",
       "      <td>243</td>\n",
       "      <td>167.85000</td>\n",
       "      <td>9.22000</td>\n",
       "    </tr>\n",
       "    <tr>\n",
       "      <th>2015-01-01 00:01:00</th>\n",
       "      <td>212</td>\n",
       "      <td>211</td>\n",
       "      <td>211</td>\n",
       "      <td>346</td>\n",
       "      <td>352</td>\n",
       "      <td>346</td>\n",
       "      <td>475</td>\n",
       "      <td>473</td>\n",
       "      <td>481</td>\n",
       "      <td>349</td>\n",
       "      <td>348</td>\n",
       "      <td>355</td>\n",
       "      <td>241</td>\n",
       "      <td>241</td>\n",
       "      <td>243</td>\n",
       "      <td>162.51000</td>\n",
       "      <td>9.22000</td>\n",
       "    </tr>\n",
       "    <tr>\n",
       "      <th>2015-01-01 00:02:00</th>\n",
       "      <td>212</td>\n",
       "      <td>211</td>\n",
       "      <td>211</td>\n",
       "      <td>345</td>\n",
       "      <td>352</td>\n",
       "      <td>346</td>\n",
       "      <td>476</td>\n",
       "      <td>473</td>\n",
       "      <td>481</td>\n",
       "      <td>352</td>\n",
       "      <td>349</td>\n",
       "      <td>355</td>\n",
       "      <td>242</td>\n",
       "      <td>241</td>\n",
       "      <td>242</td>\n",
       "      <td>164.99000</td>\n",
       "      <td>9.22000</td>\n",
       "    </tr>\n",
       "    <tr>\n",
       "      <th>2015-01-01 00:03:00</th>\n",
       "      <td>213</td>\n",
       "      <td>211</td>\n",
       "      <td>211</td>\n",
       "      <td>344</td>\n",
       "      <td>351</td>\n",
       "      <td>346</td>\n",
       "      <td>477</td>\n",
       "      <td>473</td>\n",
       "      <td>481</td>\n",
       "      <td>355</td>\n",
       "      <td>349</td>\n",
       "      <td>355</td>\n",
       "      <td>242</td>\n",
       "      <td>241</td>\n",
       "      <td>242</td>\n",
       "      <td>167.34000</td>\n",
       "      <td>9.22000</td>\n",
       "    </tr>\n",
       "    <tr>\n",
       "      <th>2015-01-01 00:04:00</th>\n",
       "      <td>213</td>\n",
       "      <td>211</td>\n",
       "      <td>211</td>\n",
       "      <td>343</td>\n",
       "      <td>350</td>\n",
       "      <td>346</td>\n",
       "      <td>478</td>\n",
       "      <td>473</td>\n",
       "      <td>482</td>\n",
       "      <td>358</td>\n",
       "      <td>349</td>\n",
       "      <td>355</td>\n",
       "      <td>243</td>\n",
       "      <td>241</td>\n",
       "      <td>242</td>\n",
       "      <td>163.04000</td>\n",
       "      <td>9.22000</td>\n",
       "    </tr>\n",
       "  </tbody>\n",
       "</table>\n",
       "</div>"
      ],
      "text/plain": [
       "                     T_data_1_1  T_data_1_2  T_data_1_3  T_data_2_1  \\\n",
       "2015-01-01 00:00:00         212         210         211         347   \n",
       "2015-01-01 00:01:00         212         211         211         346   \n",
       "2015-01-01 00:02:00         212         211         211         345   \n",
       "2015-01-01 00:03:00         213         211         211         344   \n",
       "2015-01-01 00:04:00         213         211         211         343   \n",
       "\n",
       "                     T_data_2_2  T_data_2_3  T_data_3_1  T_data_3_2  \\\n",
       "2015-01-01 00:00:00         353         347         474         473   \n",
       "2015-01-01 00:01:00         352         346         475         473   \n",
       "2015-01-01 00:02:00         352         346         476         473   \n",
       "2015-01-01 00:03:00         351         346         477         473   \n",
       "2015-01-01 00:04:00         350         346         478         473   \n",
       "\n",
       "                     T_data_3_3  T_data_4_1  T_data_4_2  T_data_4_3  \\\n",
       "2015-01-01 00:00:00         481         346         348         355   \n",
       "2015-01-01 00:01:00         481         349         348         355   \n",
       "2015-01-01 00:02:00         481         352         349         355   \n",
       "2015-01-01 00:03:00         481         355         349         355   \n",
       "2015-01-01 00:04:00         482         358         349         355   \n",
       "\n",
       "                     T_data_5_1  T_data_5_2  T_data_5_3    H_data  AH_data  \n",
       "2015-01-01 00:00:00         241         241         243 167.85000  9.22000  \n",
       "2015-01-01 00:01:00         241         241         243 162.51000  9.22000  \n",
       "2015-01-01 00:02:00         242         241         242 164.99000  9.22000  \n",
       "2015-01-01 00:03:00         242         241         242 167.34000  9.22000  \n",
       "2015-01-01 00:04:00         243         241         242 163.04000  9.22000  "
      ]
     },
     "execution_count": 12,
     "metadata": {},
     "output_type": "execute_result"
    }
   ],
   "source": [
    "df.head()"
   ]
  },
  {
   "cell_type": "code",
   "execution_count": 13,
   "metadata": {},
   "outputs": [
    {
     "data": {
      "text/html": [
       "<div>\n",
       "<style scoped>\n",
       "    .dataframe tbody tr th:only-of-type {\n",
       "        vertical-align: middle;\n",
       "    }\n",
       "\n",
       "    .dataframe tbody tr th {\n",
       "        vertical-align: top;\n",
       "    }\n",
       "\n",
       "    .dataframe thead th {\n",
       "        text-align: right;\n",
       "    }\n",
       "</style>\n",
       "<table border=\"1\" class=\"dataframe\">\n",
       "  <thead>\n",
       "    <tr style=\"text-align: right;\">\n",
       "      <th></th>\n",
       "      <th>T_data_1_1</th>\n",
       "      <th>T_data_1_2</th>\n",
       "      <th>T_data_1_3</th>\n",
       "      <th>T_data_2_1</th>\n",
       "      <th>T_data_2_2</th>\n",
       "      <th>T_data_2_3</th>\n",
       "      <th>T_data_3_1</th>\n",
       "      <th>T_data_3_2</th>\n",
       "      <th>T_data_3_3</th>\n",
       "      <th>T_data_4_1</th>\n",
       "      <th>T_data_4_2</th>\n",
       "      <th>T_data_4_3</th>\n",
       "      <th>T_data_5_1</th>\n",
       "      <th>T_data_5_2</th>\n",
       "      <th>T_data_5_3</th>\n",
       "      <th>H_data</th>\n",
       "      <th>AH_data</th>\n",
       "    </tr>\n",
       "  </thead>\n",
       "  <tbody>\n",
       "    <tr>\n",
       "      <th>2018-04-27 04:48:00</th>\n",
       "      <td>238</td>\n",
       "      <td>250</td>\n",
       "      <td>237</td>\n",
       "      <td>342</td>\n",
       "      <td>337</td>\n",
       "      <td>340</td>\n",
       "      <td>490</td>\n",
       "      <td>477</td>\n",
       "      <td>493</td>\n",
       "      <td>400</td>\n",
       "      <td>403</td>\n",
       "      <td>400</td>\n",
       "      <td>268</td>\n",
       "      <td>249</td>\n",
       "      <td>258</td>\n",
       "      <td>164.52000</td>\n",
       "      <td>7.93000</td>\n",
       "    </tr>\n",
       "  </tbody>\n",
       "</table>\n",
       "</div>"
      ],
      "text/plain": [
       "                     T_data_1_1  T_data_1_2  T_data_1_3  T_data_2_1  \\\n",
       "2018-04-27 04:48:00         238         250         237         342   \n",
       "\n",
       "                     T_data_2_2  T_data_2_3  T_data_3_1  T_data_3_2  \\\n",
       "2018-04-27 04:48:00         337         340         490         477   \n",
       "\n",
       "                     T_data_3_3  T_data_4_1  T_data_4_2  T_data_4_3  \\\n",
       "2018-04-27 04:48:00         493         400         403         400   \n",
       "\n",
       "                     T_data_5_1  T_data_5_2  T_data_5_3    H_data  AH_data  \n",
       "2018-04-27 04:48:00         268         249         258 164.52000  7.93000  "
      ]
     },
     "execution_count": 13,
     "metadata": {},
     "output_type": "execute_result"
    }
   ],
   "source": [
    "df.sample(random_state=SEED)"
   ]
  },
  {
   "cell_type": "code",
   "execution_count": 224,
   "metadata": {},
   "outputs": [
    {
     "data": {
      "text/html": [
       "<div>\n",
       "<style scoped>\n",
       "    .dataframe tbody tr th:only-of-type {\n",
       "        vertical-align: middle;\n",
       "    }\n",
       "\n",
       "    .dataframe tbody tr th {\n",
       "        vertical-align: top;\n",
       "    }\n",
       "\n",
       "    .dataframe thead th {\n",
       "        text-align: right;\n",
       "    }\n",
       "</style>\n",
       "<table border=\"1\" class=\"dataframe\">\n",
       "  <thead>\n",
       "    <tr style=\"text-align: right;\">\n",
       "      <th></th>\n",
       "      <th>T_data_1_1</th>\n",
       "      <th>T_data_1_2</th>\n",
       "      <th>T_data_1_3</th>\n",
       "      <th>T_data_2_1</th>\n",
       "      <th>T_data_2_2</th>\n",
       "      <th>T_data_2_3</th>\n",
       "      <th>T_data_3_1</th>\n",
       "      <th>T_data_3_2</th>\n",
       "      <th>T_data_3_3</th>\n",
       "      <th>T_data_4_1</th>\n",
       "      <th>T_data_4_2</th>\n",
       "      <th>T_data_4_3</th>\n",
       "      <th>T_data_5_1</th>\n",
       "      <th>T_data_5_2</th>\n",
       "      <th>T_data_5_3</th>\n",
       "      <th>H_data</th>\n",
       "      <th>AH_data</th>\n",
       "    </tr>\n",
       "  </thead>\n",
       "  <tbody>\n",
       "    <tr>\n",
       "      <th>2018-12-31 23:56:00</th>\n",
       "      <td>271</td>\n",
       "      <td>261</td>\n",
       "      <td>265</td>\n",
       "      <td>353</td>\n",
       "      <td>359</td>\n",
       "      <td>353</td>\n",
       "      <td>481</td>\n",
       "      <td>449</td>\n",
       "      <td>491</td>\n",
       "      <td>325</td>\n",
       "      <td>328</td>\n",
       "      <td>328</td>\n",
       "      <td>277</td>\n",
       "      <td>276</td>\n",
       "      <td>280</td>\n",
       "      <td>157.20</td>\n",
       "      <td>8.44</td>\n",
       "    </tr>\n",
       "    <tr>\n",
       "      <th>2018-12-31 23:57:00</th>\n",
       "      <td>271</td>\n",
       "      <td>261</td>\n",
       "      <td>265</td>\n",
       "      <td>353</td>\n",
       "      <td>359</td>\n",
       "      <td>353</td>\n",
       "      <td>481</td>\n",
       "      <td>449</td>\n",
       "      <td>491</td>\n",
       "      <td>325</td>\n",
       "      <td>328</td>\n",
       "      <td>328</td>\n",
       "      <td>277</td>\n",
       "      <td>276</td>\n",
       "      <td>280</td>\n",
       "      <td>160.40</td>\n",
       "      <td>8.44</td>\n",
       "    </tr>\n",
       "    <tr>\n",
       "      <th>2018-12-31 23:58:00</th>\n",
       "      <td>271</td>\n",
       "      <td>261</td>\n",
       "      <td>265</td>\n",
       "      <td>353</td>\n",
       "      <td>359</td>\n",
       "      <td>353</td>\n",
       "      <td>481</td>\n",
       "      <td>449</td>\n",
       "      <td>491</td>\n",
       "      <td>325</td>\n",
       "      <td>328</td>\n",
       "      <td>328</td>\n",
       "      <td>277</td>\n",
       "      <td>276</td>\n",
       "      <td>280</td>\n",
       "      <td>160.14</td>\n",
       "      <td>8.44</td>\n",
       "    </tr>\n",
       "    <tr>\n",
       "      <th>2018-12-31 23:59:00</th>\n",
       "      <td>271</td>\n",
       "      <td>261</td>\n",
       "      <td>265</td>\n",
       "      <td>353</td>\n",
       "      <td>359</td>\n",
       "      <td>353</td>\n",
       "      <td>481</td>\n",
       "      <td>449</td>\n",
       "      <td>491</td>\n",
       "      <td>325</td>\n",
       "      <td>328</td>\n",
       "      <td>328</td>\n",
       "      <td>277</td>\n",
       "      <td>276</td>\n",
       "      <td>280</td>\n",
       "      <td>162.96</td>\n",
       "      <td>8.44</td>\n",
       "    </tr>\n",
       "    <tr>\n",
       "      <th>2019-01-01 00:00:00</th>\n",
       "      <td>271</td>\n",
       "      <td>261</td>\n",
       "      <td>265</td>\n",
       "      <td>353</td>\n",
       "      <td>359</td>\n",
       "      <td>353</td>\n",
       "      <td>481</td>\n",
       "      <td>449</td>\n",
       "      <td>491</td>\n",
       "      <td>325</td>\n",
       "      <td>328</td>\n",
       "      <td>328</td>\n",
       "      <td>277</td>\n",
       "      <td>276</td>\n",
       "      <td>280</td>\n",
       "      <td>159.73</td>\n",
       "      <td>7.35</td>\n",
       "    </tr>\n",
       "  </tbody>\n",
       "</table>\n",
       "</div>"
      ],
      "text/plain": [
       "                     T_data_1_1  T_data_1_2  T_data_1_3  T_data_2_1  \\\n",
       "2018-12-31 23:56:00         271         261         265         353   \n",
       "2018-12-31 23:57:00         271         261         265         353   \n",
       "2018-12-31 23:58:00         271         261         265         353   \n",
       "2018-12-31 23:59:00         271         261         265         353   \n",
       "2019-01-01 00:00:00         271         261         265         353   \n",
       "\n",
       "                     T_data_2_2  T_data_2_3  T_data_3_1  T_data_3_2  \\\n",
       "2018-12-31 23:56:00         359         353         481         449   \n",
       "2018-12-31 23:57:00         359         353         481         449   \n",
       "2018-12-31 23:58:00         359         353         481         449   \n",
       "2018-12-31 23:59:00         359         353         481         449   \n",
       "2019-01-01 00:00:00         359         353         481         449   \n",
       "\n",
       "                     T_data_3_3  T_data_4_1  T_data_4_2  T_data_4_3  \\\n",
       "2018-12-31 23:56:00         491         325         328         328   \n",
       "2018-12-31 23:57:00         491         325         328         328   \n",
       "2018-12-31 23:58:00         491         325         328         328   \n",
       "2018-12-31 23:59:00         491         325         328         328   \n",
       "2019-01-01 00:00:00         491         325         328         328   \n",
       "\n",
       "                     T_data_5_1  T_data_5_2  T_data_5_3  H_data  AH_data  \n",
       "2018-12-31 23:56:00         277         276         280  157.20     8.44  \n",
       "2018-12-31 23:57:00         277         276         280  160.40     8.44  \n",
       "2018-12-31 23:58:00         277         276         280  160.14     8.44  \n",
       "2018-12-31 23:59:00         277         276         280  162.96     8.44  \n",
       "2019-01-01 00:00:00         277         276         280  159.73     7.35  "
      ]
     },
     "execution_count": 224,
     "metadata": {},
     "output_type": "execute_result"
    }
   ],
   "source": [
    "df.tail()"
   ]
  },
  {
   "cell_type": "code",
   "execution_count": 225,
   "metadata": {},
   "outputs": [
    {
     "name": "stdout",
     "output_type": "stream",
     "text": [
      "<class 'pandas.core.frame.DataFrame'>\n",
      "DatetimeIndex: 2103841 entries, 2015-01-01 00:00:00 to 2019-01-01 00:00:00\n",
      "Data columns (total 17 columns):\n",
      "T_data_1_1    int64\n",
      "T_data_1_2    int64\n",
      "T_data_1_3    int64\n",
      "T_data_2_1    int64\n",
      "T_data_2_2    int64\n",
      "T_data_2_3    int64\n",
      "T_data_3_1    int64\n",
      "T_data_3_2    int64\n",
      "T_data_3_3    int64\n",
      "T_data_4_1    int64\n",
      "T_data_4_2    int64\n",
      "T_data_4_3    int64\n",
      "T_data_5_1    int64\n",
      "T_data_5_2    int64\n",
      "T_data_5_3    int64\n",
      "H_data        float64\n",
      "AH_data       float64\n",
      "dtypes: float64(2), int64(15)\n",
      "memory usage: 288.9 MB\n"
     ]
    }
   ],
   "source": [
    "df.info()"
   ]
  },
  {
   "cell_type": "code",
   "execution_count": 228,
   "metadata": {},
   "outputs": [
    {
     "data": {
      "text/plain": [
       "T_data_1_1    0\n",
       "T_data_1_2    0\n",
       "T_data_1_3    0\n",
       "T_data_2_1    0\n",
       "T_data_2_2    0\n",
       "T_data_2_3    0\n",
       "T_data_3_1    0\n",
       "T_data_3_2    0\n",
       "T_data_3_3    0\n",
       "T_data_4_1    0\n",
       "T_data_4_2    0\n",
       "T_data_4_3    0\n",
       "T_data_5_1    0\n",
       "T_data_5_2    0\n",
       "T_data_5_3    0\n",
       "H_data        0\n",
       "AH_data       0\n",
       "dtype: int64"
      ]
     },
     "execution_count": 228,
     "metadata": {},
     "output_type": "execute_result"
    }
   ],
   "source": [
    "df.isnull().sum()"
   ]
  },
  {
   "cell_type": "markdown",
   "metadata": {},
   "source": [
    "Пропусков нет"
   ]
  },
  {
   "cell_type": "code",
   "execution_count": 425,
   "metadata": {},
   "outputs": [
    {
     "data": {
      "text/html": [
       "<div>\n",
       "<style scoped>\n",
       "    .dataframe tbody tr th:only-of-type {\n",
       "        vertical-align: middle;\n",
       "    }\n",
       "\n",
       "    .dataframe tbody tr th {\n",
       "        vertical-align: top;\n",
       "    }\n",
       "\n",
       "    .dataframe thead th {\n",
       "        text-align: right;\n",
       "    }\n",
       "</style>\n",
       "<table border=\"1\" class=\"dataframe\">\n",
       "  <thead>\n",
       "    <tr style=\"text-align: right;\">\n",
       "      <th></th>\n",
       "      <th>y</th>\n",
       "    </tr>\n",
       "  </thead>\n",
       "  <tbody>\n",
       "    <tr>\n",
       "      <th>2015-01-04 00:05:00</th>\n",
       "      <td>392</td>\n",
       "    </tr>\n",
       "    <tr>\n",
       "      <th>2015-01-04 01:05:00</th>\n",
       "      <td>384</td>\n",
       "    </tr>\n",
       "    <tr>\n",
       "      <th>2015-01-04 02:05:00</th>\n",
       "      <td>393</td>\n",
       "    </tr>\n",
       "    <tr>\n",
       "      <th>2015-01-04 03:05:00</th>\n",
       "      <td>399</td>\n",
       "    </tr>\n",
       "    <tr>\n",
       "      <th>2015-01-04 04:05:00</th>\n",
       "      <td>400</td>\n",
       "    </tr>\n",
       "  </tbody>\n",
       "</table>\n",
       "</div>"
      ],
      "text/plain": [
       "                       y\n",
       "2015-01-04 00:05:00  392\n",
       "2015-01-04 01:05:00  384\n",
       "2015-01-04 02:05:00  393\n",
       "2015-01-04 03:05:00  399\n",
       "2015-01-04 04:05:00  400"
      ]
     },
     "execution_count": 425,
     "metadata": {},
     "output_type": "execute_result"
    }
   ],
   "source": [
    "y.head()"
   ]
  },
  {
   "cell_type": "code",
   "execution_count": 426,
   "metadata": {},
   "outputs": [
    {
     "name": "stdout",
     "output_type": "stream",
     "text": [
      "<class 'pandas.core.frame.DataFrame'>\n",
      "DatetimeIndex: 29184 entries, 2015-01-04 00:05:00 to 2018-05-03 23:05:00\n",
      "Data columns (total 1 columns):\n",
      "y    29184 non-null object\n",
      "dtypes: object(1)\n",
      "memory usage: 456.0+ KB\n"
     ]
    }
   ],
   "source": [
    "y.info()"
   ]
  },
  {
   "cell_type": "markdown",
   "metadata": {},
   "source": [
    "Целевой признак в `y` в интервале `2015-01-04 00:05:00 - 2018-05-03 23:05:00`. Измерения для пятой минуты каждого часа"
   ]
  },
  {
   "cell_type": "markdown",
   "metadata": {},
   "source": [
    "Изменяю тип целевого признака на `int`"
   ]
  },
  {
   "cell_type": "code",
   "execution_count": 14,
   "metadata": {},
   "outputs": [],
   "source": [
    "y['y'] = y['y'].astype('int')"
   ]
  },
  {
   "cell_type": "code",
   "execution_count": 456,
   "metadata": {},
   "outputs": [
    {
     "data": {
      "text/html": [
       "<div>\n",
       "<style scoped>\n",
       "    .dataframe tbody tr th:only-of-type {\n",
       "        vertical-align: middle;\n",
       "    }\n",
       "\n",
       "    .dataframe tbody tr th {\n",
       "        vertical-align: top;\n",
       "    }\n",
       "\n",
       "    .dataframe thead th {\n",
       "        text-align: right;\n",
       "    }\n",
       "</style>\n",
       "<table border=\"1\" class=\"dataframe\">\n",
       "  <thead>\n",
       "    <tr style=\"text-align: right;\">\n",
       "      <th></th>\n",
       "      <th>y</th>\n",
       "    </tr>\n",
       "  </thead>\n",
       "  <tbody>\n",
       "    <tr>\n",
       "      <th>count</th>\n",
       "      <td>29184.00000</td>\n",
       "    </tr>\n",
       "    <tr>\n",
       "      <th>mean</th>\n",
       "      <td>402.80075</td>\n",
       "    </tr>\n",
       "    <tr>\n",
       "      <th>std</th>\n",
       "      <td>46.27323</td>\n",
       "    </tr>\n",
       "    <tr>\n",
       "      <th>min</th>\n",
       "      <td>221.00000</td>\n",
       "    </tr>\n",
       "    <tr>\n",
       "      <th>25%</th>\n",
       "      <td>372.00000</td>\n",
       "    </tr>\n",
       "    <tr>\n",
       "      <th>50%</th>\n",
       "      <td>408.00000</td>\n",
       "    </tr>\n",
       "    <tr>\n",
       "      <th>75%</th>\n",
       "      <td>439.00000</td>\n",
       "    </tr>\n",
       "    <tr>\n",
       "      <th>max</th>\n",
       "      <td>505.00000</td>\n",
       "    </tr>\n",
       "  </tbody>\n",
       "</table>\n",
       "</div>"
      ],
      "text/plain": [
       "                y\n",
       "count 29184.00000\n",
       "mean    402.80075\n",
       "std      46.27323\n",
       "min     221.00000\n",
       "25%     372.00000\n",
       "50%     408.00000\n",
       "75%     439.00000\n",
       "max     505.00000"
      ]
     },
     "execution_count": 456,
     "metadata": {},
     "output_type": "execute_result"
    }
   ],
   "source": [
    "y.describe()"
   ]
  },
  {
   "cell_type": "markdown",
   "metadata": {},
   "source": [
    "В целевом признаке нет отрицательных и других явно ошибочных значений."
   ]
  },
  {
   "cell_type": "code",
   "execution_count": 432,
   "metadata": {},
   "outputs": [
    {
     "data": {
      "text/html": [
       "<div>\n",
       "<style scoped>\n",
       "    .dataframe tbody tr th:only-of-type {\n",
       "        vertical-align: middle;\n",
       "    }\n",
       "\n",
       "    .dataframe tbody tr th {\n",
       "        vertical-align: top;\n",
       "    }\n",
       "\n",
       "    .dataframe thead th {\n",
       "        text-align: right;\n",
       "    }\n",
       "</style>\n",
       "<table border=\"1\" class=\"dataframe\">\n",
       "  <thead>\n",
       "    <tr style=\"text-align: right;\">\n",
       "      <th></th>\n",
       "      <th>y</th>\n",
       "    </tr>\n",
       "  </thead>\n",
       "  <tbody>\n",
       "    <tr>\n",
       "      <th>2018-05-04 00:05:00</th>\n",
       "      <td>420</td>\n",
       "    </tr>\n",
       "    <tr>\n",
       "      <th>2018-05-04 01:05:00</th>\n",
       "      <td>420</td>\n",
       "    </tr>\n",
       "    <tr>\n",
       "      <th>2018-05-04 02:05:00</th>\n",
       "      <td>420</td>\n",
       "    </tr>\n",
       "    <tr>\n",
       "      <th>2018-05-04 03:05:00</th>\n",
       "      <td>420</td>\n",
       "    </tr>\n",
       "    <tr>\n",
       "      <th>2018-05-04 04:05:00</th>\n",
       "      <td>420</td>\n",
       "    </tr>\n",
       "  </tbody>\n",
       "</table>\n",
       "</div>"
      ],
      "text/plain": [
       "                       y\n",
       "2018-05-04 00:05:00  420\n",
       "2018-05-04 01:05:00  420\n",
       "2018-05-04 02:05:00  420\n",
       "2018-05-04 03:05:00  420\n",
       "2018-05-04 04:05:00  420"
      ]
     },
     "execution_count": 432,
     "metadata": {},
     "output_type": "execute_result"
    }
   ],
   "source": [
    "y_submit.head()"
   ]
  },
  {
   "cell_type": "code",
   "execution_count": 433,
   "metadata": {},
   "outputs": [
    {
     "name": "stdout",
     "output_type": "stream",
     "text": [
      "<class 'pandas.core.frame.DataFrame'>\n",
      "DatetimeIndex: 5808 entries, 2018-05-04 00:05:00 to 2018-12-31 23:05:00\n",
      "Data columns (total 1 columns):\n",
      "y    5808 non-null object\n",
      "dtypes: object(1)\n",
      "memory usage: 90.8+ KB\n"
     ]
    }
   ],
   "source": [
    "y_submit.info()"
   ]
  },
  {
   "cell_type": "markdown",
   "metadata": {},
   "source": [
    "В `y_submit` временной интервал `2018-05-04 00:05:00 - 2018-12-31 23:05:00`. Измерения для пятой минуты каждого часа"
   ]
  },
  {
   "cell_type": "markdown",
   "metadata": {},
   "source": [
    "Оставляю в датасете строки в пределах времени, для которого есть значения целевого признака в `y` и `y_submit`, с учётом отступа на один час"
   ]
  },
  {
   "cell_type": "code",
   "execution_count": 15,
   "metadata": {},
   "outputs": [],
   "source": [
    "df = df[(df.index > '2015-01-03 23:05:00') & ('2018-12-31 23:05:00' > df.index)]"
   ]
  },
  {
   "cell_type": "code",
   "execution_count": 435,
   "metadata": {},
   "outputs": [
    {
     "data": {
      "text/html": [
       "<div>\n",
       "<style scoped>\n",
       "    .dataframe tbody tr th:only-of-type {\n",
       "        vertical-align: middle;\n",
       "    }\n",
       "\n",
       "    .dataframe tbody tr th {\n",
       "        vertical-align: top;\n",
       "    }\n",
       "\n",
       "    .dataframe thead th {\n",
       "        text-align: right;\n",
       "    }\n",
       "</style>\n",
       "<table border=\"1\" class=\"dataframe\">\n",
       "  <thead>\n",
       "    <tr style=\"text-align: right;\">\n",
       "      <th></th>\n",
       "      <th>T_data_1_1</th>\n",
       "      <th>T_data_1_2</th>\n",
       "      <th>T_data_1_3</th>\n",
       "      <th>T_data_2_1</th>\n",
       "      <th>T_data_2_2</th>\n",
       "      <th>T_data_2_3</th>\n",
       "      <th>T_data_3_1</th>\n",
       "      <th>T_data_3_2</th>\n",
       "      <th>T_data_3_3</th>\n",
       "      <th>T_data_4_1</th>\n",
       "      <th>T_data_4_2</th>\n",
       "      <th>T_data_4_3</th>\n",
       "      <th>T_data_5_1</th>\n",
       "      <th>T_data_5_2</th>\n",
       "      <th>T_data_5_3</th>\n",
       "      <th>H_data</th>\n",
       "      <th>AH_data</th>\n",
       "    </tr>\n",
       "  </thead>\n",
       "  <tbody>\n",
       "    <tr>\n",
       "      <th>count</th>\n",
       "      <td>2099519.00000</td>\n",
       "      <td>2099519.00000</td>\n",
       "      <td>2099519.00000</td>\n",
       "      <td>2099519.00000</td>\n",
       "      <td>2099519.00000</td>\n",
       "      <td>2099519.00000</td>\n",
       "      <td>2099519.00000</td>\n",
       "      <td>2099519.00000</td>\n",
       "      <td>2099519.00000</td>\n",
       "      <td>2099519.00000</td>\n",
       "      <td>2099519.00000</td>\n",
       "      <td>2099519.00000</td>\n",
       "      <td>2099519.00000</td>\n",
       "      <td>2099519.00000</td>\n",
       "      <td>2099519.00000</td>\n",
       "      <td>2099519.00000</td>\n",
       "      <td>2099519.00000</td>\n",
       "    </tr>\n",
       "    <tr>\n",
       "      <th>mean</th>\n",
       "      <td>250.15040</td>\n",
       "      <td>250.05470</td>\n",
       "      <td>250.21752</td>\n",
       "      <td>349.79131</td>\n",
       "      <td>349.74010</td>\n",
       "      <td>349.84804</td>\n",
       "      <td>501.13023</td>\n",
       "      <td>501.07512</td>\n",
       "      <td>501.19513</td>\n",
       "      <td>349.31368</td>\n",
       "      <td>349.46074</td>\n",
       "      <td>350.03675</td>\n",
       "      <td>249.75100</td>\n",
       "      <td>249.61346</td>\n",
       "      <td>249.69282</td>\n",
       "      <td>174.74420</td>\n",
       "      <td>7.49910</td>\n",
       "    </tr>\n",
       "    <tr>\n",
       "      <th>std</th>\n",
       "      <td>32.12517</td>\n",
       "      <td>30.82454</td>\n",
       "      <td>30.69141</td>\n",
       "      <td>42.28482</td>\n",
       "      <td>40.65657</td>\n",
       "      <td>38.00820</td>\n",
       "      <td>63.29571</td>\n",
       "      <td>63.40511</td>\n",
       "      <td>62.26561</td>\n",
       "      <td>39.18773</td>\n",
       "      <td>39.17930</td>\n",
       "      <td>40.21692</td>\n",
       "      <td>30.74805</td>\n",
       "      <td>30.50129</td>\n",
       "      <td>30.76276</td>\n",
       "      <td>14.42954</td>\n",
       "      <td>1.14788</td>\n",
       "    </tr>\n",
       "    <tr>\n",
       "      <th>min</th>\n",
       "      <td>-198.00000</td>\n",
       "      <td>-122.00000</td>\n",
       "      <td>-107.00000</td>\n",
       "      <td>-703.00000</td>\n",
       "      <td>-958.00000</td>\n",
       "      <td>-191.00000</td>\n",
       "      <td>-775.00000</td>\n",
       "      <td>-759.00000</td>\n",
       "      <td>-613.00000</td>\n",
       "      <td>-514.00000</td>\n",
       "      <td>-471.00000</td>\n",
       "      <td>-609.00000</td>\n",
       "      <td>-89.00000</td>\n",
       "      <td>-125.00000</td>\n",
       "      <td>-163.00000</td>\n",
       "      <td>141.49000</td>\n",
       "      <td>2.89000</td>\n",
       "    </tr>\n",
       "    <tr>\n",
       "      <th>25%</th>\n",
       "      <td>229.00000</td>\n",
       "      <td>229.00000</td>\n",
       "      <td>229.00000</td>\n",
       "      <td>328.00000</td>\n",
       "      <td>328.00000</td>\n",
       "      <td>328.00000</td>\n",
       "      <td>463.00000</td>\n",
       "      <td>464.00000</td>\n",
       "      <td>464.00000</td>\n",
       "      <td>327.00000</td>\n",
       "      <td>328.00000</td>\n",
       "      <td>328.00000</td>\n",
       "      <td>229.00000</td>\n",
       "      <td>229.00000</td>\n",
       "      <td>229.00000</td>\n",
       "      <td>162.48000</td>\n",
       "      <td>6.73000</td>\n",
       "    </tr>\n",
       "    <tr>\n",
       "      <th>50%</th>\n",
       "      <td>250.00000</td>\n",
       "      <td>250.00000</td>\n",
       "      <td>250.00000</td>\n",
       "      <td>350.00000</td>\n",
       "      <td>350.00000</td>\n",
       "      <td>350.00000</td>\n",
       "      <td>502.00000</td>\n",
       "      <td>502.00000</td>\n",
       "      <td>502.00000</td>\n",
       "      <td>349.00000</td>\n",
       "      <td>350.00000</td>\n",
       "      <td>350.00000</td>\n",
       "      <td>249.00000</td>\n",
       "      <td>250.00000</td>\n",
       "      <td>250.00000</td>\n",
       "      <td>174.44000</td>\n",
       "      <td>7.51000</td>\n",
       "    </tr>\n",
       "    <tr>\n",
       "      <th>75%</th>\n",
       "      <td>272.00000</td>\n",
       "      <td>272.00000</td>\n",
       "      <td>272.00000</td>\n",
       "      <td>372.00000</td>\n",
       "      <td>372.00000</td>\n",
       "      <td>372.00000</td>\n",
       "      <td>538.00000</td>\n",
       "      <td>537.00000</td>\n",
       "      <td>538.00000</td>\n",
       "      <td>372.00000</td>\n",
       "      <td>372.00000</td>\n",
       "      <td>372.00000</td>\n",
       "      <td>270.00000</td>\n",
       "      <td>271.00000</td>\n",
       "      <td>271.00000</td>\n",
       "      <td>187.03000</td>\n",
       "      <td>8.27000</td>\n",
       "    </tr>\n",
       "    <tr>\n",
       "      <th>max</th>\n",
       "      <td>724.00000</td>\n",
       "      <td>762.00000</td>\n",
       "      <td>665.00000</td>\n",
       "      <td>1302.00000</td>\n",
       "      <td>1179.00000</td>\n",
       "      <td>889.00000</td>\n",
       "      <td>1587.00000</td>\n",
       "      <td>2505.00000</td>\n",
       "      <td>1319.00000</td>\n",
       "      <td>1177.00000</td>\n",
       "      <td>1244.00000</td>\n",
       "      <td>944.00000</td>\n",
       "      <td>905.00000</td>\n",
       "      <td>738.00000</td>\n",
       "      <td>624.00000</td>\n",
       "      <td>207.83000</td>\n",
       "      <td>11.84000</td>\n",
       "    </tr>\n",
       "  </tbody>\n",
       "</table>\n",
       "</div>"
      ],
      "text/plain": [
       "         T_data_1_1    T_data_1_2    T_data_1_3    T_data_2_1    T_data_2_2  \\\n",
       "count 2099519.00000 2099519.00000 2099519.00000 2099519.00000 2099519.00000   \n",
       "mean      250.15040     250.05470     250.21752     349.79131     349.74010   \n",
       "std        32.12517      30.82454      30.69141      42.28482      40.65657   \n",
       "min      -198.00000    -122.00000    -107.00000    -703.00000    -958.00000   \n",
       "25%       229.00000     229.00000     229.00000     328.00000     328.00000   \n",
       "50%       250.00000     250.00000     250.00000     350.00000     350.00000   \n",
       "75%       272.00000     272.00000     272.00000     372.00000     372.00000   \n",
       "max       724.00000     762.00000     665.00000    1302.00000    1179.00000   \n",
       "\n",
       "         T_data_2_3    T_data_3_1    T_data_3_2    T_data_3_3    T_data_4_1  \\\n",
       "count 2099519.00000 2099519.00000 2099519.00000 2099519.00000 2099519.00000   \n",
       "mean      349.84804     501.13023     501.07512     501.19513     349.31368   \n",
       "std        38.00820      63.29571      63.40511      62.26561      39.18773   \n",
       "min      -191.00000    -775.00000    -759.00000    -613.00000    -514.00000   \n",
       "25%       328.00000     463.00000     464.00000     464.00000     327.00000   \n",
       "50%       350.00000     502.00000     502.00000     502.00000     349.00000   \n",
       "75%       372.00000     538.00000     537.00000     538.00000     372.00000   \n",
       "max       889.00000    1587.00000    2505.00000    1319.00000    1177.00000   \n",
       "\n",
       "         T_data_4_2    T_data_4_3    T_data_5_1    T_data_5_2    T_data_5_3  \\\n",
       "count 2099519.00000 2099519.00000 2099519.00000 2099519.00000 2099519.00000   \n",
       "mean      349.46074     350.03675     249.75100     249.61346     249.69282   \n",
       "std        39.17930      40.21692      30.74805      30.50129      30.76276   \n",
       "min      -471.00000    -609.00000     -89.00000    -125.00000    -163.00000   \n",
       "25%       328.00000     328.00000     229.00000     229.00000     229.00000   \n",
       "50%       350.00000     350.00000     249.00000     250.00000     250.00000   \n",
       "75%       372.00000     372.00000     270.00000     271.00000     271.00000   \n",
       "max      1244.00000     944.00000     905.00000     738.00000     624.00000   \n",
       "\n",
       "             H_data       AH_data  \n",
       "count 2099519.00000 2099519.00000  \n",
       "mean      174.74420       7.49910  \n",
       "std        14.42954       1.14788  \n",
       "min       141.49000       2.89000  \n",
       "25%       162.48000       6.73000  \n",
       "50%       174.44000       7.51000  \n",
       "75%       187.03000       8.27000  \n",
       "max       207.83000      11.84000  "
      ]
     },
     "execution_count": 435,
     "metadata": {},
     "output_type": "execute_result"
    }
   ],
   "source": [
    "df.describe()"
   ]
  },
  {
   "cell_type": "markdown",
   "metadata": {},
   "source": [
    "Отрицательные значения в данных об измерении температуры."
   ]
  },
  {
   "cell_type": "markdown",
   "metadata": {},
   "source": [
    "Заменю значения меньше 100 градусов на среднее по двум другим датчикам в той же камере. "
   ]
  },
  {
   "cell_type": "code",
   "execution_count": 16,
   "metadata": {},
   "outputs": [],
   "source": [
    "mean_list = []\n",
    "for i in range(1, 6):\n",
    "    df[f'{i}_mean_2_3'] = (df[f'T_data_{i}_2'] + df[f'T_data_{i}_3']) / 2\n",
    "    mean_list.append(f'{i}_mean_2_3')\n",
    "    df[f'{i}_mean_1_3'] = (df[f'T_data_{i}_1'] + df[f'T_data_{i}_3']) / 2\n",
    "    mean_list.append(f'{i}_mean_1_3')\n",
    "    df[f'{i}_mean_1_2'] = (df[f'T_data_{i}_1'] + df[f'T_data_{i}_2']) / 2\n",
    "    mean_list.append(f'{i}_mean_1_2')"
   ]
  },
  {
   "cell_type": "code",
   "execution_count": 17,
   "metadata": {},
   "outputs": [],
   "source": [
    "for i in range(1, 6):\n",
    "    df.loc[df[f'T_data_{i}_1'] < 100, f'T_data_{i}_1'] = df.loc[df[f'T_data_{i}_1'] < 100, f'{i}_mean_2_3']\n",
    "    df.loc[df[f'T_data_{i}_2'] < 100, f'T_data_{i}_2'] = df.loc[df[f'T_data_{i}_2'] < 100, f'{i}_mean_1_3']\n",
    "    df.loc[df[f'T_data_{i}_3'] < 100, f'T_data_{i}_3'] = df.loc[df[f'T_data_{i}_3'] < 100, f'{i}_mean_1_2']"
   ]
  },
  {
   "cell_type": "code",
   "execution_count": 18,
   "metadata": {},
   "outputs": [],
   "source": [
    "df = df.drop(mean_list, axis=1)"
   ]
  },
  {
   "cell_type": "markdown",
   "metadata": {},
   "source": [
    "Так как целевой признак измеряется для пятой минуты каждого часа, а в основном датасете содержатся данные за каждую минуту, то необходимо изменить временной интервал. Для этого я смещу индексы в основном датасете на пять минут назад. Затем проведу ресемплирование по часу с усреднением значений и верну назад настоящие индексы. Таким образом интервал 60 минут с `2015-01-04 22:05:00` по `2015-01-04 23:04:00` будет соответствовать индексу времени `2015-01-04 23:05:00`"
   ]
  },
  {
   "cell_type": "code",
   "execution_count": 19,
   "metadata": {},
   "outputs": [],
   "source": [
    "delta5_idx_minus = pd.date_range('2015-01-03 23:01:00', '2018-12-31 22:59:00', freq='1T')"
   ]
  },
  {
   "cell_type": "code",
   "execution_count": 20,
   "metadata": {},
   "outputs": [],
   "source": [
    "df.reset_index(inplace=True)"
   ]
  },
  {
   "cell_type": "code",
   "execution_count": 21,
   "metadata": {},
   "outputs": [],
   "source": [
    "df.set_index(delta5_idx_minus, inplace=True)"
   ]
  },
  {
   "cell_type": "code",
   "execution_count": 22,
   "metadata": {},
   "outputs": [],
   "source": [
    "df_h = df.resample('1H').mean()"
   ]
  },
  {
   "cell_type": "code",
   "execution_count": 23,
   "metadata": {},
   "outputs": [],
   "source": [
    "delta5_idx_plus = pd.date_range('2015-01-04 00:05:00', '2018-12-31 23:05:00', freq='1H')"
   ]
  },
  {
   "cell_type": "code",
   "execution_count": 24,
   "metadata": {},
   "outputs": [],
   "source": [
    "df_h.reset_index(inplace=True)\n",
    "df_h.set_index(delta5_idx_plus, inplace=True)"
   ]
  },
  {
   "cell_type": "code",
   "execution_count": 25,
   "metadata": {},
   "outputs": [],
   "source": [
    "df_h = df_h.drop('index', axis=1)"
   ]
  },
  {
   "cell_type": "markdown",
   "metadata": {},
   "source": [
    "Создаю датасеты `df_train` и `df_submit` в соответствии с временными интервалами в `y_train` и `y_submit`"
   ]
  },
  {
   "cell_type": "code",
   "execution_count": 26,
   "metadata": {},
   "outputs": [],
   "source": [
    "df_train = df_h[(df_h.index >= '2015-01-04 00:05:00') & ('2018-05-03 23:05:00' >= df_h.index)]"
   ]
  },
  {
   "cell_type": "code",
   "execution_count": 27,
   "metadata": {},
   "outputs": [
    {
     "data": {
      "text/plain": [
       "((29184, 17), (29184, 1))"
      ]
     },
     "execution_count": 27,
     "metadata": {},
     "output_type": "execute_result"
    }
   ],
   "source": [
    "(df_train.shape), (y.shape)"
   ]
  },
  {
   "cell_type": "code",
   "execution_count": 28,
   "metadata": {},
   "outputs": [],
   "source": [
    "df_submit = df_h[(df_h.index >= '2018-05-04 00:05:00') & ('2018-12-31 23:05:00' >= df_h.index)]"
   ]
  },
  {
   "cell_type": "code",
   "execution_count": 29,
   "metadata": {},
   "outputs": [
    {
     "data": {
      "text/plain": [
       "((5808, 17), (5808, 1))"
      ]
     },
     "execution_count": 29,
     "metadata": {},
     "output_type": "execute_result"
    }
   ],
   "source": [
    "(df_submit.shape), (y_submit.shape)"
   ]
  },
  {
   "cell_type": "markdown",
   "metadata": {},
   "source": [
    "Разделение датасета `df_train` на обучающую и тестовую выборки в соотношении 70:30"
   ]
  },
  {
   "cell_type": "code",
   "execution_count": 30,
   "metadata": {},
   "outputs": [],
   "source": [
    "X_train, X_test, y_train, y_test = train_test_split(df_train, y, shuffle=False, test_size=0.3)"
   ]
  },
  {
   "cell_type": "markdown",
   "metadata": {},
   "source": [
    "### Обучение и тестирование моделей"
   ]
  },
  {
   "cell_type": "markdown",
   "metadata": {},
   "source": [
    "Поиск гиперпарметров будет осуществляться с помощью `GridSearchCV` с кросс-валидацией на 5 подвыборках"
   ]
  },
  {
   "cell_type": "code",
   "execution_count": 31,
   "metadata": {},
   "outputs": [],
   "source": [
    "kf = KFold(n_splits=5, random_state=SEED, shuffle=False)"
   ]
  },
  {
   "cell_type": "markdown",
   "metadata": {},
   "source": [
    "#### Линейная регрессия"
   ]
  },
  {
   "cell_type": "code",
   "execution_count": 33,
   "metadata": {
    "scrolled": true
   },
   "outputs": [
    {
     "name": "stdout",
     "output_type": "stream",
     "text": [
      "MAE на кросс-валидации: 13.416187394284895\n",
      "Гиперпараметры лучшей модели: {'fit_intercept': True, 'normalize': True}\n"
     ]
    },
    {
     "data": {
      "text/plain": [
       "LinearRegression(copy_X=True, fit_intercept=True, n_jobs=None, normalize=True)"
      ]
     },
     "execution_count": 33,
     "metadata": {},
     "output_type": "execute_result"
    }
   ],
   "source": [
    "parameters = {'fit_intercept':[True,False], 'normalize':[True,False]}\n",
    "grid_lr = GridSearchCV(LinearRegression(), parameters, cv=kf, scoring='neg_mean_absolute_error')\n",
    "grid_lr.fit(X_train, y_train)\n",
    "params = grid_lr.best_params_\n",
    "print('MAE на кросс-валидации:', abs(grid_lr.best_score_))\n",
    "print('Гиперпараметры лучшей модели:', params)\n",
    "lr = LinearRegression(**params)\n",
    "lr.fit(X_train, y_train)"
   ]
  },
  {
   "cell_type": "markdown",
   "metadata": {},
   "source": [
    "#### Случайный лес"
   ]
  },
  {
   "cell_type": "code",
   "execution_count": 34,
   "metadata": {},
   "outputs": [],
   "source": [
    "tree_params = {'n_estimators': [1000], \n",
    "               'max_depth': [4, 6],\n",
    "               'min_samples_split': [2, 5, 8, 10]}"
   ]
  },
  {
   "cell_type": "code",
   "execution_count": 35,
   "metadata": {},
   "outputs": [
    {
     "name": "stdout",
     "output_type": "stream",
     "text": [
      "MAE на кросс-валидации:  12.197622860281523\n",
      "Гиперпараметры лучшей модели: {'max_depth': 6, 'min_samples_split': 2, 'n_estimators': 1000}\n"
     ]
    },
    {
     "data": {
      "text/plain": [
       "RandomForestRegressor(bootstrap=True, criterion='mse', max_depth=6,\n",
       "           max_features='auto', max_leaf_nodes=None,\n",
       "           min_impurity_decrease=0.0, min_impurity_split=None,\n",
       "           min_samples_leaf=1, min_samples_split=2,\n",
       "           min_weight_fraction_leaf=0.0, n_estimators=1000, n_jobs=None,\n",
       "           oob_score=False, random_state=42, verbose=0, warm_start=False)"
      ]
     },
     "execution_count": 35,
     "metadata": {},
     "output_type": "execute_result"
    }
   ],
   "source": [
    "grid_rfr = GridSearchCV(RandomForestRegressor(random_state=SEED), \n",
    "                        tree_params, n_jobs=-1, refit=False, cv=kf, scoring='neg_mean_absolute_error') \n",
    "grid_rfr.fit(X_train, y_train)\n",
    "print('MAE на кросс-валидации: ', abs(grid_rfr.best_score_))\n",
    "params = grid_rfr.best_params_\n",
    "print('Гиперпараметры лучшей модели:', params)\n",
    "rfr = RandomForestRegressor(**params, random_state=SEED)\n",
    "rfr.fit(X_train, y_train)"
   ]
  },
  {
   "cell_type": "markdown",
   "metadata": {},
   "source": [
    "#### Градиентный бустинг"
   ]
  },
  {
   "cell_type": "markdown",
   "metadata": {},
   "source": [
    "#### XGBoost"
   ]
  },
  {
   "cell_type": "code",
   "execution_count": 36,
   "metadata": {},
   "outputs": [],
   "source": [
    "param_grid_xgb = {'learning_rate': [0.03, 0.05, 0.1, 0.2],\n",
    "                  'max_depth': [4, 6],\n",
    "                  'n_estimators': [1000]}"
   ]
  },
  {
   "cell_type": "code",
   "execution_count": 37,
   "metadata": {},
   "outputs": [
    {
     "name": "stdout",
     "output_type": "stream",
     "text": [
      "MAE на кросс-валидации: 8.34908309318045\n",
      "Гиперпараметры лучшей модели: {'learning_rate': 0.05, 'max_depth': 6, 'n_estimators': 1000}\n",
      "[11:40:36] WARNING: C:/Jenkins/workspace/xgboost-win64_release_0.90/src/objective/regression_obj.cu:152: reg:linear is now deprecated in favor of reg:squarederror.\n"
     ]
    },
    {
     "data": {
      "text/plain": [
       "XGBRegressor(base_score=0.5, booster='gbtree', colsample_bylevel=1,\n",
       "       colsample_bynode=1, colsample_bytree=1, gamma=0,\n",
       "       importance_type='gain', learning_rate=0.05, max_delta_step=0,\n",
       "       max_depth=6, min_child_weight=1, missing=None, n_estimators=1000,\n",
       "       n_jobs=1, nthread=None, objective='reg:linear', random_state=42,\n",
       "       reg_alpha=0, reg_lambda=1, scale_pos_weight=1, seed=None,\n",
       "       silent=None, subsample=1, verbosity=1)"
      ]
     },
     "execution_count": 37,
     "metadata": {},
     "output_type": "execute_result"
    }
   ],
   "source": [
    "grid_xgbr = GridSearchCV(xgb.XGBRegressor(random_state=SEED, verbosity=0), \n",
    "                    param_grid_xgb, n_jobs=-1, cv=kf, scoring='neg_mean_absolute_error', refit=False) \n",
    "grid_xgbr.fit(X_train, y_train)\n",
    "params = grid_xgbr.best_params_\n",
    "print('MAE на кросс-валидации:', abs(grid_xgbr.best_score_))\n",
    "print('Гиперпараметры лучшей модели:', params)\n",
    "xgbr= xgb.XGBRegressor(**params, random_state=SEED)\n",
    "xgbr.fit(X_train, y_train)"
   ]
  },
  {
   "cell_type": "markdown",
   "metadata": {},
   "source": [
    "#### LightGBM"
   ]
  },
  {
   "cell_type": "code",
   "execution_count": 38,
   "metadata": {},
   "outputs": [],
   "source": [
    "param_grid = {'n_estimators': [1000], \n",
    "              'learning_rate': [0.05, 0.1],\n",
    "              'max_depth': [4, 6],\n",
    "              'num_leaves': [20, 30, 50]}"
   ]
  },
  {
   "cell_type": "code",
   "execution_count": 39,
   "metadata": {},
   "outputs": [
    {
     "name": "stdout",
     "output_type": "stream",
     "text": [
      "MAE на кросс-валидации: 8.132341792850776\n",
      "Гиперпараметры лучшей модели: {'learning_rate': 0.05, 'max_depth': 6, 'n_estimators': 1000, 'num_leaves': 30}\n"
     ]
    },
    {
     "data": {
      "text/plain": [
       "LGBMRegressor(boosting_type='gbdt', class_weight=None, colsample_bytree=1.0,\n",
       "       importance_type='split', learning_rate=0.05, max_depth=6,\n",
       "       min_child_samples=20, min_child_weight=0.001, min_split_gain=0.0,\n",
       "       n_estimators=1000, n_jobs=-1, num_leaves=30, objective=None,\n",
       "       random_state=42, reg_alpha=0.0, reg_lambda=0.0, silent=True,\n",
       "       subsample=1.0, subsample_for_bin=200000, subsample_freq=0)"
      ]
     },
     "execution_count": 39,
     "metadata": {},
     "output_type": "execute_result"
    }
   ],
   "source": [
    "grid_lgbm = GridSearchCV(lgb.LGBMRegressor(random_state=SEED), \n",
    "                    param_grid, n_jobs=-1, cv=kf, scoring='neg_mean_absolute_error', refit=False) \n",
    "grid_lgbm.fit(X_train, y_train)\n",
    "params = grid_lgbm.best_params_\n",
    "print('MAE на кросс-валидации:', abs(grid_lgbm.best_score_))\n",
    "print('Гиперпараметры лучшей модели:', params)\n",
    "lgbm = lgb.LGBMRegressor(**params, random_state=SEED)\n",
    "lgbm.fit(X_train, y_train)"
   ]
  },
  {
   "cell_type": "markdown",
   "metadata": {},
   "source": [
    "#### CatBoost"
   ]
  },
  {
   "cell_type": "code",
   "execution_count": 40,
   "metadata": {},
   "outputs": [],
   "source": [
    "param_grid_ctb = {'n_estimators': [1000],  \n",
    "                  'learning_rate': [0.03, 0.05, 0.07, 0.1],\n",
    "                  'depth': [4, 6]}"
   ]
  },
  {
   "cell_type": "code",
   "execution_count": 41,
   "metadata": {},
   "outputs": [
    {
     "name": "stdout",
     "output_type": "stream",
     "text": [
      "MAE на кросс-валидации:  7.53925700447485\n",
      "Гиперпараметры лучшей модели: {'depth': 6, 'learning_rate': 0.07, 'n_estimators': 1000}\n"
     ]
    },
    {
     "data": {
      "text/plain": [
       "<catboost.core.CatBoostRegressor at 0x24b7d4a04a8>"
      ]
     },
     "execution_count": 41,
     "metadata": {},
     "output_type": "execute_result"
    }
   ],
   "source": [
    "grid_ctb = GridSearchCV(CatBoostRegressor(random_state=SEED, silent=True), \n",
    "                    param_grid_ctb, n_jobs=-1, cv=kf, scoring='neg_mean_absolute_error', refit=False) \n",
    "grid_ctb.fit(X_train, y_train)\n",
    "print('MAE на кросс-валидации: ', abs(grid_ctb.best_score_))\n",
    "params = grid_ctb.best_params_\n",
    "print('Гиперпараметры лучшей модели:', params)\n",
    "ctb = CatBoostRegressor(**params, random_state=SEED, silent=True)\n",
    "ctb.fit(X_train, y_train)"
   ]
  },
  {
   "cell_type": "markdown",
   "metadata": {},
   "source": [
    "#### Значение MAE на кросс-валидации:\n",
    "- CatBoostRegressor - 7.5, \n",
    "- LGBMRegressor - 8.1, \n",
    "- XGBRegressor - 8.3, \n",
    "- RandomForestRegressor - 12.2, \n",
    "- LinearRegression - 13.4"
   ]
  },
  {
   "cell_type": "markdown",
   "metadata": {},
   "source": [
    "#### Тестирование моделей"
   ]
  },
  {
   "cell_type": "code",
   "execution_count": 42,
   "metadata": {},
   "outputs": [],
   "source": [
    "def test_model(model):\n",
    "    pred_test = model.predict(X_test)\n",
    "    print('MAE на тестовой выборке:', mean_absolute_error(y_test, pred_test))"
   ]
  },
  {
   "cell_type": "markdown",
   "metadata": {},
   "source": [
    "Линейная регрессия"
   ]
  },
  {
   "cell_type": "code",
   "execution_count": 43,
   "metadata": {},
   "outputs": [
    {
     "name": "stdout",
     "output_type": "stream",
     "text": [
      "MAE на тестовой выборке: 13.319455502837089\n"
     ]
    }
   ],
   "source": [
    "test_model(lr)"
   ]
  },
  {
   "cell_type": "markdown",
   "metadata": {},
   "source": [
    "Случайный лес"
   ]
  },
  {
   "cell_type": "code",
   "execution_count": 44,
   "metadata": {},
   "outputs": [
    {
     "name": "stdout",
     "output_type": "stream",
     "text": [
      "MAE на тестовой выборке: 12.11010439498051\n"
     ]
    }
   ],
   "source": [
    "test_model(rfr)"
   ]
  },
  {
   "cell_type": "markdown",
   "metadata": {},
   "source": [
    "XGBoost"
   ]
  },
  {
   "cell_type": "code",
   "execution_count": 45,
   "metadata": {},
   "outputs": [
    {
     "name": "stdout",
     "output_type": "stream",
     "text": [
      "MAE на тестовой выборке: 8.30142179500463\n"
     ]
    }
   ],
   "source": [
    "test_model(xgbr)"
   ]
  },
  {
   "cell_type": "markdown",
   "metadata": {},
   "source": [
    "LightGBM"
   ]
  },
  {
   "cell_type": "code",
   "execution_count": 46,
   "metadata": {},
   "outputs": [
    {
     "name": "stdout",
     "output_type": "stream",
     "text": [
      "MAE на тестовой выборке: 8.207631915748866\n"
     ]
    }
   ],
   "source": [
    "test_model(lgbm)"
   ]
  },
  {
   "cell_type": "markdown",
   "metadata": {},
   "source": [
    "CatBoost"
   ]
  },
  {
   "cell_type": "code",
   "execution_count": 47,
   "metadata": {},
   "outputs": [
    {
     "name": "stdout",
     "output_type": "stream",
     "text": [
      "MAE на тестовой выборке: 7.505597019081364\n"
     ]
    }
   ],
   "source": [
    "test_model(ctb)"
   ]
  },
  {
   "cell_type": "markdown",
   "metadata": {},
   "source": [
    "Значимость признаков для лучшей модели CatBoost"
   ]
  },
  {
   "cell_type": "code",
   "execution_count": 48,
   "metadata": {},
   "outputs": [
    {
     "data": {
      "text/html": [
       "\n",
       "    <style>\n",
       "    table.eli5-weights tr:hover {\n",
       "        filter: brightness(85%);\n",
       "    }\n",
       "</style>\n",
       "\n",
       "\n",
       "\n",
       "    \n",
       "\n",
       "    \n",
       "\n",
       "    \n",
       "\n",
       "    \n",
       "\n",
       "    \n",
       "\n",
       "    \n",
       "\n",
       "\n",
       "    \n",
       "\n",
       "    \n",
       "\n",
       "    \n",
       "\n",
       "    \n",
       "\n",
       "    \n",
       "\n",
       "    \n",
       "\n",
       "\n",
       "    \n",
       "\n",
       "    \n",
       "\n",
       "    \n",
       "\n",
       "    \n",
       "\n",
       "    \n",
       "        <table class=\"eli5-weights eli5-feature-importances\" style=\"border-collapse: collapse; border: none; margin-top: 0em; table-layout: auto;\">\n",
       "    <thead>\n",
       "    <tr style=\"border: none;\">\n",
       "        <th style=\"padding: 0 1em 0 0.5em; text-align: right; border: none;\">Weight</th>\n",
       "        <th style=\"padding: 0 0.5em 0 0.5em; text-align: left; border: none;\">Feature</th>\n",
       "    </tr>\n",
       "    </thead>\n",
       "    <tbody>\n",
       "    \n",
       "        <tr style=\"background-color: hsl(120, 100.00%, 80.00%); border: none;\">\n",
       "            <td style=\"padding: 0 1em 0 0.5em; text-align: right; border: none;\">\n",
       "                0.2183\n",
       "                \n",
       "            </td>\n",
       "            <td style=\"padding: 0 0.5em 0 0.5em; text-align: left; border: none;\">\n",
       "                T_data_3_1\n",
       "            </td>\n",
       "        </tr>\n",
       "    \n",
       "        <tr style=\"background-color: hsl(120, 100.00%, 80.05%); border: none;\">\n",
       "            <td style=\"padding: 0 1em 0 0.5em; text-align: right; border: none;\">\n",
       "                0.2175\n",
       "                \n",
       "            </td>\n",
       "            <td style=\"padding: 0 0.5em 0 0.5em; text-align: left; border: none;\">\n",
       "                T_data_3_3\n",
       "            </td>\n",
       "        </tr>\n",
       "    \n",
       "        <tr style=\"background-color: hsl(120, 100.00%, 80.55%); border: none;\">\n",
       "            <td style=\"padding: 0 1em 0 0.5em; text-align: right; border: none;\">\n",
       "                0.2098\n",
       "                \n",
       "            </td>\n",
       "            <td style=\"padding: 0 0.5em 0 0.5em; text-align: left; border: none;\">\n",
       "                T_data_3_2\n",
       "            </td>\n",
       "        </tr>\n",
       "    \n",
       "        <tr style=\"background-color: hsl(120, 100.00%, 89.62%); border: none;\">\n",
       "            <td style=\"padding: 0 1em 0 0.5em; text-align: right; border: none;\">\n",
       "                0.0855\n",
       "                \n",
       "            </td>\n",
       "            <td style=\"padding: 0 0.5em 0 0.5em; text-align: left; border: none;\">\n",
       "                H_data\n",
       "            </td>\n",
       "        </tr>\n",
       "    \n",
       "        <tr style=\"background-color: hsl(120, 100.00%, 92.36%); border: none;\">\n",
       "            <td style=\"padding: 0 1em 0 0.5em; text-align: right; border: none;\">\n",
       "                0.0553\n",
       "                \n",
       "            </td>\n",
       "            <td style=\"padding: 0 0.5em 0 0.5em; text-align: left; border: none;\">\n",
       "                T_data_5_1\n",
       "            </td>\n",
       "        </tr>\n",
       "    \n",
       "        <tr style=\"background-color: hsl(120, 100.00%, 94.00%); border: none;\">\n",
       "            <td style=\"padding: 0 1em 0 0.5em; text-align: right; border: none;\">\n",
       "                0.0391\n",
       "                \n",
       "            </td>\n",
       "            <td style=\"padding: 0 0.5em 0 0.5em; text-align: left; border: none;\">\n",
       "                T_data_5_2\n",
       "            </td>\n",
       "        </tr>\n",
       "    \n",
       "        <tr style=\"background-color: hsl(120, 100.00%, 94.55%); border: none;\">\n",
       "            <td style=\"padding: 0 1em 0 0.5em; text-align: right; border: none;\">\n",
       "                0.0340\n",
       "                \n",
       "            </td>\n",
       "            <td style=\"padding: 0 0.5em 0 0.5em; text-align: left; border: none;\">\n",
       "                T_data_1_2\n",
       "            </td>\n",
       "        </tr>\n",
       "    \n",
       "        <tr style=\"background-color: hsl(120, 100.00%, 94.77%); border: none;\">\n",
       "            <td style=\"padding: 0 1em 0 0.5em; text-align: right; border: none;\">\n",
       "                0.0321\n",
       "                \n",
       "            </td>\n",
       "            <td style=\"padding: 0 0.5em 0 0.5em; text-align: left; border: none;\">\n",
       "                T_data_5_3\n",
       "            </td>\n",
       "        </tr>\n",
       "    \n",
       "        <tr style=\"background-color: hsl(120, 100.00%, 94.89%); border: none;\">\n",
       "            <td style=\"padding: 0 1em 0 0.5em; text-align: right; border: none;\">\n",
       "                0.0310\n",
       "                \n",
       "            </td>\n",
       "            <td style=\"padding: 0 0.5em 0 0.5em; text-align: left; border: none;\">\n",
       "                T_data_1_3\n",
       "            </td>\n",
       "        </tr>\n",
       "    \n",
       "        <tr style=\"background-color: hsl(120, 100.00%, 96.26%); border: none;\">\n",
       "            <td style=\"padding: 0 1em 0 0.5em; text-align: right; border: none;\">\n",
       "                0.0199\n",
       "                \n",
       "            </td>\n",
       "            <td style=\"padding: 0 0.5em 0 0.5em; text-align: left; border: none;\">\n",
       "                T_data_1_1\n",
       "            </td>\n",
       "        </tr>\n",
       "    \n",
       "        <tr style=\"background-color: hsl(120, 100.00%, 96.76%); border: none;\">\n",
       "            <td style=\"padding: 0 1em 0 0.5em; text-align: right; border: none;\">\n",
       "                0.0162\n",
       "                \n",
       "            </td>\n",
       "            <td style=\"padding: 0 0.5em 0 0.5em; text-align: left; border: none;\">\n",
       "                T_data_2_3\n",
       "            </td>\n",
       "        </tr>\n",
       "    \n",
       "        <tr style=\"background-color: hsl(120, 100.00%, 97.01%); border: none;\">\n",
       "            <td style=\"padding: 0 1em 0 0.5em; text-align: right; border: none;\">\n",
       "                0.0144\n",
       "                \n",
       "            </td>\n",
       "            <td style=\"padding: 0 0.5em 0 0.5em; text-align: left; border: none;\">\n",
       "                T_data_2_1\n",
       "            </td>\n",
       "        </tr>\n",
       "    \n",
       "        <tr style=\"background-color: hsl(120, 100.00%, 97.20%); border: none;\">\n",
       "            <td style=\"padding: 0 1em 0 0.5em; text-align: right; border: none;\">\n",
       "                0.0132\n",
       "                \n",
       "            </td>\n",
       "            <td style=\"padding: 0 0.5em 0 0.5em; text-align: left; border: none;\">\n",
       "                T_data_2_2\n",
       "            </td>\n",
       "        </tr>\n",
       "    \n",
       "        <tr style=\"background-color: hsl(120, 100.00%, 98.59%); border: none;\">\n",
       "            <td style=\"padding: 0 1em 0 0.5em; text-align: right; border: none;\">\n",
       "                0.0049\n",
       "                \n",
       "            </td>\n",
       "            <td style=\"padding: 0 0.5em 0 0.5em; text-align: left; border: none;\">\n",
       "                AH_data\n",
       "            </td>\n",
       "        </tr>\n",
       "    \n",
       "        <tr style=\"background-color: hsl(120, 100.00%, 98.99%); border: none;\">\n",
       "            <td style=\"padding: 0 1em 0 0.5em; text-align: right; border: none;\">\n",
       "                0.0031\n",
       "                \n",
       "            </td>\n",
       "            <td style=\"padding: 0 0.5em 0 0.5em; text-align: left; border: none;\">\n",
       "                T_data_4_1\n",
       "            </td>\n",
       "        </tr>\n",
       "    \n",
       "        <tr style=\"background-color: hsl(120, 100.00%, 99.04%); border: none;\">\n",
       "            <td style=\"padding: 0 1em 0 0.5em; text-align: right; border: none;\">\n",
       "                0.0028\n",
       "                \n",
       "            </td>\n",
       "            <td style=\"padding: 0 0.5em 0 0.5em; text-align: left; border: none;\">\n",
       "                T_data_4_2\n",
       "            </td>\n",
       "        </tr>\n",
       "    \n",
       "        <tr style=\"background-color: hsl(120, 100.00%, 99.06%); border: none;\">\n",
       "            <td style=\"padding: 0 1em 0 0.5em; text-align: right; border: none;\">\n",
       "                0.0028\n",
       "                \n",
       "            </td>\n",
       "            <td style=\"padding: 0 0.5em 0 0.5em; text-align: left; border: none;\">\n",
       "                T_data_4_3\n",
       "            </td>\n",
       "        </tr>\n",
       "    \n",
       "    \n",
       "    </tbody>\n",
       "</table>\n",
       "    \n",
       "\n",
       "    \n",
       "\n",
       "\n",
       "    \n",
       "\n",
       "    \n",
       "\n",
       "    \n",
       "\n",
       "    \n",
       "\n",
       "    \n",
       "\n",
       "    \n",
       "\n",
       "\n",
       "\n"
      ],
      "text/plain": [
       "Explanation(estimator='<catboost.core.CatBoostRegressor object at 0x0000024B7D4A04A8>', description='CatBoost feature importances; \\nvalues are numbers 0 <= x <= 1; all values sum to 1.', error=None, method='feature importances', is_regression=True, targets=None, feature_importances=FeatureImportances(importances=[FeatureWeight(feature='T_data_3_1', weight=0.21831708, std=None, value=None), FeatureWeight(feature='T_data_3_3', weight=0.2174864, std=None, value=None), FeatureWeight(feature='T_data_3_2', weight=0.20976195, std=None, value=None), FeatureWeight(feature='H_data', weight=0.085514255, std=None, value=None), FeatureWeight(feature='T_data_5_1', weight=0.055262174, std=None, value=None), FeatureWeight(feature='T_data_5_2', weight=0.03909138, std=None, value=None), FeatureWeight(feature='T_data_1_2', weight=0.034046255, std=None, value=None), FeatureWeight(feature='T_data_5_3', weight=0.032123696, std=None, value=None), FeatureWeight(feature='T_data_1_3', weight=0.03104815, std=None, value=None), FeatureWeight(feature='T_data_1_1', weight=0.019883156, std=None, value=None), FeatureWeight(feature='T_data_2_3', weight=0.016238973, std=None, value=None), FeatureWeight(feature='T_data_2_1', weight=0.014425051, std=None, value=None), FeatureWeight(feature='T_data_2_2', weight=0.013158225, std=None, value=None), FeatureWeight(feature='AH_data', weight=0.0049483203, std=None, value=None), FeatureWeight(feature='T_data_4_1', weight=0.0030737882, std=None, value=None), FeatureWeight(feature='T_data_4_2', weight=0.0028343105, std=None, value=None), FeatureWeight(feature='T_data_4_3', weight=0.0027867747, std=None, value=None)], remaining=0), decision_tree=None, highlight_spaces=None, transition_features=None, image=None)"
      ]
     },
     "execution_count": 48,
     "metadata": {},
     "output_type": "execute_result"
    }
   ],
   "source": [
    "eli5.explain_weights_catboost(ctb, top=17)"
   ]
  },
  {
   "cell_type": "markdown",
   "metadata": {},
   "source": [
    "### Отчёт"
   ]
  },
  {
   "cell_type": "markdown",
   "metadata": {},
   "source": [
    "#### 1) Датасет"
   ]
  },
  {
   "cell_type": "markdown",
   "metadata": {},
   "source": [
    "На этапе предобработки данных значения температуры меньше 100 градусов были заменены на среднее по двум другим датчикам в той же камере. Далее данные ресемплированы по часу с усреднением."
   ]
  },
  {
   "cell_type": "markdown",
   "metadata": {},
   "source": [
    "- Итоговый датасет состоит из 18 признаков и 29184 строк.\n",
    "- Временной интервал `2015-01-04 00:05:00 - 2018-05-03 23:05:00`\n",
    "- Обучающая и тестовая выборка в соотношении 70:30 - 20428 и 8756 строк.\n",
    "- 15 признаков - усредненные показания температуры трёх датчиков в каждой из пяти камер\n",
    "- 1 признак - усредненная высота слоя\n",
    "- 1 признак - усредненная влажность сырья\n",
    "- 1 целевой признак - качество продукции"
   ]
  },
  {
   "cell_type": "markdown",
   "metadata": {},
   "source": [
    "#### 2) Модели\n",
    "- Обучены пять моделей. Результаты MAE на тестовой выборке: CatBoostRegressor - 7.5, LGBMRegressor - 8.2, XGBRegressor - 8.3, RandomForestRegressor - 12.1, LinearRegression - 13.3\n",
    "- На тестовой выборке лучшего значения MAE 7.5 удалось достичь используя модель CatBoostRegressor с гиперпараметрами {'depth': 6, 'learning_rate': 0.07, 'n_estimators': 1000} \n",
    "- Наиболее значимые признаки для лучшей модели: показания трёх датчиков температуры в камере 3 - суммарно около 65%, высота слоя - 8,5%"
   ]
  },
  {
   "cell_type": "markdown",
   "metadata": {},
   "source": [
    "### Предсказание"
   ]
  },
  {
   "cell_type": "markdown",
   "metadata": {},
   "source": [
    "Использую модель CatBoostRegressor с гиперпараметрами {'depth': 6, 'learning_rate': 0.07, 'n_estimators': 1000}. Обучение на всём датасете."
   ]
  },
  {
   "cell_type": "code",
   "execution_count": 58,
   "metadata": {},
   "outputs": [
    {
     "data": {
      "text/plain": [
       "<catboost.core.CatBoostRegressor at 0x24b60fbb9b0>"
      ]
     },
     "execution_count": 58,
     "metadata": {},
     "output_type": "execute_result"
    }
   ],
   "source": [
    "ctb_submit = CatBoostRegressor(random_state=SEED, silent=True, depth=6, learning_rate=0.07, n_estimators=1000)\n",
    "ctb_submit.fit(df_train, y)"
   ]
  },
  {
   "cell_type": "code",
   "execution_count": 59,
   "metadata": {},
   "outputs": [],
   "source": [
    "y_submit['predictions'] = ctb_submit.predict(df_submit)"
   ]
  },
  {
   "cell_type": "code",
   "execution_count": 60,
   "metadata": {},
   "outputs": [],
   "source": [
    "y_submit = y_submit.drop('y', axis=1)"
   ]
  },
  {
   "cell_type": "code",
   "execution_count": 61,
   "metadata": {},
   "outputs": [
    {
     "data": {
      "text/html": [
       "<div>\n",
       "<style scoped>\n",
       "    .dataframe tbody tr th:only-of-type {\n",
       "        vertical-align: middle;\n",
       "    }\n",
       "\n",
       "    .dataframe tbody tr th {\n",
       "        vertical-align: top;\n",
       "    }\n",
       "\n",
       "    .dataframe thead th {\n",
       "        text-align: right;\n",
       "    }\n",
       "</style>\n",
       "<table border=\"1\" class=\"dataframe\">\n",
       "  <thead>\n",
       "    <tr style=\"text-align: right;\">\n",
       "      <th></th>\n",
       "      <th>predictions</th>\n",
       "    </tr>\n",
       "  </thead>\n",
       "  <tbody>\n",
       "    <tr>\n",
       "      <th>2018-05-04 00:05:00</th>\n",
       "      <td>449.55324</td>\n",
       "    </tr>\n",
       "    <tr>\n",
       "      <th>2018-05-04 01:05:00</th>\n",
       "      <td>442.89885</td>\n",
       "    </tr>\n",
       "    <tr>\n",
       "      <th>2018-05-04 02:05:00</th>\n",
       "      <td>436.38604</td>\n",
       "    </tr>\n",
       "    <tr>\n",
       "      <th>2018-05-04 03:05:00</th>\n",
       "      <td>412.81239</td>\n",
       "    </tr>\n",
       "    <tr>\n",
       "      <th>2018-05-04 04:05:00</th>\n",
       "      <td>411.77652</td>\n",
       "    </tr>\n",
       "  </tbody>\n",
       "</table>\n",
       "</div>"
      ],
      "text/plain": [
       "                     predictions\n",
       "2018-05-04 00:05:00    449.55324\n",
       "2018-05-04 01:05:00    442.89885\n",
       "2018-05-04 02:05:00    436.38604\n",
       "2018-05-04 03:05:00    412.81239\n",
       "2018-05-04 04:05:00    411.77652"
      ]
     },
     "execution_count": 61,
     "metadata": {},
     "output_type": "execute_result"
    }
   ],
   "source": [
    "y_submit.head()"
   ]
  },
  {
   "cell_type": "code",
   "execution_count": 64,
   "metadata": {},
   "outputs": [],
   "source": [
    "y_submit.to_csv('submit.csv')"
   ]
  }
 ],
 "metadata": {
  "kernelspec": {
   "display_name": "Python 3",
   "language": "python",
   "name": "python3"
  },
  "language_info": {
   "codemirror_mode": {
    "name": "ipython",
    "version": 3
   },
   "file_extension": ".py",
   "mimetype": "text/x-python",
   "name": "python",
   "nbconvert_exporter": "python",
   "pygments_lexer": "ipython3",
   "version": "3.7.3"
  }
 },
 "nbformat": 4,
 "nbformat_minor": 2
}
